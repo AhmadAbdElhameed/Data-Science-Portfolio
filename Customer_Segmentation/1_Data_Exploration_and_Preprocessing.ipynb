{
 "cells": [
  {
   "cell_type": "markdown",
   "id": "37178502",
   "metadata": {},
   "source": [
    "In this project, you will apply unsupervised learning techniques to identify segments of the population that form the core customer base for a mail-order sales company in Germany. These segments can then be used to direct marketing campaigns towards audiences that will have the highest expected rate of returns. The data that you will use has been provided by our partners at Bertelsmann Arvato Analytics, and represents a real-life data science task."
   ]
  },
  {
   "cell_type": "markdown",
   "id": "1ff3bea0",
   "metadata": {},
   "source": [
    "The first step in working with any dataset is loading the data in and noting what information is included in the dataset. This is an important step in eventually working with any data, and knowing what kinds of features we have to work with. In this notebook, we'll explore the data and observe the patterns in the data.\n",
    "\n",
    "<br>1- Read data\n",
    "<br>2- Study each attribute and it's characteristics:\n",
    "    <br>    - *Name*\n",
    "    <br>    - *Type*\n",
    "    <br>    - *Missing values*\n",
    "    <br>    - *Noisiness and type (stochastic, outliers, rounding errors, etc)*\n",
    "    <br>    - *Type of distribution*\n",
    "<br>3- Identify target attributes\n",
    "<br>4- Visualize the data\n",
    "<br>5- Study correlation between attributes\n",
    "<br>6- Identify promissing transformations"
   ]
  },
  {
   "cell_type": "code",
   "execution_count": 1,
   "id": "7193e6fc",
   "metadata": {},
   "outputs": [],
   "source": [
    "# import libraries here; add more as necessary\n",
    "import numpy as np\n",
    "import pandas as pd\n",
    "import matplotlib.pyplot as plt\n",
    "import seaborn as sns\n",
    "#from sklearn.preprocessing import StandardScaler, Imputer\n",
    "from sklearn.decomposition import PCA\n",
    "from sklearn.cluster import KMeans\n",
    "\n",
    "# magic word for producing visualizations in notebook\n",
    "%matplotlib inline"
   ]
  },
  {
   "cell_type": "code",
   "execution_count": 71,
   "id": "59218c23",
   "metadata": {},
   "outputs": [],
   "source": [
    "import io\n",
    "import os\n",
    "import gc\n",
    "\n",
    "import pandas as pd\n",
    "import numpy as np\n",
    "import pickle\n",
    "import joblib\n",
    "\n",
    "from sklearn.impute import SimpleImputer\n",
    "from sklearn.preprocessing import LabelEncoder, StandardScaler\n"
   ]
  },
  {
   "cell_type": "code",
   "execution_count": 2,
   "id": "78431fda",
   "metadata": {},
   "outputs": [
    {
     "name": "stderr",
     "output_type": "stream",
     "text": [
      "C:\\Users\\Ahmad Abd Elhameed\\Anaconda3\\envs\\nlp\\lib\\site-packages\\IPython\\core\\interactiveshell.py:3072: DtypeWarning: Columns (19,20) have mixed types.Specify dtype option on import or set low_memory=False.\n",
      "  interactivity=interactivity, compiler=compiler, result=result)\n"
     ]
    }
   ],
   "source": [
    "azdias = pd.read_csv('azdias.csv')\n",
    "customers = pd.read_csv('customers.csv')"
   ]
  },
  {
   "cell_type": "code",
   "execution_count": 3,
   "id": "59f218df",
   "metadata": {},
   "outputs": [
    {
     "name": "stdout",
     "output_type": "stream",
     "text": [
      "AZDIAS Shape: (891221, 367)\n",
      "CUSTOMER Shape: (191652, 370)\n"
     ]
    }
   ],
   "source": [
    "# number of rows and columns in dataset\n",
    "print(\"AZDIAS Shape: {}\".format(azdias.shape))\n",
    "print(\"CUSTOMER Shape: {}\".format(customers.shape))"
   ]
  },
  {
   "cell_type": "code",
   "execution_count": 4,
   "id": "9a566e5b",
   "metadata": {},
   "outputs": [
    {
     "data": {
      "text/html": [
       "<div>\n",
       "<style scoped>\n",
       "    .dataframe tbody tr th:only-of-type {\n",
       "        vertical-align: middle;\n",
       "    }\n",
       "\n",
       "    .dataframe tbody tr th {\n",
       "        vertical-align: top;\n",
       "    }\n",
       "\n",
       "    .dataframe thead th {\n",
       "        text-align: right;\n",
       "    }\n",
       "</style>\n",
       "<table border=\"1\" class=\"dataframe\">\n",
       "  <thead>\n",
       "    <tr style=\"text-align: right;\">\n",
       "      <th></th>\n",
       "      <th>Unnamed: 0</th>\n",
       "      <th>LNR</th>\n",
       "      <th>AGER_TYP</th>\n",
       "      <th>AKT_DAT_KL</th>\n",
       "      <th>ALTER_HH</th>\n",
       "      <th>ALTER_KIND1</th>\n",
       "      <th>ALTER_KIND2</th>\n",
       "      <th>ALTER_KIND3</th>\n",
       "      <th>ALTER_KIND4</th>\n",
       "      <th>ALTERSKATEGORIE_FEIN</th>\n",
       "      <th>...</th>\n",
       "      <th>VHN</th>\n",
       "      <th>VK_DHT4A</th>\n",
       "      <th>VK_DISTANZ</th>\n",
       "      <th>VK_ZG11</th>\n",
       "      <th>W_KEIT_KIND_HH</th>\n",
       "      <th>WOHNDAUER_2008</th>\n",
       "      <th>WOHNLAGE</th>\n",
       "      <th>ZABEOTYP</th>\n",
       "      <th>ANREDE_KZ</th>\n",
       "      <th>ALTERSKATEGORIE_GROB</th>\n",
       "    </tr>\n",
       "  </thead>\n",
       "  <tbody>\n",
       "    <tr>\n",
       "      <th>0</th>\n",
       "      <td>0</td>\n",
       "      <td>910215</td>\n",
       "      <td>-1</td>\n",
       "      <td>NaN</td>\n",
       "      <td>NaN</td>\n",
       "      <td>NaN</td>\n",
       "      <td>NaN</td>\n",
       "      <td>NaN</td>\n",
       "      <td>NaN</td>\n",
       "      <td>NaN</td>\n",
       "      <td>...</td>\n",
       "      <td>NaN</td>\n",
       "      <td>NaN</td>\n",
       "      <td>NaN</td>\n",
       "      <td>NaN</td>\n",
       "      <td>NaN</td>\n",
       "      <td>NaN</td>\n",
       "      <td>NaN</td>\n",
       "      <td>3</td>\n",
       "      <td>1</td>\n",
       "      <td>2</td>\n",
       "    </tr>\n",
       "    <tr>\n",
       "      <th>1</th>\n",
       "      <td>1</td>\n",
       "      <td>910220</td>\n",
       "      <td>-1</td>\n",
       "      <td>9.0</td>\n",
       "      <td>0.0</td>\n",
       "      <td>NaN</td>\n",
       "      <td>NaN</td>\n",
       "      <td>NaN</td>\n",
       "      <td>NaN</td>\n",
       "      <td>21.0</td>\n",
       "      <td>...</td>\n",
       "      <td>4.0</td>\n",
       "      <td>8.0</td>\n",
       "      <td>11.0</td>\n",
       "      <td>10.0</td>\n",
       "      <td>3.0</td>\n",
       "      <td>9.0</td>\n",
       "      <td>4.0</td>\n",
       "      <td>5</td>\n",
       "      <td>2</td>\n",
       "      <td>1</td>\n",
       "    </tr>\n",
       "    <tr>\n",
       "      <th>2</th>\n",
       "      <td>2</td>\n",
       "      <td>910225</td>\n",
       "      <td>-1</td>\n",
       "      <td>9.0</td>\n",
       "      <td>17.0</td>\n",
       "      <td>NaN</td>\n",
       "      <td>NaN</td>\n",
       "      <td>NaN</td>\n",
       "      <td>NaN</td>\n",
       "      <td>17.0</td>\n",
       "      <td>...</td>\n",
       "      <td>2.0</td>\n",
       "      <td>9.0</td>\n",
       "      <td>9.0</td>\n",
       "      <td>6.0</td>\n",
       "      <td>3.0</td>\n",
       "      <td>9.0</td>\n",
       "      <td>2.0</td>\n",
       "      <td>5</td>\n",
       "      <td>2</td>\n",
       "      <td>3</td>\n",
       "    </tr>\n",
       "    <tr>\n",
       "      <th>3</th>\n",
       "      <td>3</td>\n",
       "      <td>910226</td>\n",
       "      <td>2</td>\n",
       "      <td>1.0</td>\n",
       "      <td>13.0</td>\n",
       "      <td>NaN</td>\n",
       "      <td>NaN</td>\n",
       "      <td>NaN</td>\n",
       "      <td>NaN</td>\n",
       "      <td>13.0</td>\n",
       "      <td>...</td>\n",
       "      <td>0.0</td>\n",
       "      <td>7.0</td>\n",
       "      <td>10.0</td>\n",
       "      <td>11.0</td>\n",
       "      <td>NaN</td>\n",
       "      <td>9.0</td>\n",
       "      <td>7.0</td>\n",
       "      <td>3</td>\n",
       "      <td>2</td>\n",
       "      <td>4</td>\n",
       "    </tr>\n",
       "    <tr>\n",
       "      <th>4</th>\n",
       "      <td>4</td>\n",
       "      <td>910241</td>\n",
       "      <td>-1</td>\n",
       "      <td>1.0</td>\n",
       "      <td>20.0</td>\n",
       "      <td>NaN</td>\n",
       "      <td>NaN</td>\n",
       "      <td>NaN</td>\n",
       "      <td>NaN</td>\n",
       "      <td>14.0</td>\n",
       "      <td>...</td>\n",
       "      <td>2.0</td>\n",
       "      <td>3.0</td>\n",
       "      <td>5.0</td>\n",
       "      <td>4.0</td>\n",
       "      <td>2.0</td>\n",
       "      <td>9.0</td>\n",
       "      <td>3.0</td>\n",
       "      <td>4</td>\n",
       "      <td>1</td>\n",
       "      <td>3</td>\n",
       "    </tr>\n",
       "  </tbody>\n",
       "</table>\n",
       "<p>5 rows × 367 columns</p>\n",
       "</div>"
      ],
      "text/plain": [
       "   Unnamed: 0     LNR  AGER_TYP  AKT_DAT_KL  ALTER_HH  ALTER_KIND1  \\\n",
       "0           0  910215        -1         NaN       NaN          NaN   \n",
       "1           1  910220        -1         9.0       0.0          NaN   \n",
       "2           2  910225        -1         9.0      17.0          NaN   \n",
       "3           3  910226         2         1.0      13.0          NaN   \n",
       "4           4  910241        -1         1.0      20.0          NaN   \n",
       "\n",
       "   ALTER_KIND2  ALTER_KIND3  ALTER_KIND4  ALTERSKATEGORIE_FEIN  ...  VHN  \\\n",
       "0          NaN          NaN          NaN                   NaN  ...  NaN   \n",
       "1          NaN          NaN          NaN                  21.0  ...  4.0   \n",
       "2          NaN          NaN          NaN                  17.0  ...  2.0   \n",
       "3          NaN          NaN          NaN                  13.0  ...  0.0   \n",
       "4          NaN          NaN          NaN                  14.0  ...  2.0   \n",
       "\n",
       "   VK_DHT4A  VK_DISTANZ  VK_ZG11  W_KEIT_KIND_HH  WOHNDAUER_2008  WOHNLAGE  \\\n",
       "0       NaN         NaN      NaN             NaN             NaN       NaN   \n",
       "1       8.0        11.0     10.0             3.0             9.0       4.0   \n",
       "2       9.0         9.0      6.0             3.0             9.0       2.0   \n",
       "3       7.0        10.0     11.0             NaN             9.0       7.0   \n",
       "4       3.0         5.0      4.0             2.0             9.0       3.0   \n",
       "\n",
       "   ZABEOTYP ANREDE_KZ ALTERSKATEGORIE_GROB  \n",
       "0         3         1                    2  \n",
       "1         5         2                    1  \n",
       "2         5         2                    3  \n",
       "3         3         2                    4  \n",
       "4         4         1                    3  \n",
       "\n",
       "[5 rows x 367 columns]"
      ]
     },
     "execution_count": 4,
     "metadata": {},
     "output_type": "execute_result"
    }
   ],
   "source": [
    "azdias.head()"
   ]
  },
  {
   "cell_type": "code",
   "execution_count": 5,
   "id": "e373d119",
   "metadata": {},
   "outputs": [
    {
     "data": {
      "text/html": [
       "<div>\n",
       "<style scoped>\n",
       "    .dataframe tbody tr th:only-of-type {\n",
       "        vertical-align: middle;\n",
       "    }\n",
       "\n",
       "    .dataframe tbody tr th {\n",
       "        vertical-align: top;\n",
       "    }\n",
       "\n",
       "    .dataframe thead th {\n",
       "        text-align: right;\n",
       "    }\n",
       "</style>\n",
       "<table border=\"1\" class=\"dataframe\">\n",
       "  <thead>\n",
       "    <tr style=\"text-align: right;\">\n",
       "      <th></th>\n",
       "      <th>Unnamed: 0</th>\n",
       "      <th>LNR</th>\n",
       "      <th>AGER_TYP</th>\n",
       "      <th>AKT_DAT_KL</th>\n",
       "      <th>ALTER_HH</th>\n",
       "      <th>ALTER_KIND1</th>\n",
       "      <th>ALTER_KIND2</th>\n",
       "      <th>ALTER_KIND3</th>\n",
       "      <th>ALTER_KIND4</th>\n",
       "      <th>ALTERSKATEGORIE_FEIN</th>\n",
       "      <th>...</th>\n",
       "      <th>VK_ZG11</th>\n",
       "      <th>W_KEIT_KIND_HH</th>\n",
       "      <th>WOHNDAUER_2008</th>\n",
       "      <th>WOHNLAGE</th>\n",
       "      <th>ZABEOTYP</th>\n",
       "      <th>PRODUCT_GROUP</th>\n",
       "      <th>CUSTOMER_GROUP</th>\n",
       "      <th>ONLINE_PURCHASE</th>\n",
       "      <th>ANREDE_KZ</th>\n",
       "      <th>ALTERSKATEGORIE_GROB</th>\n",
       "    </tr>\n",
       "  </thead>\n",
       "  <tbody>\n",
       "    <tr>\n",
       "      <th>0</th>\n",
       "      <td>0</td>\n",
       "      <td>9626</td>\n",
       "      <td>2</td>\n",
       "      <td>1.0</td>\n",
       "      <td>10.0</td>\n",
       "      <td>NaN</td>\n",
       "      <td>NaN</td>\n",
       "      <td>NaN</td>\n",
       "      <td>NaN</td>\n",
       "      <td>10.0</td>\n",
       "      <td>...</td>\n",
       "      <td>2.0</td>\n",
       "      <td>6.0</td>\n",
       "      <td>9.0</td>\n",
       "      <td>7.0</td>\n",
       "      <td>3</td>\n",
       "      <td>COSMETIC_AND_FOOD</td>\n",
       "      <td>MULTI_BUYER</td>\n",
       "      <td>0</td>\n",
       "      <td>1</td>\n",
       "      <td>4</td>\n",
       "    </tr>\n",
       "    <tr>\n",
       "      <th>1</th>\n",
       "      <td>1</td>\n",
       "      <td>9628</td>\n",
       "      <td>-1</td>\n",
       "      <td>9.0</td>\n",
       "      <td>11.0</td>\n",
       "      <td>NaN</td>\n",
       "      <td>NaN</td>\n",
       "      <td>NaN</td>\n",
       "      <td>NaN</td>\n",
       "      <td>NaN</td>\n",
       "      <td>...</td>\n",
       "      <td>3.0</td>\n",
       "      <td>0.0</td>\n",
       "      <td>9.0</td>\n",
       "      <td>NaN</td>\n",
       "      <td>3</td>\n",
       "      <td>FOOD</td>\n",
       "      <td>SINGLE_BUYER</td>\n",
       "      <td>0</td>\n",
       "      <td>1</td>\n",
       "      <td>4</td>\n",
       "    </tr>\n",
       "    <tr>\n",
       "      <th>2</th>\n",
       "      <td>2</td>\n",
       "      <td>143872</td>\n",
       "      <td>-1</td>\n",
       "      <td>1.0</td>\n",
       "      <td>6.0</td>\n",
       "      <td>NaN</td>\n",
       "      <td>NaN</td>\n",
       "      <td>NaN</td>\n",
       "      <td>NaN</td>\n",
       "      <td>0.0</td>\n",
       "      <td>...</td>\n",
       "      <td>11.0</td>\n",
       "      <td>6.0</td>\n",
       "      <td>9.0</td>\n",
       "      <td>2.0</td>\n",
       "      <td>3</td>\n",
       "      <td>COSMETIC_AND_FOOD</td>\n",
       "      <td>MULTI_BUYER</td>\n",
       "      <td>0</td>\n",
       "      <td>2</td>\n",
       "      <td>4</td>\n",
       "    </tr>\n",
       "    <tr>\n",
       "      <th>3</th>\n",
       "      <td>3</td>\n",
       "      <td>143873</td>\n",
       "      <td>1</td>\n",
       "      <td>1.0</td>\n",
       "      <td>8.0</td>\n",
       "      <td>NaN</td>\n",
       "      <td>NaN</td>\n",
       "      <td>NaN</td>\n",
       "      <td>NaN</td>\n",
       "      <td>8.0</td>\n",
       "      <td>...</td>\n",
       "      <td>2.0</td>\n",
       "      <td>NaN</td>\n",
       "      <td>9.0</td>\n",
       "      <td>7.0</td>\n",
       "      <td>1</td>\n",
       "      <td>COSMETIC</td>\n",
       "      <td>MULTI_BUYER</td>\n",
       "      <td>0</td>\n",
       "      <td>1</td>\n",
       "      <td>4</td>\n",
       "    </tr>\n",
       "    <tr>\n",
       "      <th>4</th>\n",
       "      <td>4</td>\n",
       "      <td>143874</td>\n",
       "      <td>-1</td>\n",
       "      <td>1.0</td>\n",
       "      <td>20.0</td>\n",
       "      <td>NaN</td>\n",
       "      <td>NaN</td>\n",
       "      <td>NaN</td>\n",
       "      <td>NaN</td>\n",
       "      <td>14.0</td>\n",
       "      <td>...</td>\n",
       "      <td>4.0</td>\n",
       "      <td>2.0</td>\n",
       "      <td>9.0</td>\n",
       "      <td>3.0</td>\n",
       "      <td>1</td>\n",
       "      <td>FOOD</td>\n",
       "      <td>MULTI_BUYER</td>\n",
       "      <td>0</td>\n",
       "      <td>1</td>\n",
       "      <td>3</td>\n",
       "    </tr>\n",
       "  </tbody>\n",
       "</table>\n",
       "<p>5 rows × 370 columns</p>\n",
       "</div>"
      ],
      "text/plain": [
       "   Unnamed: 0     LNR  AGER_TYP  AKT_DAT_KL  ALTER_HH  ALTER_KIND1  \\\n",
       "0           0    9626         2         1.0      10.0          NaN   \n",
       "1           1    9628        -1         9.0      11.0          NaN   \n",
       "2           2  143872        -1         1.0       6.0          NaN   \n",
       "3           3  143873         1         1.0       8.0          NaN   \n",
       "4           4  143874        -1         1.0      20.0          NaN   \n",
       "\n",
       "   ALTER_KIND2  ALTER_KIND3  ALTER_KIND4  ALTERSKATEGORIE_FEIN  ...  VK_ZG11  \\\n",
       "0          NaN          NaN          NaN                  10.0  ...      2.0   \n",
       "1          NaN          NaN          NaN                   NaN  ...      3.0   \n",
       "2          NaN          NaN          NaN                   0.0  ...     11.0   \n",
       "3          NaN          NaN          NaN                   8.0  ...      2.0   \n",
       "4          NaN          NaN          NaN                  14.0  ...      4.0   \n",
       "\n",
       "   W_KEIT_KIND_HH  WOHNDAUER_2008  WOHNLAGE  ZABEOTYP      PRODUCT_GROUP  \\\n",
       "0             6.0             9.0       7.0         3  COSMETIC_AND_FOOD   \n",
       "1             0.0             9.0       NaN         3               FOOD   \n",
       "2             6.0             9.0       2.0         3  COSMETIC_AND_FOOD   \n",
       "3             NaN             9.0       7.0         1           COSMETIC   \n",
       "4             2.0             9.0       3.0         1               FOOD   \n",
       "\n",
       "   CUSTOMER_GROUP  ONLINE_PURCHASE ANREDE_KZ ALTERSKATEGORIE_GROB  \n",
       "0     MULTI_BUYER                0         1                    4  \n",
       "1    SINGLE_BUYER                0         1                    4  \n",
       "2     MULTI_BUYER                0         2                    4  \n",
       "3     MULTI_BUYER                0         1                    4  \n",
       "4     MULTI_BUYER                0         1                    3  \n",
       "\n",
       "[5 rows x 370 columns]"
      ]
     },
     "execution_count": 5,
     "metadata": {},
     "output_type": "execute_result"
    }
   ],
   "source": [
    "customers.head()"
   ]
  },
  {
   "cell_type": "code",
   "execution_count": 6,
   "id": "b7829927",
   "metadata": {},
   "outputs": [],
   "source": [
    "values = pd.read_excel(\"DIAS Attributes - Values 2017.xlsx\",engine='openpyxl',header = 0)"
   ]
  },
  {
   "cell_type": "code",
   "execution_count": 7,
   "id": "b46770c7",
   "metadata": {},
   "outputs": [
    {
     "data": {
      "text/html": [
       "<div>\n",
       "<style scoped>\n",
       "    .dataframe tbody tr th:only-of-type {\n",
       "        vertical-align: middle;\n",
       "    }\n",
       "\n",
       "    .dataframe tbody tr th {\n",
       "        vertical-align: top;\n",
       "    }\n",
       "\n",
       "    .dataframe thead th {\n",
       "        text-align: right;\n",
       "    }\n",
       "</style>\n",
       "<table border=\"1\" class=\"dataframe\">\n",
       "  <thead>\n",
       "    <tr style=\"text-align: right;\">\n",
       "      <th></th>\n",
       "      <th>Unnamed: 0</th>\n",
       "      <th>Unnamed: 1</th>\n",
       "      <th>Unnamed: 2</th>\n",
       "      <th>Unnamed: 3</th>\n",
       "      <th>Unnamed: 4</th>\n",
       "    </tr>\n",
       "  </thead>\n",
       "  <tbody>\n",
       "    <tr>\n",
       "      <th>0</th>\n",
       "      <td>NaN</td>\n",
       "      <td>Attribute</td>\n",
       "      <td>Description</td>\n",
       "      <td>Value</td>\n",
       "      <td>Meaning</td>\n",
       "    </tr>\n",
       "    <tr>\n",
       "      <th>1</th>\n",
       "      <td>NaN</td>\n",
       "      <td>AGER_TYP</td>\n",
       "      <td>best-ager typology</td>\n",
       "      <td>-1</td>\n",
       "      <td>unknown</td>\n",
       "    </tr>\n",
       "    <tr>\n",
       "      <th>2</th>\n",
       "      <td>NaN</td>\n",
       "      <td>NaN</td>\n",
       "      <td>NaN</td>\n",
       "      <td>0</td>\n",
       "      <td>no classification possible</td>\n",
       "    </tr>\n",
       "    <tr>\n",
       "      <th>3</th>\n",
       "      <td>NaN</td>\n",
       "      <td>NaN</td>\n",
       "      <td>NaN</td>\n",
       "      <td>1</td>\n",
       "      <td>passive elderly</td>\n",
       "    </tr>\n",
       "    <tr>\n",
       "      <th>4</th>\n",
       "      <td>NaN</td>\n",
       "      <td>NaN</td>\n",
       "      <td>NaN</td>\n",
       "      <td>2</td>\n",
       "      <td>cultural elderly</td>\n",
       "    </tr>\n",
       "  </tbody>\n",
       "</table>\n",
       "</div>"
      ],
      "text/plain": [
       "   Unnamed: 0 Unnamed: 1          Unnamed: 2 Unnamed: 3  \\\n",
       "0         NaN  Attribute         Description      Value   \n",
       "1         NaN   AGER_TYP  best-ager typology         -1   \n",
       "2         NaN        NaN                 NaN          0   \n",
       "3         NaN        NaN                 NaN          1   \n",
       "4         NaN        NaN                 NaN          2   \n",
       "\n",
       "                   Unnamed: 4  \n",
       "0                     Meaning  \n",
       "1                     unknown  \n",
       "2  no classification possible  \n",
       "3             passive elderly  \n",
       "4            cultural elderly  "
      ]
     },
     "execution_count": 7,
     "metadata": {},
     "output_type": "execute_result"
    }
   ],
   "source": [
    "values.head()"
   ]
  },
  {
   "cell_type": "code",
   "execution_count": 8,
   "id": "d28ed10c",
   "metadata": {},
   "outputs": [],
   "source": [
    "values.drop('Unnamed: 0',axis = 1,inplace = True)"
   ]
  },
  {
   "cell_type": "code",
   "execution_count": 9,
   "id": "0bc84d97",
   "metadata": {},
   "outputs": [],
   "source": [
    "values.columns = [\"Attribute\",\"Description\",\"Value\",\"Meaning\"]"
   ]
  },
  {
   "cell_type": "code",
   "execution_count": 10,
   "id": "74b4f554",
   "metadata": {},
   "outputs": [],
   "source": [
    "# Drop first row \n",
    "# by selecting all rows from first row onwards\n",
    "values = values.iloc[1: , :]"
   ]
  },
  {
   "cell_type": "code",
   "execution_count": 11,
   "id": "8fbab75a",
   "metadata": {},
   "outputs": [
    {
     "data": {
      "text/html": [
       "<div>\n",
       "<style scoped>\n",
       "    .dataframe tbody tr th:only-of-type {\n",
       "        vertical-align: middle;\n",
       "    }\n",
       "\n",
       "    .dataframe tbody tr th {\n",
       "        vertical-align: top;\n",
       "    }\n",
       "\n",
       "    .dataframe thead th {\n",
       "        text-align: right;\n",
       "    }\n",
       "</style>\n",
       "<table border=\"1\" class=\"dataframe\">\n",
       "  <thead>\n",
       "    <tr style=\"text-align: right;\">\n",
       "      <th></th>\n",
       "      <th>Attribute</th>\n",
       "      <th>Description</th>\n",
       "      <th>Value</th>\n",
       "      <th>Meaning</th>\n",
       "    </tr>\n",
       "  </thead>\n",
       "  <tbody>\n",
       "    <tr>\n",
       "      <th>1</th>\n",
       "      <td>AGER_TYP</td>\n",
       "      <td>best-ager typology</td>\n",
       "      <td>-1</td>\n",
       "      <td>unknown</td>\n",
       "    </tr>\n",
       "    <tr>\n",
       "      <th>2</th>\n",
       "      <td>NaN</td>\n",
       "      <td>NaN</td>\n",
       "      <td>0</td>\n",
       "      <td>no classification possible</td>\n",
       "    </tr>\n",
       "    <tr>\n",
       "      <th>3</th>\n",
       "      <td>NaN</td>\n",
       "      <td>NaN</td>\n",
       "      <td>1</td>\n",
       "      <td>passive elderly</td>\n",
       "    </tr>\n",
       "    <tr>\n",
       "      <th>4</th>\n",
       "      <td>NaN</td>\n",
       "      <td>NaN</td>\n",
       "      <td>2</td>\n",
       "      <td>cultural elderly</td>\n",
       "    </tr>\n",
       "    <tr>\n",
       "      <th>5</th>\n",
       "      <td>NaN</td>\n",
       "      <td>NaN</td>\n",
       "      <td>3</td>\n",
       "      <td>experience-driven elderly</td>\n",
       "    </tr>\n",
       "    <tr>\n",
       "      <th>6</th>\n",
       "      <td>ALTERSKATEGORIE_GROB</td>\n",
       "      <td>age classification through prename analysis</td>\n",
       "      <td>-1, 0</td>\n",
       "      <td>unknown</td>\n",
       "    </tr>\n",
       "    <tr>\n",
       "      <th>7</th>\n",
       "      <td>NaN</td>\n",
       "      <td>NaN</td>\n",
       "      <td>1</td>\n",
       "      <td>&lt; 30 years</td>\n",
       "    </tr>\n",
       "    <tr>\n",
       "      <th>8</th>\n",
       "      <td>NaN</td>\n",
       "      <td>NaN</td>\n",
       "      <td>2</td>\n",
       "      <td>30 - 45 years</td>\n",
       "    </tr>\n",
       "    <tr>\n",
       "      <th>9</th>\n",
       "      <td>NaN</td>\n",
       "      <td>NaN</td>\n",
       "      <td>3</td>\n",
       "      <td>46 - 60 years</td>\n",
       "    </tr>\n",
       "    <tr>\n",
       "      <th>10</th>\n",
       "      <td>NaN</td>\n",
       "      <td>NaN</td>\n",
       "      <td>4</td>\n",
       "      <td>&gt; 60 years</td>\n",
       "    </tr>\n",
       "  </tbody>\n",
       "</table>\n",
       "</div>"
      ],
      "text/plain": [
       "               Attribute                                   Description  Value  \\\n",
       "1               AGER_TYP                            best-ager typology     -1   \n",
       "2                    NaN                                           NaN      0   \n",
       "3                    NaN                                           NaN      1   \n",
       "4                    NaN                                           NaN      2   \n",
       "5                    NaN                                           NaN      3   \n",
       "6   ALTERSKATEGORIE_GROB  age classification through prename analysis   -1, 0   \n",
       "7                    NaN                                           NaN      1   \n",
       "8                    NaN                                           NaN      2   \n",
       "9                    NaN                                           NaN      3   \n",
       "10                   NaN                                           NaN      4   \n",
       "\n",
       "                       Meaning  \n",
       "1                      unknown  \n",
       "2   no classification possible  \n",
       "3              passive elderly  \n",
       "4             cultural elderly  \n",
       "5    experience-driven elderly  \n",
       "6                      unknown  \n",
       "7                   < 30 years  \n",
       "8                30 - 45 years  \n",
       "9                46 - 60 years  \n",
       "10                  > 60 years  "
      ]
     },
     "execution_count": 11,
     "metadata": {},
     "output_type": "execute_result"
    }
   ],
   "source": [
    "values.head(10)"
   ]
  },
  {
   "cell_type": "code",
   "execution_count": 12,
   "id": "7906d767",
   "metadata": {},
   "outputs": [],
   "source": [
    "info = pd.read_excel(\"DIAS Information Levels - Attributes 2017.xlsx\",engine='openpyxl',header = 0)"
   ]
  },
  {
   "cell_type": "code",
   "execution_count": 13,
   "id": "d2821df1",
   "metadata": {},
   "outputs": [
    {
     "data": {
      "text/html": [
       "<div>\n",
       "<style scoped>\n",
       "    .dataframe tbody tr th:only-of-type {\n",
       "        vertical-align: middle;\n",
       "    }\n",
       "\n",
       "    .dataframe tbody tr th {\n",
       "        vertical-align: top;\n",
       "    }\n",
       "\n",
       "    .dataframe thead th {\n",
       "        text-align: right;\n",
       "    }\n",
       "</style>\n",
       "<table border=\"1\" class=\"dataframe\">\n",
       "  <thead>\n",
       "    <tr style=\"text-align: right;\">\n",
       "      <th></th>\n",
       "      <th>Unnamed: 0</th>\n",
       "      <th>Unnamed: 1</th>\n",
       "      <th>Unnamed: 2</th>\n",
       "      <th>Unnamed: 3</th>\n",
       "      <th>Unnamed: 4</th>\n",
       "    </tr>\n",
       "  </thead>\n",
       "  <tbody>\n",
       "    <tr>\n",
       "      <th>0</th>\n",
       "      <td>NaN</td>\n",
       "      <td>Information level</td>\n",
       "      <td>Attribute</td>\n",
       "      <td>Description</td>\n",
       "      <td>Additional notes</td>\n",
       "    </tr>\n",
       "    <tr>\n",
       "      <th>1</th>\n",
       "      <td>NaN</td>\n",
       "      <td>NaN</td>\n",
       "      <td>AGER_TYP</td>\n",
       "      <td>best-ager typology</td>\n",
       "      <td>in cooperation with Kantar TNS; the informatio...</td>\n",
       "    </tr>\n",
       "    <tr>\n",
       "      <th>2</th>\n",
       "      <td>NaN</td>\n",
       "      <td>Person</td>\n",
       "      <td>ALTERSKATEGORIE_GROB</td>\n",
       "      <td>age through prename analysis</td>\n",
       "      <td>modelled on millions of first name-age-referen...</td>\n",
       "    </tr>\n",
       "    <tr>\n",
       "      <th>3</th>\n",
       "      <td>NaN</td>\n",
       "      <td>NaN</td>\n",
       "      <td>ANREDE_KZ</td>\n",
       "      <td>gender</td>\n",
       "      <td>NaN</td>\n",
       "    </tr>\n",
       "    <tr>\n",
       "      <th>4</th>\n",
       "      <td>NaN</td>\n",
       "      <td>NaN</td>\n",
       "      <td>CJT_GESAMTTYP</td>\n",
       "      <td>Customer-Journey-Typology relating to the pref...</td>\n",
       "      <td>relating to the preferred information, marketi...</td>\n",
       "    </tr>\n",
       "  </tbody>\n",
       "</table>\n",
       "</div>"
      ],
      "text/plain": [
       "   Unnamed: 0         Unnamed: 1            Unnamed: 2  \\\n",
       "0         NaN  Information level             Attribute   \n",
       "1         NaN                NaN              AGER_TYP   \n",
       "2         NaN             Person  ALTERSKATEGORIE_GROB   \n",
       "3         NaN                NaN             ANREDE_KZ   \n",
       "4         NaN                NaN         CJT_GESAMTTYP   \n",
       "\n",
       "                                          Unnamed: 3  \\\n",
       "0                                        Description   \n",
       "1                                 best-ager typology   \n",
       "2                      age through prename analysis    \n",
       "3                                             gender   \n",
       "4  Customer-Journey-Typology relating to the pref...   \n",
       "\n",
       "                                          Unnamed: 4  \n",
       "0                                   Additional notes  \n",
       "1  in cooperation with Kantar TNS; the informatio...  \n",
       "2  modelled on millions of first name-age-referen...  \n",
       "3                                                NaN  \n",
       "4  relating to the preferred information, marketi...  "
      ]
     },
     "execution_count": 13,
     "metadata": {},
     "output_type": "execute_result"
    }
   ],
   "source": [
    "info.head()"
   ]
  },
  {
   "cell_type": "code",
   "execution_count": 14,
   "id": "56aba084",
   "metadata": {},
   "outputs": [
    {
     "data": {
      "text/html": [
       "<div>\n",
       "<style scoped>\n",
       "    .dataframe tbody tr th:only-of-type {\n",
       "        vertical-align: middle;\n",
       "    }\n",
       "\n",
       "    .dataframe tbody tr th {\n",
       "        vertical-align: top;\n",
       "    }\n",
       "\n",
       "    .dataframe thead th {\n",
       "        text-align: right;\n",
       "    }\n",
       "</style>\n",
       "<table border=\"1\" class=\"dataframe\">\n",
       "  <thead>\n",
       "    <tr style=\"text-align: right;\">\n",
       "      <th></th>\n",
       "      <th>Information level</th>\n",
       "      <th>Attribute</th>\n",
       "      <th>Description</th>\n",
       "      <th>Additional notes</th>\n",
       "    </tr>\n",
       "  </thead>\n",
       "  <tbody>\n",
       "    <tr>\n",
       "      <th>1</th>\n",
       "      <td>NaN</td>\n",
       "      <td>AGER_TYP</td>\n",
       "      <td>best-ager typology</td>\n",
       "      <td>in cooperation with Kantar TNS; the informatio...</td>\n",
       "    </tr>\n",
       "    <tr>\n",
       "      <th>2</th>\n",
       "      <td>Person</td>\n",
       "      <td>ALTERSKATEGORIE_GROB</td>\n",
       "      <td>age through prename analysis</td>\n",
       "      <td>modelled on millions of first name-age-referen...</td>\n",
       "    </tr>\n",
       "    <tr>\n",
       "      <th>3</th>\n",
       "      <td>NaN</td>\n",
       "      <td>ANREDE_KZ</td>\n",
       "      <td>gender</td>\n",
       "      <td>NaN</td>\n",
       "    </tr>\n",
       "    <tr>\n",
       "      <th>4</th>\n",
       "      <td>NaN</td>\n",
       "      <td>CJT_GESAMTTYP</td>\n",
       "      <td>Customer-Journey-Typology relating to the pref...</td>\n",
       "      <td>relating to the preferred information, marketi...</td>\n",
       "    </tr>\n",
       "    <tr>\n",
       "      <th>5</th>\n",
       "      <td>NaN</td>\n",
       "      <td>FINANZ_MINIMALIST</td>\n",
       "      <td>financial typology: low financial interest</td>\n",
       "      <td>Gfk-Typology based on a representative househo...</td>\n",
       "    </tr>\n",
       "  </tbody>\n",
       "</table>\n",
       "</div>"
      ],
      "text/plain": [
       "  Information level             Attribute  \\\n",
       "1               NaN              AGER_TYP   \n",
       "2            Person  ALTERSKATEGORIE_GROB   \n",
       "3               NaN             ANREDE_KZ   \n",
       "4               NaN         CJT_GESAMTTYP   \n",
       "5               NaN     FINANZ_MINIMALIST   \n",
       "\n",
       "                                         Description  \\\n",
       "1                                 best-ager typology   \n",
       "2                      age through prename analysis    \n",
       "3                                             gender   \n",
       "4  Customer-Journey-Typology relating to the pref...   \n",
       "5         financial typology: low financial interest   \n",
       "\n",
       "                                    Additional notes  \n",
       "1  in cooperation with Kantar TNS; the informatio...  \n",
       "2  modelled on millions of first name-age-referen...  \n",
       "3                                                NaN  \n",
       "4  relating to the preferred information, marketi...  \n",
       "5  Gfk-Typology based on a representative househo...  "
      ]
     },
     "execution_count": 14,
     "metadata": {},
     "output_type": "execute_result"
    }
   ],
   "source": [
    "info.drop('Unnamed: 0',axis = 1,inplace = True)\n",
    "info.columns = [\"Information level\",\"Attribute\",\"Description\",\"Additional notes\"]\n",
    "# Drop first row \n",
    "# by selecting all rows from first row onwards\n",
    "info = info.iloc[1: , :]\n",
    "info.head()"
   ]
  },
  {
   "cell_type": "code",
   "execution_count": 15,
   "id": "2e20df5f",
   "metadata": {},
   "outputs": [
    {
     "data": {
      "text/html": [
       "<div>\n",
       "<style scoped>\n",
       "    .dataframe tbody tr th:only-of-type {\n",
       "        vertical-align: middle;\n",
       "    }\n",
       "\n",
       "    .dataframe tbody tr th {\n",
       "        vertical-align: top;\n",
       "    }\n",
       "\n",
       "    .dataframe thead th {\n",
       "        text-align: right;\n",
       "    }\n",
       "</style>\n",
       "<table border=\"1\" class=\"dataframe\">\n",
       "  <thead>\n",
       "    <tr style=\"text-align: right;\">\n",
       "      <th></th>\n",
       "      <th>Attribute</th>\n",
       "      <th>Description</th>\n",
       "      <th>Value</th>\n",
       "      <th>Meaning</th>\n",
       "    </tr>\n",
       "  </thead>\n",
       "  <tbody>\n",
       "    <tr>\n",
       "      <th>1</th>\n",
       "      <td>AGER_TYP</td>\n",
       "      <td>best-ager typology</td>\n",
       "      <td>-1</td>\n",
       "      <td>unknown</td>\n",
       "    </tr>\n",
       "    <tr>\n",
       "      <th>2</th>\n",
       "      <td>AGER_TYP</td>\n",
       "      <td>best-ager typology</td>\n",
       "      <td>0</td>\n",
       "      <td>no classification possible</td>\n",
       "    </tr>\n",
       "    <tr>\n",
       "      <th>3</th>\n",
       "      <td>AGER_TYP</td>\n",
       "      <td>best-ager typology</td>\n",
       "      <td>1</td>\n",
       "      <td>passive elderly</td>\n",
       "    </tr>\n",
       "    <tr>\n",
       "      <th>4</th>\n",
       "      <td>AGER_TYP</td>\n",
       "      <td>best-ager typology</td>\n",
       "      <td>2</td>\n",
       "      <td>cultural elderly</td>\n",
       "    </tr>\n",
       "    <tr>\n",
       "      <th>5</th>\n",
       "      <td>AGER_TYP</td>\n",
       "      <td>best-ager typology</td>\n",
       "      <td>3</td>\n",
       "      <td>experience-driven elderly</td>\n",
       "    </tr>\n",
       "    <tr>\n",
       "      <th>6</th>\n",
       "      <td>ALTERSKATEGORIE_GROB</td>\n",
       "      <td>age classification through prename analysis</td>\n",
       "      <td>-1, 0</td>\n",
       "      <td>unknown</td>\n",
       "    </tr>\n",
       "    <tr>\n",
       "      <th>7</th>\n",
       "      <td>ALTERSKATEGORIE_GROB</td>\n",
       "      <td>age classification through prename analysis</td>\n",
       "      <td>1</td>\n",
       "      <td>&lt; 30 years</td>\n",
       "    </tr>\n",
       "    <tr>\n",
       "      <th>8</th>\n",
       "      <td>ALTERSKATEGORIE_GROB</td>\n",
       "      <td>age classification through prename analysis</td>\n",
       "      <td>2</td>\n",
       "      <td>30 - 45 years</td>\n",
       "    </tr>\n",
       "    <tr>\n",
       "      <th>9</th>\n",
       "      <td>ALTERSKATEGORIE_GROB</td>\n",
       "      <td>age classification through prename analysis</td>\n",
       "      <td>3</td>\n",
       "      <td>46 - 60 years</td>\n",
       "    </tr>\n",
       "    <tr>\n",
       "      <th>10</th>\n",
       "      <td>ALTERSKATEGORIE_GROB</td>\n",
       "      <td>age classification through prename analysis</td>\n",
       "      <td>4</td>\n",
       "      <td>&gt; 60 years</td>\n",
       "    </tr>\n",
       "    <tr>\n",
       "      <th>11</th>\n",
       "      <td>ALTERSKATEGORIE_GROB</td>\n",
       "      <td>age classification through prename analysis</td>\n",
       "      <td>9</td>\n",
       "      <td>uniformly distributed</td>\n",
       "    </tr>\n",
       "    <tr>\n",
       "      <th>12</th>\n",
       "      <td>ALTER_HH</td>\n",
       "      <td>main age within the household</td>\n",
       "      <td>0</td>\n",
       "      <td>unknown / no main age detectable</td>\n",
       "    </tr>\n",
       "    <tr>\n",
       "      <th>13</th>\n",
       "      <td>ALTER_HH</td>\n",
       "      <td>main age within the household</td>\n",
       "      <td>1</td>\n",
       "      <td>01.01.1895 bis 31.12.1899</td>\n",
       "    </tr>\n",
       "    <tr>\n",
       "      <th>14</th>\n",
       "      <td>ALTER_HH</td>\n",
       "      <td>main age within the household</td>\n",
       "      <td>2</td>\n",
       "      <td>01.01.1900 bis 31.12.1904</td>\n",
       "    </tr>\n",
       "    <tr>\n",
       "      <th>15</th>\n",
       "      <td>ALTER_HH</td>\n",
       "      <td>main age within the household</td>\n",
       "      <td>3</td>\n",
       "      <td>01.01.1905 bis 31.12.1909</td>\n",
       "    </tr>\n",
       "    <tr>\n",
       "      <th>16</th>\n",
       "      <td>ALTER_HH</td>\n",
       "      <td>main age within the household</td>\n",
       "      <td>4</td>\n",
       "      <td>01.01.1910 bis 31.12.1914</td>\n",
       "    </tr>\n",
       "    <tr>\n",
       "      <th>17</th>\n",
       "      <td>ALTER_HH</td>\n",
       "      <td>main age within the household</td>\n",
       "      <td>5</td>\n",
       "      <td>01.01.1915 bis 31.12.1919</td>\n",
       "    </tr>\n",
       "    <tr>\n",
       "      <th>18</th>\n",
       "      <td>ALTER_HH</td>\n",
       "      <td>main age within the household</td>\n",
       "      <td>6</td>\n",
       "      <td>01.01.1920 bis 31.12.1924</td>\n",
       "    </tr>\n",
       "    <tr>\n",
       "      <th>19</th>\n",
       "      <td>ALTER_HH</td>\n",
       "      <td>main age within the household</td>\n",
       "      <td>7</td>\n",
       "      <td>01.01.1925 bis 31.12.1929</td>\n",
       "    </tr>\n",
       "    <tr>\n",
       "      <th>20</th>\n",
       "      <td>ALTER_HH</td>\n",
       "      <td>main age within the household</td>\n",
       "      <td>8</td>\n",
       "      <td>01.01.1930 bis 31.12.1934</td>\n",
       "    </tr>\n",
       "    <tr>\n",
       "      <th>21</th>\n",
       "      <td>ALTER_HH</td>\n",
       "      <td>main age within the household</td>\n",
       "      <td>9</td>\n",
       "      <td>01.01.1935 bis 31.12.1939</td>\n",
       "    </tr>\n",
       "    <tr>\n",
       "      <th>22</th>\n",
       "      <td>ALTER_HH</td>\n",
       "      <td>main age within the household</td>\n",
       "      <td>10</td>\n",
       "      <td>01.01.1940 bis 31.12.1944</td>\n",
       "    </tr>\n",
       "    <tr>\n",
       "      <th>23</th>\n",
       "      <td>ALTER_HH</td>\n",
       "      <td>main age within the household</td>\n",
       "      <td>11</td>\n",
       "      <td>01.01.1945 bis 31.12.1949</td>\n",
       "    </tr>\n",
       "    <tr>\n",
       "      <th>24</th>\n",
       "      <td>ALTER_HH</td>\n",
       "      <td>main age within the household</td>\n",
       "      <td>12</td>\n",
       "      <td>01.01.1950 bis 31.12.1954</td>\n",
       "    </tr>\n",
       "    <tr>\n",
       "      <th>25</th>\n",
       "      <td>ALTER_HH</td>\n",
       "      <td>main age within the household</td>\n",
       "      <td>13</td>\n",
       "      <td>01.01.1955 bis 31.12.1959</td>\n",
       "    </tr>\n",
       "  </tbody>\n",
       "</table>\n",
       "</div>"
      ],
      "text/plain": [
       "               Attribute                                   Description  Value  \\\n",
       "1               AGER_TYP                            best-ager typology     -1   \n",
       "2               AGER_TYP                            best-ager typology      0   \n",
       "3               AGER_TYP                            best-ager typology      1   \n",
       "4               AGER_TYP                            best-ager typology      2   \n",
       "5               AGER_TYP                            best-ager typology      3   \n",
       "6   ALTERSKATEGORIE_GROB  age classification through prename analysis   -1, 0   \n",
       "7   ALTERSKATEGORIE_GROB  age classification through prename analysis       1   \n",
       "8   ALTERSKATEGORIE_GROB  age classification through prename analysis       2   \n",
       "9   ALTERSKATEGORIE_GROB  age classification through prename analysis       3   \n",
       "10  ALTERSKATEGORIE_GROB  age classification through prename analysis       4   \n",
       "11  ALTERSKATEGORIE_GROB  age classification through prename analysis       9   \n",
       "12              ALTER_HH                 main age within the household      0   \n",
       "13              ALTER_HH                 main age within the household      1   \n",
       "14              ALTER_HH                 main age within the household      2   \n",
       "15              ALTER_HH                 main age within the household      3   \n",
       "16              ALTER_HH                 main age within the household      4   \n",
       "17              ALTER_HH                 main age within the household      5   \n",
       "18              ALTER_HH                 main age within the household      6   \n",
       "19              ALTER_HH                 main age within the household      7   \n",
       "20              ALTER_HH                 main age within the household      8   \n",
       "21              ALTER_HH                 main age within the household      9   \n",
       "22              ALTER_HH                 main age within the household     10   \n",
       "23              ALTER_HH                 main age within the household     11   \n",
       "24              ALTER_HH                 main age within the household     12   \n",
       "25              ALTER_HH                 main age within the household     13   \n",
       "\n",
       "                             Meaning  \n",
       "1                            unknown  \n",
       "2         no classification possible  \n",
       "3                    passive elderly  \n",
       "4                   cultural elderly  \n",
       "5          experience-driven elderly  \n",
       "6                            unknown  \n",
       "7                         < 30 years  \n",
       "8                      30 - 45 years  \n",
       "9                      46 - 60 years  \n",
       "10                        > 60 years  \n",
       "11             uniformly distributed  \n",
       "12  unknown / no main age detectable  \n",
       "13         01.01.1895 bis 31.12.1899  \n",
       "14         01.01.1900 bis 31.12.1904  \n",
       "15         01.01.1905 bis 31.12.1909  \n",
       "16         01.01.1910 bis 31.12.1914  \n",
       "17         01.01.1915 bis 31.12.1919  \n",
       "18         01.01.1920 bis 31.12.1924  \n",
       "19         01.01.1925 bis 31.12.1929  \n",
       "20         01.01.1930 bis 31.12.1934  \n",
       "21         01.01.1935 bis 31.12.1939  \n",
       "22         01.01.1940 bis 31.12.1944  \n",
       "23         01.01.1945 bis 31.12.1949  \n",
       "24         01.01.1950 bis 31.12.1954  \n",
       "25         01.01.1955 bis 31.12.1959  "
      ]
     },
     "execution_count": 15,
     "metadata": {},
     "output_type": "execute_result"
    }
   ],
   "source": [
    "values.ffill(inplace=True) # Fill the NaN rows with description or attribute\n",
    "values['Value'] = values['Value'].astype('str') # Changing datatype from object to str\n",
    "\n",
    "values.head(25)"
   ]
  },
  {
   "cell_type": "code",
   "execution_count": 16,
   "id": "b135c3ea",
   "metadata": {},
   "outputs": [
    {
     "name": "stdout",
     "output_type": "stream",
     "text": [
      "Total Number of unique attributes given to us in meta data:  314\n",
      "Total Number of unique attributes AZIDAS data:  367\n",
      "Total Number of unique attributes CUSTOMERS data:  370\n"
     ]
    }
   ],
   "source": [
    "meta_attributes = values['Attribute'].unique()\n",
    "\n",
    "print(\"Total Number of unique attributes given to us in meta data: \",len(meta_attributes))\n",
    "print(\"Total Number of unique attributes AZIDAS data: \",azdias.columns.size)\n",
    "print(\"Total Number of unique attributes CUSTOMERS data: \",customers.columns.size)\n"
   ]
  },
  {
   "cell_type": "markdown",
   "id": "dc59be35",
   "metadata": {},
   "source": [
    "The number of attributes given is not same in the three datasets. This means some of the attributes were not important enough to be included in the meta data."
   ]
  },
  {
   "cell_type": "code",
   "execution_count": 17,
   "id": "cef67472",
   "metadata": {},
   "outputs": [],
   "source": [
    "# Finding common attributes bettween AZDIAS and Customers\n",
    "common_azdias_customers = list(set(customers.columns).intersection(azdias.columns))\n",
    "diffr_azdias_customers = list(set(customers.columns).difference(azdias.columns))"
   ]
  },
  {
   "cell_type": "code",
   "execution_count": 18,
   "id": "4e9baa47",
   "metadata": {},
   "outputs": [
    {
     "name": "stdout",
     "output_type": "stream",
     "text": [
      "Number of attributes common between Customer and AZDIAS: 367\n",
      "Number of attributes exclusive to Customer: 3\n",
      "Attributes exclusive to CUSTOMERS: ['CUSTOMER_GROUP', 'ONLINE_PURCHASE', 'PRODUCT_GROUP']\n"
     ]
    }
   ],
   "source": [
    "print(\"Number of attributes common between Customer and AZDIAS: {}\".format(len(common_azdias_customers)))\n",
    "print(\"Number of attributes exclusive to Customer: {}\".format(len(diffr_azdias_customers)))\n",
    "print(\"Attributes exclusive to CUSTOMERS: {}\".format(diffr_azdias_customers))"
   ]
  },
  {
   "cell_type": "markdown",
   "id": "f6112740",
   "metadata": {},
   "source": [
    "**ONLINE_PURCHASE**, **PRODUCT_GROUP** and **CUSTOMER_GROUP** are the attributes which are not in AZDIAS dataframe, but both datasets share rest of the features."
   ]
  },
  {
   "cell_type": "code",
   "execution_count": 19,
   "id": "4a6b1d99",
   "metadata": {},
   "outputs": [
    {
     "name": "stdout",
     "output_type": "stream",
     "text": [
      "Len of total common attributes in all 3 tables 272\n",
      "Len of attributes common in customers and meta data 272\n",
      "Len of attributes in Customers but not in meta 98\n",
      "Len of attributes in meta data but not in customers 42\n"
     ]
    }
   ],
   "source": [
    "attr_common_all = set(common_azdias_customers).intersection(meta_attributes)\n",
    "attr_common_customers = set(customers.columns).intersection(meta_attributes)\n",
    "attr_cust_diffr_meta = set(customers.columns).difference(meta_attributes)\n",
    "attr_meta_diffr_cust = set(meta_attributes).difference(customers.columns)\n",
    "\n",
    "print('Len of total common attributes in all 3 tables',len(attr_common_all))\n",
    "print('Len of attributes common in customers and meta data',len(attr_common_customers))\n",
    "print('Len of attributes in Customers but not in meta',len(attr_cust_diffr_meta))\n",
    "print('Len of attributes in meta data but not in customers',len(attr_meta_diffr_cust))\n"
   ]
  },
  {
   "cell_type": "markdown",
   "id": "a9950af3",
   "metadata": {},
   "source": [
    "There are 98 attributes in customers data that are not present in meta-data. Now, let's see what attributes are these."
   ]
  },
  {
   "cell_type": "code",
   "execution_count": 20,
   "id": "5a90714c",
   "metadata": {
    "scrolled": false
   },
   "outputs": [
    {
     "name": "stdout",
     "output_type": "stream",
     "text": [
      "Attributes exclusive to customers data \n",
      " D19_TECHNIK\n",
      "VERDICHTUNGSRAUM\n",
      "VHA\n",
      "KBA13_GBZ\n",
      "KBA13_KMH_210\n",
      "KBA13_ANTG1\n",
      "RT_KEIN_ANREIZ\n",
      "D19_RATGEBER\n",
      "D19_BANKEN_GROSS\n",
      "D19_HAUS_DEKO\n",
      "ANZ_KINDER\n",
      "CJT_TYP_2\n",
      "HH_DELTA_FLAG\n",
      "UMFELD_ALT\n",
      "D19_SAMMELARTIKEL\n",
      "D19_SCHUHE\n",
      "D19_TELKO_REST\n",
      "D19_LOTTO\n",
      "KBA13_ANTG4\n",
      "D19_BANKEN_LOKAL\n",
      "KOMBIALTER\n",
      "D19_BEKLEIDUNG_REST\n",
      "SOHO_KZ\n",
      "D19_VERSAND_REST\n",
      "CJT_TYP_5\n",
      "CUSTOMER_GROUP\n",
      "D19_ENERGIE\n",
      "EINGEFUEGT_AM\n",
      "ANZ_STATISTISCHE_HAUSHALTE\n",
      "EINGEZOGENAM_HH_JAHR\n",
      "ALTER_KIND3\n",
      "D19_SONSTIGE\n",
      "D19_DROGERIEARTIKEL\n",
      "D19_VERSI_OFFLINE_DATUM\n",
      "CJT_TYP_3\n",
      "D19_WEIN_FEINKOST\n",
      "KONSUMZELLE\n",
      "KBA13_ANTG2\n",
      "KBA13_BAUMAX\n",
      "D19_BEKLEIDUNG_GEH\n",
      "D19_VERSI_ONLINE_QUOTE_12\n",
      "EXTSEL992\n",
      "D19_TIERARTIKEL\n",
      "KBA13_HHZ\n",
      "D19_BANKEN_DIREKT\n",
      "D19_HANDWERK\n",
      "D19_VERSICHERUNGEN\n",
      "MOBI_RASTER\n",
      "ONLINE_PURCHASE\n",
      "STRUKTURTYP\n",
      "D19_VOLLSORTIMENT\n",
      "D19_TELKO_ONLINE_QUOTE_12\n",
      "RT_SCHNAEPPCHEN\n",
      "D19_DIGIT_SERV\n",
      "RT_UEBERGROESSE\n",
      "D19_BILDUNG\n",
      "D19_LEBENSMITTEL\n",
      "AKT_DAT_KL\n",
      "CJT_TYP_6\n",
      "VK_ZG11\n",
      "GEMEINDETYP\n",
      "ARBEIT\n",
      "ALTER_KIND4\n",
      "D19_KONSUMTYP_MAX\n",
      "VHN\n",
      "FIRMENDICHTE\n",
      "CJT_TYP_1\n",
      "D19_BUCH_CD\n",
      "D19_TELKO_MOBILE\n",
      "CJT_TYP_4\n",
      "D19_LETZTER_KAUF_BRANCHE\n",
      "D19_KOSMETIK\n",
      "KK_KUNDENTYP\n",
      "CJT_KATALOGNUTZER\n",
      "ALTERSKATEGORIE_FEIN\n",
      "VK_DISTANZ\n",
      "ALTER_KIND1\n",
      "UMFELD_JUNG\n",
      "D19_FREIZEIT\n",
      "UNGLEICHENN_FLAG\n",
      "KBA13_ANTG3\n",
      "D19_KINDERARTIKEL\n",
      "D19_VERSI_ONLINE_DATUM\n",
      "D19_SOZIALES\n",
      "ALTER_KIND2\n",
      "D19_BIO_OEKO\n",
      "VK_DHT4A\n",
      "KBA13_CCM_1401_2500\n",
      "D19_GARTEN\n",
      "D19_BANKEN_REST\n",
      "DSL_FLAG\n",
      "D19_NAHRUNGSERGAENZUNG\n",
      "D19_REISEN\n",
      "D19_VERSI_DATUM\n",
      "Unnamed: 0\n",
      "LNR\n",
      "CAMEO_INTL_2015\n",
      "PRODUCT_GROUP\n",
      "******************************************************\n",
      "******************************************************\n",
      "******************************************************\n",
      "******************************************************\n",
      "Attributes exclusive to meta data \n",
      " D19_HANDWERK_RZ\n",
      "WACHSTUMSGEBIET_NB\n",
      "D19_SONSTIGE_RZ\n",
      "D19_TELKO_REST_RZ\n",
      "D19_REISEN_RZ\n",
      "D19_FREIZEIT_RZ\n",
      "D19_WEIN_FEINKOST_RZ\n",
      "HAUSHALTSSTRUKTUR\n",
      "D19_LOTTO_RZ\n",
      "D19_SAMMELARTIKEL_RZ\n",
      "D19_VERSAND_REST_RZ\n",
      "D19_KK_KUNDENTYP\n",
      "D19_BEKLEIDUNG_GEH_RZ\n",
      "D19_TIERARTIKEL_RZ\n",
      "D19_BUCH_RZ\n",
      "BIP_FLAG\n",
      "D19_KINDERARTIKEL_RZ\n",
      "D19_BANKEN_LOKAL_RZ\n",
      "D19_BANKEN_REST_RZ\n",
      "D19_BANKEN_DIREKT_RZ\n",
      "D19_NAHRUNGSERGAENZUNG_RZ\n",
      "D19_DROGERIEARTIKEL_RZ\n",
      "D19_BILDUNG_RZ\n",
      "D19_BANKEN_GROSS_RZ\n",
      "D19_GARTEN_RZ\n",
      "D19_TELKO_MOBILE_RZ\n",
      "GEOSCORE_KLS7\n",
      "D19_DIGIT_SERV_RZ\n",
      "D19_BIO_OEKO_RZ\n",
      "D19_HAUS_DEKO_RZ\n",
      "D19_RATGEBER_RZ\n",
      "D19_KOSMETIK_RZ\n",
      "D19_SCHUHE_RZ\n",
      "D19_VOLLSORTIMENT_RZ\n",
      "D19_VERSICHERUNGEN_RZ\n",
      "CAMEO_DEUINTL_2015\n",
      "SOHO_FLAG\n",
      "D19_ENERGIE_RZ\n",
      "D19_LEBENSMITTEL_RZ\n",
      "KBA13_CCM_1400_2500\n",
      "D19_BEKLEIDUNG_REST_RZ\n",
      "D19_TECHNIK_RZ\n"
     ]
    }
   ],
   "source": [
    "print(\"Attributes exclusive to customers data\",\"\\n\",\"\\n\".join(list(attr_cust_diffr_meta)))\n",
    "print(\"******************************************************\")\n",
    "print(\"******************************************************\")\n",
    "print(\"******************************************************\")\n",
    "print(\"******************************************************\")\n",
    "print(\"Attributes exclusive to meta data\",\"\\n\",\"\\n\".join(list(attr_meta_diffr_cust)))"
   ]
  },
  {
   "cell_type": "markdown",
   "id": "b3a024d4",
   "metadata": {},
   "source": [
    "CAMEO_DEUINTL_2015 in attributes dataset is names as CAMEO_INTL_2015 in customers dataset."
   ]
  },
  {
   "cell_type": "markdown",
   "id": "8d1b130d",
   "metadata": {},
   "source": [
    "## Missing data\n",
    "### Identifying missing data\n",
    "\n",
    "In this section, we'll identify the missing data which is represented using other values given in meta data other irregularities."
   ]
  },
  {
   "cell_type": "code",
   "execution_count": 21,
   "id": "06214158",
   "metadata": {},
   "outputs": [],
   "source": [
    "attributes = values.loc[values['Attribute'].isin(attr_common_all)]"
   ]
  },
  {
   "cell_type": "code",
   "execution_count": 22,
   "id": "d1f70075",
   "metadata": {},
   "outputs": [
    {
     "data": {
      "text/plain": [
       "272"
      ]
     },
     "execution_count": 22,
     "metadata": {},
     "output_type": "execute_result"
    }
   ],
   "source": [
    "len(attributes.loc[:,'Attribute'].unique())"
   ]
  },
  {
   "cell_type": "code",
   "execution_count": 23,
   "id": "9f6e7332",
   "metadata": {},
   "outputs": [
    {
     "data": {
      "text/plain": [
       "array(['-1', '-1, 0', '0', '-1, 9'], dtype=object)"
      ]
     },
     "execution_count": 23,
     "metadata": {},
     "output_type": "execute_result"
    }
   ],
   "source": [
    "## check numbers / values signifying unknown values in dataset\n",
    "attributes.loc[attributes['Meaning'].str.contains('unknown'),\"Value\"].unique()\n",
    "\n"
   ]
  },
  {
   "cell_type": "markdown",
   "id": "8bc39a7c",
   "metadata": {},
   "source": [
    "As we can see -1 , 9 and -1 marked as 'unknown' values,\n",
    "this means other numerical values hold a significant , while these three values might be unknown"
   ]
  },
  {
   "cell_type": "code",
   "execution_count": 24,
   "id": "b14c3d5e",
   "metadata": {},
   "outputs": [
    {
     "name": "stdout",
     "output_type": "stream",
     "text": [
      "Keyword for 0: \n",
      "['no classification possible' 'unknown' 'unknown / no main age detectable'\n",
      " '01.01.1940 bis 31.12.1944' '01.01.1990 bis 31.12.1994'\n",
      " 'no transactions known'\n",
      " 'no Online-transactions within the last 12 months'\n",
      " '100% Online-transactions within the last 12 months' 'Connoisseurs'\n",
      " \"doesn't belong to the green avantgarde\" 'classification not possible'\n",
      " 'none' 'no 1-2 family homes' 'no 3-5 family homes' 'no 6-10 family homes'\n",
      " 'no >10 family homes' 'two-generational household'\n",
      " 'multiperson household' 'wealthy single homeowners'\n",
      " 'top earner-couples of higher age'\n",
      " 'average earners of younger age from mulitperson households'\n",
      " 'top earners at retirement age from mulitperson households'\n",
      " 'low-income- and average earners of higher age from mulitperson households'\n",
      " 'top earners ' '80ies - Generation Golf (Mainstream, W)'\n",
      " 'external supplied hedonists ' 'no score calculated']\n",
      "*************************\n",
      "Keyword for -1: \n",
      "['unknown']\n",
      "*************************\n",
      "Keyword for 9: \n",
      "['unknown']\n"
     ]
    }
   ],
   "source": [
    "print(\"Keyword for 0: \")\n",
    "print(attributes.loc[attributes['Value'].str.contains('0'),\"Meaning\"].unique())\n",
    "print(\"*************************\")\n",
    "print(\"Keyword for -1: \")\n",
    "print(attributes.loc[attributes['Value'].str.contains('-1'),\"Meaning\"].unique())\n",
    "print(\"*************************\")\n",
    "print(\"Keyword for 9: \")\n",
    "print(attributes.loc[attributes['Value'].str.contains('\\D[9]', regex=True),\"Meaning\"].unique())\n"
   ]
  },
  {
   "cell_type": "markdown",
   "id": "439d5ada",
   "metadata": {},
   "source": [
    "-1, 9 (in given form) always represent unkown values, while 0 may hold some value in some cases\n"
   ]
  },
  {
   "cell_type": "code",
   "execution_count": 25,
   "id": "f673948b",
   "metadata": {},
   "outputs": [
    {
     "data": {
      "text/plain": [
       "array([nan, 8.0, 4.0, 2.0, 6.0, 1.0, 9.0, 5.0, 7.0, 3.0, '4', '3', '7',\n",
       "       '2', '8', '9', '6', '5', '1', 'X'], dtype=object)"
      ]
     },
     "execution_count": 25,
     "metadata": {},
     "output_type": "execute_result"
    }
   ],
   "source": [
    "azdias['CAMEO_DEUG_2015'].unique()"
   ]
  },
  {
   "cell_type": "code",
   "execution_count": 26,
   "id": "590149b0",
   "metadata": {},
   "outputs": [
    {
     "data": {
      "text/plain": [
       "array([nan, 51.0, 24.0, 12.0, 43.0, 54.0, 22.0, 14.0, 13.0, 15.0, 33.0,\n",
       "       41.0, 34.0, 55.0, 25.0, 23.0, 31.0, 52.0, 35.0, 45.0, 44.0, 32.0,\n",
       "       '22', '24', '41', '12', '54', '51', '44', '35', '23', '25', '14',\n",
       "       '34', '52', '55', '31', '32', '15', '13', '43', '33', '45', 'XX'],\n",
       "      dtype=object)"
      ]
     },
     "execution_count": 26,
     "metadata": {},
     "output_type": "execute_result"
    }
   ],
   "source": [
    "azdias['CAMEO_INTL_2015'].unique()"
   ]
  },
  {
   "cell_type": "code",
   "execution_count": 27,
   "id": "2cf0d839",
   "metadata": {},
   "outputs": [
    {
     "data": {
      "text/plain": [
       "array([nan, '1992-02-10 00:00:00', '1992-02-12 00:00:00', ...,\n",
       "       '2010-12-02 00:00:00', '2005-03-19 00:00:00',\n",
       "       '2011-11-18 00:00:00'], dtype=object)"
      ]
     },
     "execution_count": 27,
     "metadata": {},
     "output_type": "execute_result"
    }
   ],
   "source": [
    "azdias['EINGEFUEGT_AM'].unique()"
   ]
  },
  {
   "cell_type": "markdown",
   "id": "30881ee0",
   "metadata": {},
   "source": [
    "As we see there are unknown values 'X' and 'XX' in **CAMEO_DEUG_2015**,**CAMEO_INTL_2015** columns. We will replace this with NaN and also convert the datatype of **EINGEFUEGT_AM** attribute to datetime type."
   ]
  },
  {
   "cell_type": "code",
   "execution_count": 28,
   "id": "e1c512a3",
   "metadata": {},
   "outputs": [],
   "source": [
    "cols_X = ['CAMEO_DEUG_2015']\n",
    "cols_XX = ['CAMEO_INTL_2015']\n",
    "col_1 = attributes.loc[attributes[\"Value\"].str.contains('-1'),\n",
    "                     \"Attribute\"].unique()\n",
    "col_0 = attributes.loc[(attributes[\"Value\"].str.contains('0')) &\n",
    "                     (attributes['Meaning'].str.contains('unknown')),\n",
    "                      \"Attribute\"].unique()\n",
    "col_9 = attributes.loc[attributes[\"Value\"].str.contains('\\D[9]', regex=True),\n",
    "                     \"Attribute\"].unique()"
   ]
  },
  {
   "cell_type": "code",
   "execution_count": 29,
   "id": "976c1280",
   "metadata": {},
   "outputs": [],
   "source": [
    "value = {'X':cols_X , \"XX\":cols_XX , -1:col_1.tolist(),0:col_0.tolist(),9: col_9.tolist()}"
   ]
  },
  {
   "cell_type": "code",
   "execution_count": 30,
   "id": "67ed46a4",
   "metadata": {},
   "outputs": [
    {
     "data": {
      "text/plain": [
       "{'X': ['CAMEO_DEUG_2015'],\n",
       " 'XX': ['CAMEO_INTL_2015'],\n",
       " -1: ['AGER_TYP',\n",
       "  'ALTERSKATEGORIE_GROB',\n",
       "  'ANREDE_KZ',\n",
       "  'BALLRAUM',\n",
       "  'CAMEO_DEUG_2015',\n",
       "  'EWDICHTE',\n",
       "  'FINANZTYP',\n",
       "  'FINANZ_ANLEGER',\n",
       "  'FINANZ_HAUSBAUER',\n",
       "  'FINANZ_MINIMALIST',\n",
       "  'FINANZ_SPARER',\n",
       "  'FINANZ_UNAUFFAELLIGER',\n",
       "  'FINANZ_VORSORGER',\n",
       "  'GEBAEUDETYP',\n",
       "  'HEALTH_TYP',\n",
       "  'HH_EINKOMMEN_SCORE',\n",
       "  'INNENSTADT',\n",
       "  'KBA05_ALTER1',\n",
       "  'KBA05_ALTER2',\n",
       "  'KBA05_ALTER3',\n",
       "  'KBA05_ALTER4',\n",
       "  'KBA05_ANHANG',\n",
       "  'KBA05_ANTG1',\n",
       "  'KBA05_ANTG2',\n",
       "  'KBA05_ANTG3',\n",
       "  'KBA05_ANTG4',\n",
       "  'KBA05_AUTOQUOT',\n",
       "  'KBA05_BAUMAX',\n",
       "  'KBA05_CCM1',\n",
       "  'KBA05_CCM2',\n",
       "  'KBA05_CCM3',\n",
       "  'KBA05_CCM4',\n",
       "  'KBA05_DIESEL',\n",
       "  'KBA05_FRAU',\n",
       "  'KBA05_GBZ',\n",
       "  'KBA05_HERST1',\n",
       "  'KBA05_HERST2',\n",
       "  'KBA05_HERST3',\n",
       "  'KBA05_HERST4',\n",
       "  'KBA05_HERST5',\n",
       "  'KBA05_HERSTTEMP',\n",
       "  'KBA05_KRSAQUOT',\n",
       "  'KBA05_KRSHERST1',\n",
       "  'KBA05_KRSHERST2',\n",
       "  'KBA05_KRSHERST3',\n",
       "  'KBA05_KRSKLEIN',\n",
       "  'KBA05_KRSOBER',\n",
       "  'KBA05_KRSVAN',\n",
       "  'KBA05_KRSZUL',\n",
       "  'KBA05_KW1',\n",
       "  'KBA05_KW2',\n",
       "  'KBA05_KW3',\n",
       "  'KBA05_MAXAH',\n",
       "  'KBA05_MAXBJ',\n",
       "  'KBA05_MAXHERST',\n",
       "  'KBA05_MAXSEG',\n",
       "  'KBA05_MAXVORB',\n",
       "  'KBA05_MOD1',\n",
       "  'KBA05_MOD2',\n",
       "  'KBA05_MOD3',\n",
       "  'KBA05_MOD4',\n",
       "  'KBA05_MOD8',\n",
       "  'KBA05_MODTEMP',\n",
       "  'KBA05_MOTOR',\n",
       "  'KBA05_MOTRAD',\n",
       "  'KBA05_SEG1',\n",
       "  'KBA05_SEG10',\n",
       "  'KBA05_SEG2',\n",
       "  'KBA05_SEG3',\n",
       "  'KBA05_SEG4',\n",
       "  'KBA05_SEG5',\n",
       "  'KBA05_SEG6',\n",
       "  'KBA05_SEG7',\n",
       "  'KBA05_SEG8',\n",
       "  'KBA05_SEG9',\n",
       "  'KBA05_VORB0',\n",
       "  'KBA05_VORB1',\n",
       "  'KBA05_VORB2',\n",
       "  'KBA05_ZUL1',\n",
       "  'KBA05_ZUL2',\n",
       "  'KBA05_ZUL3',\n",
       "  'KBA05_ZUL4',\n",
       "  'KBA13_ALTERHALTER_30',\n",
       "  'KBA13_ALTERHALTER_45',\n",
       "  'KBA13_ALTERHALTER_60',\n",
       "  'KBA13_ALTERHALTER_61',\n",
       "  'KBA13_AUDI',\n",
       "  'KBA13_AUTOQUOTE',\n",
       "  'KBA13_BJ_1999',\n",
       "  'KBA13_BJ_2000',\n",
       "  'KBA13_BJ_2004',\n",
       "  'KBA13_BJ_2006',\n",
       "  'KBA13_BJ_2008',\n",
       "  'KBA13_BJ_2009',\n",
       "  'KBA13_BMW',\n",
       "  'KBA13_CCM_1000',\n",
       "  'KBA13_CCM_1200',\n",
       "  'KBA13_CCM_1400',\n",
       "  'KBA13_CCM_0_1400',\n",
       "  'KBA13_CCM_1500',\n",
       "  'KBA13_CCM_1600',\n",
       "  'KBA13_CCM_1800',\n",
       "  'KBA13_CCM_2000',\n",
       "  'KBA13_CCM_2500',\n",
       "  'KBA13_CCM_2501',\n",
       "  'KBA13_CCM_3000',\n",
       "  'KBA13_CCM_3001',\n",
       "  'KBA13_FAB_ASIEN',\n",
       "  'KBA13_FAB_SONSTIGE',\n",
       "  'KBA13_FIAT',\n",
       "  'KBA13_FORD',\n",
       "  'KBA13_HALTER_20',\n",
       "  'KBA13_HALTER_25',\n",
       "  'KBA13_HALTER_30',\n",
       "  'KBA13_HALTER_35',\n",
       "  'KBA13_HALTER_40',\n",
       "  'KBA13_HALTER_45',\n",
       "  'KBA13_HALTER_50',\n",
       "  'KBA13_HALTER_55',\n",
       "  'KBA13_HALTER_60',\n",
       "  'KBA13_HALTER_65',\n",
       "  'KBA13_HALTER_66',\n",
       "  'KBA13_HERST_ASIEN',\n",
       "  'KBA13_HERST_AUDI_VW',\n",
       "  'KBA13_HERST_BMW_BENZ',\n",
       "  'KBA13_HERST_EUROPA',\n",
       "  'KBA13_HERST_FORD_OPEL',\n",
       "  'KBA13_HERST_SONST',\n",
       "  'KBA13_KMH_110',\n",
       "  'KBA13_KMH_140',\n",
       "  'KBA13_KMH_180',\n",
       "  'KBA13_KMH_0_140',\n",
       "  'KBA13_KMH_140_210',\n",
       "  'KBA13_KMH_211',\n",
       "  'KBA13_KMH_250',\n",
       "  'KBA13_KMH_251',\n",
       "  'KBA13_KRSAQUOT',\n",
       "  'KBA13_KRSHERST_AUDI_VW',\n",
       "  'KBA13_KRSHERST_BMW_BENZ',\n",
       "  'KBA13_KRSHERST_FORD_OPEL',\n",
       "  'KBA13_KRSSEG_KLEIN',\n",
       "  'KBA13_KRSSEG_OBER',\n",
       "  'KBA13_KRSSEG_VAN',\n",
       "  'KBA13_KRSZUL_NEU',\n",
       "  'KBA13_KW_30',\n",
       "  'KBA13_KW_40',\n",
       "  'KBA13_KW_50',\n",
       "  'KBA13_KW_60',\n",
       "  'KBA13_KW_0_60',\n",
       "  'KBA13_KW_70',\n",
       "  'KBA13_KW_61_120',\n",
       "  'KBA13_KW_80',\n",
       "  'KBA13_KW_90',\n",
       "  'KBA13_KW_110',\n",
       "  'KBA13_KW_120',\n",
       "  'KBA13_KW_121',\n",
       "  'KBA13_MAZDA',\n",
       "  'KBA13_MERCEDES',\n",
       "  'KBA13_MOTOR',\n",
       "  'KBA13_NISSAN',\n",
       "  'KBA13_OPEL',\n",
       "  'KBA13_PEUGEOT',\n",
       "  'KBA13_RENAULT',\n",
       "  'KBA13_SEG_GELAENDEWAGEN',\n",
       "  'KBA13_SEG_GROSSRAUMVANS',\n",
       "  'KBA13_SEG_KLEINST',\n",
       "  'KBA13_SEG_KLEINWAGEN',\n",
       "  'KBA13_SEG_KOMPAKTKLASSE',\n",
       "  'KBA13_SEG_MINIVANS',\n",
       "  'KBA13_SEG_MINIWAGEN',\n",
       "  'KBA13_SEG_MITTELKLASSE',\n",
       "  'KBA13_SEG_OBEREMITTELKLASSE',\n",
       "  'KBA13_SEG_OBERKLASSE',\n",
       "  'KBA13_SEG_SONSTIGE',\n",
       "  'KBA13_SEG_SPORTWAGEN',\n",
       "  'KBA13_SEG_UTILITIES',\n",
       "  'KBA13_SEG_VAN',\n",
       "  'KBA13_SEG_WOHNMOBILE',\n",
       "  'KBA13_SITZE_4',\n",
       "  'KBA13_SITZE_5',\n",
       "  'KBA13_SITZE_6',\n",
       "  'KBA13_TOYOTA',\n",
       "  'KBA13_VORB_0',\n",
       "  'KBA13_VORB_1',\n",
       "  'KBA13_VORB_1_2',\n",
       "  'KBA13_VORB_2',\n",
       "  'KBA13_VORB_3',\n",
       "  'KBA13_VW',\n",
       "  'KKK',\n",
       "  'NATIONALITAET_KZ',\n",
       "  'ORTSGR_KLS9',\n",
       "  'OST_WEST_KZ',\n",
       "  'PLZ8_ANTG1',\n",
       "  'PLZ8_ANTG2',\n",
       "  'PLZ8_ANTG3',\n",
       "  'PLZ8_ANTG4',\n",
       "  'PLZ8_GBZ',\n",
       "  'PLZ8_HHZ',\n",
       "  'PRAEGENDE_JUGENDJAHRE',\n",
       "  'REGIOTYP',\n",
       "  'RELAT_AB',\n",
       "  'SEMIO_DOM',\n",
       "  'SEMIO_ERL',\n",
       "  'SEMIO_FAM',\n",
       "  'SEMIO_KAEM',\n",
       "  'SEMIO_KRIT',\n",
       "  'SEMIO_KULT',\n",
       "  'SEMIO_LUST',\n",
       "  'SEMIO_MAT',\n",
       "  'SEMIO_PFLICHT',\n",
       "  'SEMIO_RAT',\n",
       "  'SEMIO_REL',\n",
       "  'SEMIO_SOZ',\n",
       "  'SEMIO_TRADV',\n",
       "  'SEMIO_VERT',\n",
       "  'SHOPPER_TYP',\n",
       "  'TITEL_KZ',\n",
       "  'VERS_TYP',\n",
       "  'WOHNDAUER_2008',\n",
       "  'WOHNLAGE',\n",
       "  'W_KEIT_KIND_HH',\n",
       "  'ZABEOTYP'],\n",
       " 0: ['ALTERSKATEGORIE_GROB',\n",
       "  'ALTER_HH',\n",
       "  'ANREDE_KZ',\n",
       "  'CJT_GESAMTTYP',\n",
       "  'GEBAEUDETYP',\n",
       "  'HH_EINKOMMEN_SCORE',\n",
       "  'KBA05_BAUMAX',\n",
       "  'KBA05_GBZ',\n",
       "  'KKK',\n",
       "  'NATIONALITAET_KZ',\n",
       "  'PRAEGENDE_JUGENDJAHRE',\n",
       "  'REGIOTYP',\n",
       "  'RETOURTYP_BK_S',\n",
       "  'TITEL_KZ',\n",
       "  'WOHNDAUER_2008',\n",
       "  'W_KEIT_KIND_HH'],\n",
       " 9: ['KBA05_ALTER1',\n",
       "  'KBA05_ALTER2',\n",
       "  'KBA05_ALTER3',\n",
       "  'KBA05_ALTER4',\n",
       "  'KBA05_ANHANG',\n",
       "  'KBA05_AUTOQUOT',\n",
       "  'KBA05_CCM1',\n",
       "  'KBA05_CCM2',\n",
       "  'KBA05_CCM3',\n",
       "  'KBA05_CCM4',\n",
       "  'KBA05_DIESEL',\n",
       "  'KBA05_FRAU',\n",
       "  'KBA05_HERST1',\n",
       "  'KBA05_HERST2',\n",
       "  'KBA05_HERST3',\n",
       "  'KBA05_HERST4',\n",
       "  'KBA05_HERST5',\n",
       "  'KBA05_HERSTTEMP',\n",
       "  'KBA05_KRSAQUOT',\n",
       "  'KBA05_KRSHERST1',\n",
       "  'KBA05_KRSHERST2',\n",
       "  'KBA05_KRSHERST3',\n",
       "  'KBA05_KRSKLEIN',\n",
       "  'KBA05_KRSOBER',\n",
       "  'KBA05_KRSVAN',\n",
       "  'KBA05_KRSZUL',\n",
       "  'KBA05_KW1',\n",
       "  'KBA05_KW2',\n",
       "  'KBA05_KW3',\n",
       "  'KBA05_MAXAH',\n",
       "  'KBA05_MAXBJ',\n",
       "  'KBA05_MAXHERST',\n",
       "  'KBA05_MAXSEG',\n",
       "  'KBA05_MAXVORB',\n",
       "  'KBA05_MOD1',\n",
       "  'KBA05_MOD2',\n",
       "  'KBA05_MOD3',\n",
       "  'KBA05_MOD4',\n",
       "  'KBA05_MOD8',\n",
       "  'KBA05_MODTEMP',\n",
       "  'KBA05_MOTOR',\n",
       "  'KBA05_MOTRAD',\n",
       "  'KBA05_SEG1',\n",
       "  'KBA05_SEG10',\n",
       "  'KBA05_SEG2',\n",
       "  'KBA05_SEG3',\n",
       "  'KBA05_SEG4',\n",
       "  'KBA05_SEG5',\n",
       "  'KBA05_SEG6',\n",
       "  'KBA05_SEG7',\n",
       "  'KBA05_SEG8',\n",
       "  'KBA05_SEG9',\n",
       "  'KBA05_VORB0',\n",
       "  'KBA05_VORB1',\n",
       "  'KBA05_VORB2',\n",
       "  'KBA05_ZUL1',\n",
       "  'KBA05_ZUL2',\n",
       "  'KBA05_ZUL3',\n",
       "  'KBA05_ZUL4',\n",
       "  'RELAT_AB',\n",
       "  'SEMIO_DOM',\n",
       "  'SEMIO_ERL',\n",
       "  'SEMIO_FAM',\n",
       "  'SEMIO_KAEM',\n",
       "  'SEMIO_KRIT',\n",
       "  'SEMIO_KULT',\n",
       "  'SEMIO_LUST',\n",
       "  'SEMIO_MAT',\n",
       "  'SEMIO_PFLICHT',\n",
       "  'SEMIO_RAT',\n",
       "  'SEMIO_REL',\n",
       "  'SEMIO_SOZ',\n",
       "  'SEMIO_TRADV',\n",
       "  'SEMIO_VERT',\n",
       "  'ZABEOTYP']}"
      ]
     },
     "execution_count": 30,
     "metadata": {},
     "output_type": "execute_result"
    }
   ],
   "source": [
    "value"
   ]
  },
  {
   "cell_type": "code",
   "execution_count": 31,
   "id": "48dda463",
   "metadata": {},
   "outputs": [],
   "source": [
    "def replace_values(df, values=value):\n",
    "    \"\"\"Function to replace given values in given columns with nans.\n",
    "    :param df: dataframe to perform operations on\n",
    "    :param values: dictionary of values(key) to be replaced with \n",
    "    nan in the given columns(value)\n",
    "    \n",
    "    :return: dataframe with replaced values\n",
    "    \"\"\"\n",
    "    \n",
    "    for value, cols in values.items():\n",
    "        to_replace = {value: np.nan}\n",
    "        df[cols] = df.loc[:, cols].replace(to_replace)\n",
    "        print(\"Replaced {} with nan in following column(s):{}\".format(value, cols))\n",
    "        \n",
    "    return df"
   ]
  },
  {
   "cell_type": "code",
   "execution_count": 32,
   "id": "d25132b5",
   "metadata": {},
   "outputs": [
    {
     "name": "stdout",
     "output_type": "stream",
     "text": [
      "AZDIAS\n",
      "Replaced X with nan in following column(s):['CAMEO_DEUG_2015']\n",
      "Replaced XX with nan in following column(s):['CAMEO_INTL_2015']\n",
      "Replaced -1 with nan in following column(s):['AGER_TYP', 'ALTERSKATEGORIE_GROB', 'ANREDE_KZ', 'BALLRAUM', 'CAMEO_DEUG_2015', 'EWDICHTE', 'FINANZTYP', 'FINANZ_ANLEGER', 'FINANZ_HAUSBAUER', 'FINANZ_MINIMALIST', 'FINANZ_SPARER', 'FINANZ_UNAUFFAELLIGER', 'FINANZ_VORSORGER', 'GEBAEUDETYP', 'HEALTH_TYP', 'HH_EINKOMMEN_SCORE', 'INNENSTADT', 'KBA05_ALTER1', 'KBA05_ALTER2', 'KBA05_ALTER3', 'KBA05_ALTER4', 'KBA05_ANHANG', 'KBA05_ANTG1', 'KBA05_ANTG2', 'KBA05_ANTG3', 'KBA05_ANTG4', 'KBA05_AUTOQUOT', 'KBA05_BAUMAX', 'KBA05_CCM1', 'KBA05_CCM2', 'KBA05_CCM3', 'KBA05_CCM4', 'KBA05_DIESEL', 'KBA05_FRAU', 'KBA05_GBZ', 'KBA05_HERST1', 'KBA05_HERST2', 'KBA05_HERST3', 'KBA05_HERST4', 'KBA05_HERST5', 'KBA05_HERSTTEMP', 'KBA05_KRSAQUOT', 'KBA05_KRSHERST1', 'KBA05_KRSHERST2', 'KBA05_KRSHERST3', 'KBA05_KRSKLEIN', 'KBA05_KRSOBER', 'KBA05_KRSVAN', 'KBA05_KRSZUL', 'KBA05_KW1', 'KBA05_KW2', 'KBA05_KW3', 'KBA05_MAXAH', 'KBA05_MAXBJ', 'KBA05_MAXHERST', 'KBA05_MAXSEG', 'KBA05_MAXVORB', 'KBA05_MOD1', 'KBA05_MOD2', 'KBA05_MOD3', 'KBA05_MOD4', 'KBA05_MOD8', 'KBA05_MODTEMP', 'KBA05_MOTOR', 'KBA05_MOTRAD', 'KBA05_SEG1', 'KBA05_SEG10', 'KBA05_SEG2', 'KBA05_SEG3', 'KBA05_SEG4', 'KBA05_SEG5', 'KBA05_SEG6', 'KBA05_SEG7', 'KBA05_SEG8', 'KBA05_SEG9', 'KBA05_VORB0', 'KBA05_VORB1', 'KBA05_VORB2', 'KBA05_ZUL1', 'KBA05_ZUL2', 'KBA05_ZUL3', 'KBA05_ZUL4', 'KBA13_ALTERHALTER_30', 'KBA13_ALTERHALTER_45', 'KBA13_ALTERHALTER_60', 'KBA13_ALTERHALTER_61', 'KBA13_AUDI', 'KBA13_AUTOQUOTE', 'KBA13_BJ_1999', 'KBA13_BJ_2000', 'KBA13_BJ_2004', 'KBA13_BJ_2006', 'KBA13_BJ_2008', 'KBA13_BJ_2009', 'KBA13_BMW', 'KBA13_CCM_1000', 'KBA13_CCM_1200', 'KBA13_CCM_1400', 'KBA13_CCM_0_1400', 'KBA13_CCM_1500', 'KBA13_CCM_1600', 'KBA13_CCM_1800', 'KBA13_CCM_2000', 'KBA13_CCM_2500', 'KBA13_CCM_2501', 'KBA13_CCM_3000', 'KBA13_CCM_3001', 'KBA13_FAB_ASIEN', 'KBA13_FAB_SONSTIGE', 'KBA13_FIAT', 'KBA13_FORD', 'KBA13_HALTER_20', 'KBA13_HALTER_25', 'KBA13_HALTER_30', 'KBA13_HALTER_35', 'KBA13_HALTER_40', 'KBA13_HALTER_45', 'KBA13_HALTER_50', 'KBA13_HALTER_55', 'KBA13_HALTER_60', 'KBA13_HALTER_65', 'KBA13_HALTER_66', 'KBA13_HERST_ASIEN', 'KBA13_HERST_AUDI_VW', 'KBA13_HERST_BMW_BENZ', 'KBA13_HERST_EUROPA', 'KBA13_HERST_FORD_OPEL', 'KBA13_HERST_SONST', 'KBA13_KMH_110', 'KBA13_KMH_140', 'KBA13_KMH_180', 'KBA13_KMH_0_140', 'KBA13_KMH_140_210', 'KBA13_KMH_211', 'KBA13_KMH_250', 'KBA13_KMH_251', 'KBA13_KRSAQUOT', 'KBA13_KRSHERST_AUDI_VW', 'KBA13_KRSHERST_BMW_BENZ', 'KBA13_KRSHERST_FORD_OPEL', 'KBA13_KRSSEG_KLEIN', 'KBA13_KRSSEG_OBER', 'KBA13_KRSSEG_VAN', 'KBA13_KRSZUL_NEU', 'KBA13_KW_30', 'KBA13_KW_40', 'KBA13_KW_50', 'KBA13_KW_60', 'KBA13_KW_0_60', 'KBA13_KW_70', 'KBA13_KW_61_120', 'KBA13_KW_80', 'KBA13_KW_90', 'KBA13_KW_110', 'KBA13_KW_120', 'KBA13_KW_121', 'KBA13_MAZDA', 'KBA13_MERCEDES', 'KBA13_MOTOR', 'KBA13_NISSAN', 'KBA13_OPEL', 'KBA13_PEUGEOT', 'KBA13_RENAULT', 'KBA13_SEG_GELAENDEWAGEN', 'KBA13_SEG_GROSSRAUMVANS', 'KBA13_SEG_KLEINST', 'KBA13_SEG_KLEINWAGEN', 'KBA13_SEG_KOMPAKTKLASSE', 'KBA13_SEG_MINIVANS', 'KBA13_SEG_MINIWAGEN', 'KBA13_SEG_MITTELKLASSE', 'KBA13_SEG_OBEREMITTELKLASSE', 'KBA13_SEG_OBERKLASSE', 'KBA13_SEG_SONSTIGE', 'KBA13_SEG_SPORTWAGEN', 'KBA13_SEG_UTILITIES', 'KBA13_SEG_VAN', 'KBA13_SEG_WOHNMOBILE', 'KBA13_SITZE_4', 'KBA13_SITZE_5', 'KBA13_SITZE_6', 'KBA13_TOYOTA', 'KBA13_VORB_0', 'KBA13_VORB_1', 'KBA13_VORB_1_2', 'KBA13_VORB_2', 'KBA13_VORB_3', 'KBA13_VW', 'KKK', 'NATIONALITAET_KZ', 'ORTSGR_KLS9', 'OST_WEST_KZ', 'PLZ8_ANTG1', 'PLZ8_ANTG2', 'PLZ8_ANTG3', 'PLZ8_ANTG4', 'PLZ8_GBZ', 'PLZ8_HHZ', 'PRAEGENDE_JUGENDJAHRE', 'REGIOTYP', 'RELAT_AB', 'SEMIO_DOM', 'SEMIO_ERL', 'SEMIO_FAM', 'SEMIO_KAEM', 'SEMIO_KRIT', 'SEMIO_KULT', 'SEMIO_LUST', 'SEMIO_MAT', 'SEMIO_PFLICHT', 'SEMIO_RAT', 'SEMIO_REL', 'SEMIO_SOZ', 'SEMIO_TRADV', 'SEMIO_VERT', 'SHOPPER_TYP', 'TITEL_KZ', 'VERS_TYP', 'WOHNDAUER_2008', 'WOHNLAGE', 'W_KEIT_KIND_HH', 'ZABEOTYP']\n",
      "Replaced 0 with nan in following column(s):['ALTERSKATEGORIE_GROB', 'ALTER_HH', 'ANREDE_KZ', 'CJT_GESAMTTYP', 'GEBAEUDETYP', 'HH_EINKOMMEN_SCORE', 'KBA05_BAUMAX', 'KBA05_GBZ', 'KKK', 'NATIONALITAET_KZ', 'PRAEGENDE_JUGENDJAHRE', 'REGIOTYP', 'RETOURTYP_BK_S', 'TITEL_KZ', 'WOHNDAUER_2008', 'W_KEIT_KIND_HH']\n",
      "Replaced 9 with nan in following column(s):['KBA05_ALTER1', 'KBA05_ALTER2', 'KBA05_ALTER3', 'KBA05_ALTER4', 'KBA05_ANHANG', 'KBA05_AUTOQUOT', 'KBA05_CCM1', 'KBA05_CCM2', 'KBA05_CCM3', 'KBA05_CCM4', 'KBA05_DIESEL', 'KBA05_FRAU', 'KBA05_HERST1', 'KBA05_HERST2', 'KBA05_HERST3', 'KBA05_HERST4', 'KBA05_HERST5', 'KBA05_HERSTTEMP', 'KBA05_KRSAQUOT', 'KBA05_KRSHERST1', 'KBA05_KRSHERST2', 'KBA05_KRSHERST3', 'KBA05_KRSKLEIN', 'KBA05_KRSOBER', 'KBA05_KRSVAN', 'KBA05_KRSZUL', 'KBA05_KW1', 'KBA05_KW2', 'KBA05_KW3', 'KBA05_MAXAH', 'KBA05_MAXBJ', 'KBA05_MAXHERST', 'KBA05_MAXSEG', 'KBA05_MAXVORB', 'KBA05_MOD1', 'KBA05_MOD2', 'KBA05_MOD3', 'KBA05_MOD4', 'KBA05_MOD8', 'KBA05_MODTEMP', 'KBA05_MOTOR', 'KBA05_MOTRAD', 'KBA05_SEG1', 'KBA05_SEG10', 'KBA05_SEG2', 'KBA05_SEG3', 'KBA05_SEG4', 'KBA05_SEG5', 'KBA05_SEG6', 'KBA05_SEG7', 'KBA05_SEG8', 'KBA05_SEG9', 'KBA05_VORB0', 'KBA05_VORB1', 'KBA05_VORB2', 'KBA05_ZUL1', 'KBA05_ZUL2', 'KBA05_ZUL3', 'KBA05_ZUL4', 'RELAT_AB', 'SEMIO_DOM', 'SEMIO_ERL', 'SEMIO_FAM', 'SEMIO_KAEM', 'SEMIO_KRIT', 'SEMIO_KULT', 'SEMIO_LUST', 'SEMIO_MAT', 'SEMIO_PFLICHT', 'SEMIO_RAT', 'SEMIO_REL', 'SEMIO_SOZ', 'SEMIO_TRADV', 'SEMIO_VERT', 'ZABEOTYP']\n",
      "CUSTOMERS\n",
      "Replaced X with nan in following column(s):['CAMEO_DEUG_2015']\n",
      "Replaced XX with nan in following column(s):['CAMEO_INTL_2015']\n",
      "Replaced -1 with nan in following column(s):['AGER_TYP', 'ALTERSKATEGORIE_GROB', 'ANREDE_KZ', 'BALLRAUM', 'CAMEO_DEUG_2015', 'EWDICHTE', 'FINANZTYP', 'FINANZ_ANLEGER', 'FINANZ_HAUSBAUER', 'FINANZ_MINIMALIST', 'FINANZ_SPARER', 'FINANZ_UNAUFFAELLIGER', 'FINANZ_VORSORGER', 'GEBAEUDETYP', 'HEALTH_TYP', 'HH_EINKOMMEN_SCORE', 'INNENSTADT', 'KBA05_ALTER1', 'KBA05_ALTER2', 'KBA05_ALTER3', 'KBA05_ALTER4', 'KBA05_ANHANG', 'KBA05_ANTG1', 'KBA05_ANTG2', 'KBA05_ANTG3', 'KBA05_ANTG4', 'KBA05_AUTOQUOT', 'KBA05_BAUMAX', 'KBA05_CCM1', 'KBA05_CCM2', 'KBA05_CCM3', 'KBA05_CCM4', 'KBA05_DIESEL', 'KBA05_FRAU', 'KBA05_GBZ', 'KBA05_HERST1', 'KBA05_HERST2', 'KBA05_HERST3', 'KBA05_HERST4', 'KBA05_HERST5', 'KBA05_HERSTTEMP', 'KBA05_KRSAQUOT', 'KBA05_KRSHERST1', 'KBA05_KRSHERST2', 'KBA05_KRSHERST3', 'KBA05_KRSKLEIN', 'KBA05_KRSOBER', 'KBA05_KRSVAN', 'KBA05_KRSZUL', 'KBA05_KW1', 'KBA05_KW2', 'KBA05_KW3', 'KBA05_MAXAH', 'KBA05_MAXBJ', 'KBA05_MAXHERST', 'KBA05_MAXSEG', 'KBA05_MAXVORB', 'KBA05_MOD1', 'KBA05_MOD2', 'KBA05_MOD3', 'KBA05_MOD4', 'KBA05_MOD8', 'KBA05_MODTEMP', 'KBA05_MOTOR', 'KBA05_MOTRAD', 'KBA05_SEG1', 'KBA05_SEG10', 'KBA05_SEG2', 'KBA05_SEG3', 'KBA05_SEG4', 'KBA05_SEG5', 'KBA05_SEG6', 'KBA05_SEG7', 'KBA05_SEG8', 'KBA05_SEG9', 'KBA05_VORB0', 'KBA05_VORB1', 'KBA05_VORB2', 'KBA05_ZUL1', 'KBA05_ZUL2', 'KBA05_ZUL3', 'KBA05_ZUL4', 'KBA13_ALTERHALTER_30', 'KBA13_ALTERHALTER_45', 'KBA13_ALTERHALTER_60', 'KBA13_ALTERHALTER_61', 'KBA13_AUDI', 'KBA13_AUTOQUOTE', 'KBA13_BJ_1999', 'KBA13_BJ_2000', 'KBA13_BJ_2004', 'KBA13_BJ_2006', 'KBA13_BJ_2008', 'KBA13_BJ_2009', 'KBA13_BMW', 'KBA13_CCM_1000', 'KBA13_CCM_1200', 'KBA13_CCM_1400', 'KBA13_CCM_0_1400', 'KBA13_CCM_1500', 'KBA13_CCM_1600', 'KBA13_CCM_1800', 'KBA13_CCM_2000', 'KBA13_CCM_2500', 'KBA13_CCM_2501', 'KBA13_CCM_3000', 'KBA13_CCM_3001', 'KBA13_FAB_ASIEN', 'KBA13_FAB_SONSTIGE', 'KBA13_FIAT', 'KBA13_FORD', 'KBA13_HALTER_20', 'KBA13_HALTER_25', 'KBA13_HALTER_30', 'KBA13_HALTER_35', 'KBA13_HALTER_40', 'KBA13_HALTER_45', 'KBA13_HALTER_50', 'KBA13_HALTER_55', 'KBA13_HALTER_60', 'KBA13_HALTER_65', 'KBA13_HALTER_66', 'KBA13_HERST_ASIEN', 'KBA13_HERST_AUDI_VW', 'KBA13_HERST_BMW_BENZ', 'KBA13_HERST_EUROPA', 'KBA13_HERST_FORD_OPEL', 'KBA13_HERST_SONST', 'KBA13_KMH_110', 'KBA13_KMH_140', 'KBA13_KMH_180', 'KBA13_KMH_0_140', 'KBA13_KMH_140_210', 'KBA13_KMH_211', 'KBA13_KMH_250', 'KBA13_KMH_251', 'KBA13_KRSAQUOT', 'KBA13_KRSHERST_AUDI_VW', 'KBA13_KRSHERST_BMW_BENZ', 'KBA13_KRSHERST_FORD_OPEL', 'KBA13_KRSSEG_KLEIN', 'KBA13_KRSSEG_OBER', 'KBA13_KRSSEG_VAN', 'KBA13_KRSZUL_NEU', 'KBA13_KW_30', 'KBA13_KW_40', 'KBA13_KW_50', 'KBA13_KW_60', 'KBA13_KW_0_60', 'KBA13_KW_70', 'KBA13_KW_61_120', 'KBA13_KW_80', 'KBA13_KW_90', 'KBA13_KW_110', 'KBA13_KW_120', 'KBA13_KW_121', 'KBA13_MAZDA', 'KBA13_MERCEDES', 'KBA13_MOTOR', 'KBA13_NISSAN', 'KBA13_OPEL', 'KBA13_PEUGEOT', 'KBA13_RENAULT', 'KBA13_SEG_GELAENDEWAGEN', 'KBA13_SEG_GROSSRAUMVANS', 'KBA13_SEG_KLEINST', 'KBA13_SEG_KLEINWAGEN', 'KBA13_SEG_KOMPAKTKLASSE', 'KBA13_SEG_MINIVANS', 'KBA13_SEG_MINIWAGEN', 'KBA13_SEG_MITTELKLASSE', 'KBA13_SEG_OBEREMITTELKLASSE', 'KBA13_SEG_OBERKLASSE', 'KBA13_SEG_SONSTIGE', 'KBA13_SEG_SPORTWAGEN', 'KBA13_SEG_UTILITIES', 'KBA13_SEG_VAN', 'KBA13_SEG_WOHNMOBILE', 'KBA13_SITZE_4', 'KBA13_SITZE_5', 'KBA13_SITZE_6', 'KBA13_TOYOTA', 'KBA13_VORB_0', 'KBA13_VORB_1', 'KBA13_VORB_1_2', 'KBA13_VORB_2', 'KBA13_VORB_3', 'KBA13_VW', 'KKK', 'NATIONALITAET_KZ', 'ORTSGR_KLS9', 'OST_WEST_KZ', 'PLZ8_ANTG1', 'PLZ8_ANTG2', 'PLZ8_ANTG3', 'PLZ8_ANTG4', 'PLZ8_GBZ', 'PLZ8_HHZ', 'PRAEGENDE_JUGENDJAHRE', 'REGIOTYP', 'RELAT_AB', 'SEMIO_DOM', 'SEMIO_ERL', 'SEMIO_FAM', 'SEMIO_KAEM', 'SEMIO_KRIT', 'SEMIO_KULT', 'SEMIO_LUST', 'SEMIO_MAT', 'SEMIO_PFLICHT', 'SEMIO_RAT', 'SEMIO_REL', 'SEMIO_SOZ', 'SEMIO_TRADV', 'SEMIO_VERT', 'SHOPPER_TYP', 'TITEL_KZ', 'VERS_TYP', 'WOHNDAUER_2008', 'WOHNLAGE', 'W_KEIT_KIND_HH', 'ZABEOTYP']\n"
     ]
    },
    {
     "name": "stdout",
     "output_type": "stream",
     "text": [
      "Replaced 0 with nan in following column(s):['ALTERSKATEGORIE_GROB', 'ALTER_HH', 'ANREDE_KZ', 'CJT_GESAMTTYP', 'GEBAEUDETYP', 'HH_EINKOMMEN_SCORE', 'KBA05_BAUMAX', 'KBA05_GBZ', 'KKK', 'NATIONALITAET_KZ', 'PRAEGENDE_JUGENDJAHRE', 'REGIOTYP', 'RETOURTYP_BK_S', 'TITEL_KZ', 'WOHNDAUER_2008', 'W_KEIT_KIND_HH']\n",
      "Replaced 9 with nan in following column(s):['KBA05_ALTER1', 'KBA05_ALTER2', 'KBA05_ALTER3', 'KBA05_ALTER4', 'KBA05_ANHANG', 'KBA05_AUTOQUOT', 'KBA05_CCM1', 'KBA05_CCM2', 'KBA05_CCM3', 'KBA05_CCM4', 'KBA05_DIESEL', 'KBA05_FRAU', 'KBA05_HERST1', 'KBA05_HERST2', 'KBA05_HERST3', 'KBA05_HERST4', 'KBA05_HERST5', 'KBA05_HERSTTEMP', 'KBA05_KRSAQUOT', 'KBA05_KRSHERST1', 'KBA05_KRSHERST2', 'KBA05_KRSHERST3', 'KBA05_KRSKLEIN', 'KBA05_KRSOBER', 'KBA05_KRSVAN', 'KBA05_KRSZUL', 'KBA05_KW1', 'KBA05_KW2', 'KBA05_KW3', 'KBA05_MAXAH', 'KBA05_MAXBJ', 'KBA05_MAXHERST', 'KBA05_MAXSEG', 'KBA05_MAXVORB', 'KBA05_MOD1', 'KBA05_MOD2', 'KBA05_MOD3', 'KBA05_MOD4', 'KBA05_MOD8', 'KBA05_MODTEMP', 'KBA05_MOTOR', 'KBA05_MOTRAD', 'KBA05_SEG1', 'KBA05_SEG10', 'KBA05_SEG2', 'KBA05_SEG3', 'KBA05_SEG4', 'KBA05_SEG5', 'KBA05_SEG6', 'KBA05_SEG7', 'KBA05_SEG8', 'KBA05_SEG9', 'KBA05_VORB0', 'KBA05_VORB1', 'KBA05_VORB2', 'KBA05_ZUL1', 'KBA05_ZUL2', 'KBA05_ZUL3', 'KBA05_ZUL4', 'RELAT_AB', 'SEMIO_DOM', 'SEMIO_ERL', 'SEMIO_FAM', 'SEMIO_KAEM', 'SEMIO_KRIT', 'SEMIO_KULT', 'SEMIO_LUST', 'SEMIO_MAT', 'SEMIO_PFLICHT', 'SEMIO_RAT', 'SEMIO_REL', 'SEMIO_SOZ', 'SEMIO_TRADV', 'SEMIO_VERT', 'ZABEOTYP']\n"
     ]
    }
   ],
   "source": [
    "print(\"AZDIAS\")\n",
    "azdias_clean = replace_values(azdias, value)\n",
    "print(\"CUSTOMERS\")\n",
    "customers_clean = replace_values(customers, value)"
   ]
  },
  {
   "cell_type": "markdown",
   "id": "d89087a2",
   "metadata": {},
   "source": [
    "## Exploring the dataset"
   ]
  },
  {
   "cell_type": "code",
   "execution_count": 33,
   "id": "7f8be04d",
   "metadata": {},
   "outputs": [],
   "source": [
    "diff_attrs = [\"ONLINE_PURCHASE\", \"PRODUCT_GROUP\",\"CUSTOMER_GROUP\"]"
   ]
  },
  {
   "cell_type": "code",
   "execution_count": 34,
   "id": "7ef8df9f",
   "metadata": {},
   "outputs": [
    {
     "data": {
      "text/plain": [
       "ONLINE_PURCHASE     int64\n",
       "PRODUCT_GROUP      object\n",
       "CUSTOMER_GROUP     object\n",
       "dtype: object"
      ]
     },
     "execution_count": 34,
     "metadata": {},
     "output_type": "execute_result"
    }
   ],
   "source": [
    "customers_clean.loc[:,diff_attrs].dtypes"
   ]
  },
  {
   "cell_type": "code",
   "execution_count": 35,
   "id": "8cd8f470",
   "metadata": {},
   "outputs": [
    {
     "data": {
      "image/png": "[encoded data removed]",
      "text/plain": [
       "<Figure size 432x288 with 1 Axes>"
      ]
     },
     "metadata": {
      "needs_background": "light"
     },
     "output_type": "display_data"
    }
   ],
   "source": [
    "online_purchase = customers_clean.loc[customers_clean['ONLINE_PURCHASE'].notnull(),'ONLINE_PURCHASE']\n",
    "plt.hist(online_purchase);"
   ]
  },
  {
   "cell_type": "code",
   "execution_count": 36,
   "id": "572258e8",
   "metadata": {},
   "outputs": [
    {
     "name": "stdout",
     "output_type": "stream",
     "text": [
      "Percentage of customers who made purchase online:  9.02469058501868\n"
     ]
    }
   ],
   "source": [
    "# % of customers who bought products online\n",
    "online_pct = (sum(online_purchase) / len(online_purchase)) * 100\n",
    "\n",
    "print(\"Percentage of customers who made purchase online: \", online_pct)"
   ]
  },
  {
   "cell_type": "code",
   "execution_count": 37,
   "id": "0b9aa95b",
   "metadata": {},
   "outputs": [],
   "source": [
    "product_group = customers_clean.loc[customers_clean[\"PRODUCT_GROUP\"].notnull(),\"PRODUCT_GROUP\"]"
   ]
  },
  {
   "cell_type": "code",
   "execution_count": 38,
   "id": "7a814acf",
   "metadata": {},
   "outputs": [
    {
     "data": {
      "image/png": "[encoded data removed]",
      "text/plain": [
       "<Figure size 432x288 with 1 Axes>"
      ]
     },
     "metadata": {
      "needs_background": "light"
     },
     "output_type": "display_data"
    }
   ],
   "source": [
    "plt.hist(product_group);"
   ]
  },
  {
   "cell_type": "code",
   "execution_count": 39,
   "id": "bbfc4064",
   "metadata": {},
   "outputs": [
    {
     "data": {
      "text/plain": [
       "COSMETIC_AND_FOOD    52.626636\n",
       "FOOD                 24.722935\n",
       "COSMETIC             22.650429\n",
       "Name: PRODUCT_GROUP, dtype: float64"
      ]
     },
     "execution_count": 39,
     "metadata": {},
     "output_type": "execute_result"
    }
   ],
   "source": [
    "# Percentage of \n",
    "product_group.value_counts() * 100 / len(product_group)"
   ]
  },
  {
   "cell_type": "code",
   "execution_count": 40,
   "id": "8d4dc441",
   "metadata": {},
   "outputs": [],
   "source": [
    "customer_group = customers_clean.loc[customers_clean[\"CUSTOMER_GROUP\"].notnull(),\"CUSTOMER_GROUP\"]"
   ]
  },
  {
   "cell_type": "code",
   "execution_count": 41,
   "id": "15662cc8",
   "metadata": {},
   "outputs": [
    {
     "data": {
      "image/png": "[encoded data removed]",
      "text/plain": [
       "<Figure size 432x288 with 1 Axes>"
      ]
     },
     "metadata": {
      "needs_background": "light"
     },
     "output_type": "display_data"
    }
   ],
   "source": [
    "plt.hist(customer_group);"
   ]
  },
  {
   "cell_type": "code",
   "execution_count": 42,
   "id": "5edff164",
   "metadata": {},
   "outputs": [
    {
     "data": {
      "text/plain": [
       "MULTI_BUYER     68.999019\n",
       "SINGLE_BUYER    31.000981\n",
       "Name: CUSTOMER_GROUP, dtype: float64"
      ]
     },
     "execution_count": 42,
     "metadata": {},
     "output_type": "execute_result"
    }
   ],
   "source": [
    "# Percentage of \n",
    "customer_group.value_counts() * 100 / len(customer_group)"
   ]
  },
  {
   "cell_type": "code",
   "execution_count": 43,
   "id": "210dcccc",
   "metadata": {},
   "outputs": [],
   "source": [
    "## Change data types of customer groups and product groups\n",
    "customers_clean[[\"CUSTOMER_GROUP\",\"PRODUCT_GROUP\"]] = customers_clean[[\"CUSTOMER_GROUP\",\"PRODUCT_GROUP\"]].astype('category')"
   ]
  },
  {
   "cell_type": "markdown",
   "id": "be697043",
   "metadata": {},
   "source": [
    "## Information table"
   ]
  },
  {
   "cell_type": "code",
   "execution_count": 44,
   "id": "d7c8196c",
   "metadata": {},
   "outputs": [
    {
     "data": {
      "text/html": [
       "<div>\n",
       "<style scoped>\n",
       "    .dataframe tbody tr th:only-of-type {\n",
       "        vertical-align: middle;\n",
       "    }\n",
       "\n",
       "    .dataframe tbody tr th {\n",
       "        vertical-align: top;\n",
       "    }\n",
       "\n",
       "    .dataframe thead th {\n",
       "        text-align: right;\n",
       "    }\n",
       "</style>\n",
       "<table border=\"1\" class=\"dataframe\">\n",
       "  <thead>\n",
       "    <tr style=\"text-align: right;\">\n",
       "      <th></th>\n",
       "      <th>Information level</th>\n",
       "      <th>Attribute</th>\n",
       "      <th>Description</th>\n",
       "      <th>Additional notes</th>\n",
       "    </tr>\n",
       "  </thead>\n",
       "  <tbody>\n",
       "    <tr>\n",
       "      <th>1</th>\n",
       "      <td>NaN</td>\n",
       "      <td>AGER_TYP</td>\n",
       "      <td>best-ager typology</td>\n",
       "      <td>in cooperation with Kantar TNS; the informatio...</td>\n",
       "    </tr>\n",
       "    <tr>\n",
       "      <th>2</th>\n",
       "      <td>Person</td>\n",
       "      <td>ALTERSKATEGORIE_GROB</td>\n",
       "      <td>age through prename analysis</td>\n",
       "      <td>modelled on millions of first name-age-referen...</td>\n",
       "    </tr>\n",
       "    <tr>\n",
       "      <th>3</th>\n",
       "      <td>NaN</td>\n",
       "      <td>ANREDE_KZ</td>\n",
       "      <td>gender</td>\n",
       "      <td>NaN</td>\n",
       "    </tr>\n",
       "    <tr>\n",
       "      <th>4</th>\n",
       "      <td>NaN</td>\n",
       "      <td>CJT_GESAMTTYP</td>\n",
       "      <td>Customer-Journey-Typology relating to the pref...</td>\n",
       "      <td>relating to the preferred information, marketi...</td>\n",
       "    </tr>\n",
       "    <tr>\n",
       "      <th>5</th>\n",
       "      <td>NaN</td>\n",
       "      <td>FINANZ_MINIMALIST</td>\n",
       "      <td>financial typology: low financial interest</td>\n",
       "      <td>Gfk-Typology based on a representative househo...</td>\n",
       "    </tr>\n",
       "    <tr>\n",
       "      <th>6</th>\n",
       "      <td>NaN</td>\n",
       "      <td>FINANZ_SPARER</td>\n",
       "      <td>financial typology: money saver</td>\n",
       "      <td>NaN</td>\n",
       "    </tr>\n",
       "    <tr>\n",
       "      <th>7</th>\n",
       "      <td>NaN</td>\n",
       "      <td>FINANZ_VORSORGER</td>\n",
       "      <td>financial typology: be prepared</td>\n",
       "      <td>NaN</td>\n",
       "    </tr>\n",
       "    <tr>\n",
       "      <th>8</th>\n",
       "      <td>NaN</td>\n",
       "      <td>FINANZ_ANLEGER</td>\n",
       "      <td>financial typology: investor</td>\n",
       "      <td>NaN</td>\n",
       "    </tr>\n",
       "    <tr>\n",
       "      <th>9</th>\n",
       "      <td>NaN</td>\n",
       "      <td>FINANZ_UNAUFFAELLIGER</td>\n",
       "      <td>financial typology: unremarkable</td>\n",
       "      <td>NaN</td>\n",
       "    </tr>\n",
       "    <tr>\n",
       "      <th>10</th>\n",
       "      <td>NaN</td>\n",
       "      <td>FINANZ_HAUSBAUER</td>\n",
       "      <td>financial typology: main focus is the own house</td>\n",
       "      <td>NaN</td>\n",
       "    </tr>\n",
       "    <tr>\n",
       "      <th>11</th>\n",
       "      <td>NaN</td>\n",
       "      <td>FINANZTYP</td>\n",
       "      <td>best descirbing financial type for the peron</td>\n",
       "      <td>NaN</td>\n",
       "    </tr>\n",
       "    <tr>\n",
       "      <th>12</th>\n",
       "      <td>NaN</td>\n",
       "      <td>GEBURTSJAHR</td>\n",
       "      <td>year of birth</td>\n",
       "      <td>NaN</td>\n",
       "    </tr>\n",
       "    <tr>\n",
       "      <th>13</th>\n",
       "      <td>NaN</td>\n",
       "      <td>GFK_URLAUBERTYP</td>\n",
       "      <td>vacation habits</td>\n",
       "      <td>NaN</td>\n",
       "    </tr>\n",
       "    <tr>\n",
       "      <th>14</th>\n",
       "      <td>NaN</td>\n",
       "      <td>GREEN_AVANTGARDE</td>\n",
       "      <td>the environmental sustainability is the domina...</td>\n",
       "      <td>own typology based on modelled on different AZ...</td>\n",
       "    </tr>\n",
       "    <tr>\n",
       "      <th>15</th>\n",
       "      <td>NaN</td>\n",
       "      <td>HEALTH_TYP</td>\n",
       "      <td>health typology</td>\n",
       "      <td>in cooperation with Kantar TNS; the informatio...</td>\n",
       "    </tr>\n",
       "    <tr>\n",
       "      <th>16</th>\n",
       "      <td>NaN</td>\n",
       "      <td>LP_LEBENSPHASE_FEIN</td>\n",
       "      <td>lifestage fine</td>\n",
       "      <td>modelled on different AZ DIAS data</td>\n",
       "    </tr>\n",
       "    <tr>\n",
       "      <th>17</th>\n",
       "      <td>NaN</td>\n",
       "      <td>LP_LEBENSPHASE_GROB</td>\n",
       "      <td>lifestage rough</td>\n",
       "      <td>modelled on different AZ DIAS data</td>\n",
       "    </tr>\n",
       "    <tr>\n",
       "      <th>18</th>\n",
       "      <td>NaN</td>\n",
       "      <td>LP_FAMILIE_FEIN</td>\n",
       "      <td>family type fine</td>\n",
       "      <td>NaN</td>\n",
       "    </tr>\n",
       "    <tr>\n",
       "      <th>19</th>\n",
       "      <td>NaN</td>\n",
       "      <td>LP_FAMILIE_GROB</td>\n",
       "      <td>family type rough</td>\n",
       "      <td>NaN</td>\n",
       "    </tr>\n",
       "    <tr>\n",
       "      <th>20</th>\n",
       "      <td>NaN</td>\n",
       "      <td>LP_STATUS_FEIN</td>\n",
       "      <td>social status fine</td>\n",
       "      <td>NaN</td>\n",
       "    </tr>\n",
       "  </tbody>\n",
       "</table>\n",
       "</div>"
      ],
      "text/plain": [
       "   Information level              Attribute  \\\n",
       "1                NaN               AGER_TYP   \n",
       "2             Person   ALTERSKATEGORIE_GROB   \n",
       "3                NaN              ANREDE_KZ   \n",
       "4                NaN          CJT_GESAMTTYP   \n",
       "5                NaN      FINANZ_MINIMALIST   \n",
       "6                NaN          FINANZ_SPARER   \n",
       "7                NaN       FINANZ_VORSORGER   \n",
       "8                NaN         FINANZ_ANLEGER   \n",
       "9                NaN  FINANZ_UNAUFFAELLIGER   \n",
       "10               NaN       FINANZ_HAUSBAUER   \n",
       "11               NaN              FINANZTYP   \n",
       "12               NaN            GEBURTSJAHR   \n",
       "13               NaN        GFK_URLAUBERTYP   \n",
       "14               NaN       GREEN_AVANTGARDE   \n",
       "15               NaN             HEALTH_TYP   \n",
       "16               NaN    LP_LEBENSPHASE_FEIN   \n",
       "17               NaN    LP_LEBENSPHASE_GROB   \n",
       "18               NaN        LP_FAMILIE_FEIN   \n",
       "19               NaN        LP_FAMILIE_GROB   \n",
       "20               NaN         LP_STATUS_FEIN   \n",
       "\n",
       "                                          Description  \\\n",
       "1                                  best-ager typology   \n",
       "2                       age through prename analysis    \n",
       "3                                              gender   \n",
       "4   Customer-Journey-Typology relating to the pref...   \n",
       "5          financial typology: low financial interest   \n",
       "6                     financial typology: money saver   \n",
       "7                     financial typology: be prepared   \n",
       "8                        financial typology: investor   \n",
       "9                    financial typology: unremarkable   \n",
       "10    financial typology: main focus is the own house   \n",
       "11       best descirbing financial type for the peron   \n",
       "12                                      year of birth   \n",
       "13                                    vacation habits   \n",
       "14  the environmental sustainability is the domina...   \n",
       "15                                    health typology   \n",
       "16                                     lifestage fine   \n",
       "17                                    lifestage rough   \n",
       "18                                   family type fine   \n",
       "19                                  family type rough   \n",
       "20                                social status fine    \n",
       "\n",
       "                                     Additional notes  \n",
       "1   in cooperation with Kantar TNS; the informatio...  \n",
       "2   modelled on millions of first name-age-referen...  \n",
       "3                                                 NaN  \n",
       "4   relating to the preferred information, marketi...  \n",
       "5   Gfk-Typology based on a representative househo...  \n",
       "6                                                 NaN  \n",
       "7                                                 NaN  \n",
       "8                                                 NaN  \n",
       "9                                                 NaN  \n",
       "10                                                NaN  \n",
       "11                                                NaN  \n",
       "12                                                NaN  \n",
       "13                                                NaN  \n",
       "14  own typology based on modelled on different AZ...  \n",
       "15  in cooperation with Kantar TNS; the informatio...  \n",
       "16                 modelled on different AZ DIAS data  \n",
       "17                 modelled on different AZ DIAS data  \n",
       "18                                                NaN  \n",
       "19                                                NaN  \n",
       "20                                                NaN  "
      ]
     },
     "execution_count": 44,
     "metadata": {},
     "output_type": "execute_result"
    }
   ],
   "source": [
    "info.head(20)"
   ]
  },
  {
   "cell_type": "code",
   "execution_count": 45,
   "id": "31448b3f",
   "metadata": {},
   "outputs": [
    {
     "data": {
      "text/plain": [
       "Person                1\n",
       "Household             1\n",
       "Postcode              1\n",
       "125m x 125m Grid      1\n",
       "Microcell (RR4_ID)    1\n",
       "Microcell (RR3_ID)    1\n",
       "Community             1\n",
       "Building              1\n",
       "PLZ8                  1\n",
       "RR1_ID                1\n",
       "Name: Information level, dtype: int64"
      ]
     },
     "execution_count": 45,
     "metadata": {},
     "output_type": "execute_result"
    }
   ],
   "source": [
    "info['Information level'].value_counts()"
   ]
  },
  {
   "cell_type": "code",
   "execution_count": 46,
   "id": "3c6c3553",
   "metadata": {},
   "outputs": [
    {
     "name": "stdout",
     "output_type": "stream",
     "text": [
      "<class 'pandas.core.frame.DataFrame'>\n",
      "RangeIndex: 313 entries, 1 to 313\n",
      "Data columns (total 4 columns):\n",
      " #   Column             Non-Null Count  Dtype \n",
      "---  ------             --------------  ----- \n",
      " 0   Information level  10 non-null     object\n",
      " 1   Attribute          313 non-null    object\n",
      " 2   Description        313 non-null    object\n",
      " 3   Additional notes   20 non-null     object\n",
      "dtypes: object(4)\n",
      "memory usage: 9.9+ KB\n"
     ]
    }
   ],
   "source": [
    "info.info()"
   ]
  },
  {
   "cell_type": "markdown",
   "id": "74c329cf",
   "metadata": {},
   "source": [
    "## Analyzing Missing Data"
   ]
  },
  {
   "cell_type": "markdown",
   "id": "ab3f1fb7",
   "metadata": {},
   "source": [
    "### Column-wise missing percentage"
   ]
  },
  {
   "cell_type": "code",
   "execution_count": 47,
   "id": "1d81c6a4",
   "metadata": {},
   "outputs": [],
   "source": [
    "## Find attributes with more than 30 % of missing values in AZDIAS dataset\n",
    "missing_per_azdias = ((azdias_clean.isna().sum() / azdias_clean.index.size) * 100)"
   ]
  },
  {
   "cell_type": "code",
   "execution_count": 48,
   "id": "56d9b290",
   "metadata": {},
   "outputs": [
    {
     "data": {
      "text/plain": [
       "AGER_TYP        76.019640\n",
       "ALTER_HH        34.813699\n",
       "ALTER_KIND1     90.904837\n",
       "ALTER_KIND2     96.690047\n",
       "ALTER_KIND3     99.307691\n",
       "ALTER_KIND4     99.864792\n",
       "EXTSEL992       73.399639\n",
       "KBA05_BAUMAX    53.468668\n",
       "KK_KUNDENTYP    65.596749\n",
       "TITEL_KZ        99.757636\n",
       "dtype: float64"
      ]
     },
     "execution_count": 48,
     "metadata": {},
     "output_type": "execute_result"
    }
   ],
   "source": [
    "missing_per_azdias[missing_per_azdias > 30]"
   ]
  },
  {
   "cell_type": "code",
   "execution_count": 49,
   "id": "686e2968",
   "metadata": {},
   "outputs": [],
   "source": [
    "## Find attributes with more than 30 % of missing values in CUSTOMERS dataset\n",
    "missing_per_customers = ((customers_clean.isna().sum() / customers_clean.index.size) * 100)"
   ]
  },
  {
   "cell_type": "code",
   "execution_count": 50,
   "id": "f46c6ad0",
   "metadata": {},
   "outputs": [
    {
     "name": "stdout",
     "output_type": "stream",
     "text": [
      "AGER_TYP        48.059504\n",
      "ALTER_HH        35.870745\n",
      "ALTER_KIND1     93.860748\n",
      "ALTER_KIND2     97.338927\n",
      "ALTER_KIND3     99.334732\n",
      "ALTER_KIND4     99.876860\n",
      "EXTSEL992       44.498883\n",
      "KBA05_BAUMAX    57.153069\n",
      "KK_KUNDENTYP    58.406382\n",
      "KKK             31.340137\n",
      "REGIOTYP        31.340137\n",
      "TITEL_KZ        98.793647\n",
      "dtype: float64\n"
     ]
    }
   ],
   "source": [
    "print(missing_per_customers[missing_per_customers > 30])"
   ]
  },
  {
   "cell_type": "code",
   "execution_count": 51,
   "id": "232d3e3c",
   "metadata": {},
   "outputs": [],
   "source": [
    "missing_30_azdias = missing_per_azdias[missing_per_azdias > 30]\n",
    "missing_30_customers = missing_per_customers[missing_per_customers > 30]"
   ]
  },
  {
   "cell_type": "markdown",
   "id": "ab9f847a",
   "metadata": {},
   "source": [
    "**Now, we will remove union of missing data attributes from both datasets.**"
   ]
  },
  {
   "cell_type": "code",
   "execution_count": 52,
   "id": "7ced7c53",
   "metadata": {},
   "outputs": [
    {
     "data": {
      "text/plain": [
       "['EXTSEL992',\n",
       " 'TITEL_KZ',\n",
       " 'ALTER_HH',\n",
       " 'ALTER_KIND2',\n",
       " 'KBA05_BAUMAX',\n",
       " 'REGIOTYP',\n",
       " 'KKK',\n",
       " 'ALTER_KIND4',\n",
       " 'ALTER_KIND1',\n",
       " 'KK_KUNDENTYP',\n",
       " 'AGER_TYP',\n",
       " 'ALTER_KIND3']"
      ]
     },
     "execution_count": 52,
     "metadata": {},
     "output_type": "execute_result"
    }
   ],
   "source": [
    "# list of columns to be removed from datasets\n",
    "remove_cols = list(set().union(missing_30_azdias.index,missing_30_customers.index))\n",
    "remove_cols"
   ]
  },
  {
   "cell_type": "code",
   "execution_count": 53,
   "id": "4865e505",
   "metadata": {},
   "outputs": [
    {
     "data": {
      "text/plain": [
       "<AxesSubplot:>"
      ]
     },
     "execution_count": 53,
     "metadata": {},
     "output_type": "execute_result"
    },
    {
     "data": {
      "image/png": "[encoded data removed]",
      "text/plain": [
       "<Figure size 1152x432 with 2 Axes>"
      ]
     },
     "metadata": {
      "needs_background": "light"
     },
     "output_type": "display_data"
    }
   ],
   "source": [
    "plt.figure(figsize = (16,6))\n",
    "\n",
    "# plot 1\n",
    "plt.subplot(2,1,1)\n",
    "sns.barplot(x = remove_cols , y = missing_per_azdias[remove_cols],color = 'green')\n",
    "plt.subplot(2,1,2)\n",
    "sns.barplot(x = remove_cols , y = missing_per_customers[remove_cols],color = 'purple')"
   ]
  },
  {
   "cell_type": "markdown",
   "id": "77a5d93d",
   "metadata": {},
   "source": [
    "## Row-wise missing percentage"
   ]
  },
  {
   "cell_type": "code",
   "execution_count": 54,
   "id": "cd7e61fd",
   "metadata": {},
   "outputs": [
    {
     "name": "stdout",
     "output_type": "stream",
     "text": [
      "Number of rows with more than 50 % of missing data NULL  99968\n"
     ]
    }
   ],
   "source": [
    "missing_azdias_rows = (azdias_clean.isnull().sum(axis = 1) / azdias_clean.columns.size) * 100\n",
    "print('Number of rows with more than 50 % of missing data NULL ',len(missing_azdias_rows[missing_azdias_rows > 50]))"
   ]
  },
  {
   "cell_type": "code",
   "execution_count": 55,
   "id": "31b15acc",
   "metadata": {},
   "outputs": [
    {
     "name": "stdout",
     "output_type": "stream",
     "text": [
      "Number of rows with more than 50 % of missing data NULL  50786\n"
     ]
    }
   ],
   "source": [
    "missing_customers_rows = (customers_clean.isnull().sum(axis = 1) / customers_clean.columns.size) * 100\n",
    "print('Number of rows with more than 50 % of missing data NULL ',len(missing_customers_rows[missing_customers_rows > 50]))"
   ]
  },
  {
   "cell_type": "code",
   "execution_count": 56,
   "id": "5468a8de",
   "metadata": {},
   "outputs": [
    {
     "name": "stdout",
     "output_type": "stream",
     "text": [
      "Percentage of total rows with more than 50% of the data null 0.11216970874788633\n",
      "Percentage of total rows with more than 50% of the data null 0.26499071233276983\n"
     ]
    }
   ],
   "source": [
    "## percentage of missing data more than 50 % in rows\n",
    "pct_missing = (len(missing_azdias_rows[missing_azdias_rows > 50]) / azdias_clean.index.size)\n",
    "print(\"Percentage of total rows with more than 50% of the data null\",pct_missing)\n",
    "pct_missing = (len(missing_customers_rows[missing_customers_rows > 50]) / customers_clean.index.size)\n",
    "print(\"Percentage of total rows with more than 50% of the data null\",pct_missing)"
   ]
  },
  {
   "cell_type": "markdown",
   "id": "0fbf18f3",
   "metadata": {},
   "source": [
    "## Data Preprocessing"
   ]
  },
  {
   "cell_type": "code",
   "execution_count": 57,
   "id": "b2248c0b",
   "metadata": {},
   "outputs": [
    {
     "data": {
      "text/plain": [
       "CAMEO_INTL_2015    object\n",
       "CAMEO_DEUG_2015    object\n",
       "dtype: object"
      ]
     },
     "execution_count": 57,
     "metadata": {},
     "output_type": "execute_result"
    }
   ],
   "source": [
    "azdias_clean[['CAMEO_INTL_2015','CAMEO_DEUG_2015']].dtypes"
   ]
  },
  {
   "cell_type": "code",
   "execution_count": 58,
   "id": "036d2c33",
   "metadata": {},
   "outputs": [
    {
     "data": {
      "text/plain": [
       "CAMEO_INTL_2015    object\n",
       "CAMEO_DEUG_2015    object\n",
       "dtype: object"
      ]
     },
     "execution_count": 58,
     "metadata": {},
     "output_type": "execute_result"
    }
   ],
   "source": [
    "customers_clean[['CAMEO_INTL_2015','CAMEO_DEUG_2015']].dtypes"
   ]
  },
  {
   "cell_type": "code",
   "execution_count": 59,
   "id": "495b45e5",
   "metadata": {},
   "outputs": [],
   "source": [
    "num_cols = ['CAMEO_INTL_2015','CAMEO_DEUG_2015']\n",
    "for col in num_cols:\n",
    "    azdias_clean[col] = pd.to_numeric(azdias_clean[col] , downcast = 'integer')\n",
    "    customers_clean[col] = pd.to_numeric(customers_clean[col] , downcast = 'integer')"
   ]
  },
  {
   "cell_type": "code",
   "execution_count": 60,
   "id": "4934bba3",
   "metadata": {},
   "outputs": [
    {
     "data": {
      "text/plain": [
       "1.0    337511\n",
       "2.0    226915\n",
       "4.0    162946\n",
       "5.0    118022\n",
       "3.0     40973\n",
       "Name: LP_STATUS_GROB, dtype: int64"
      ]
     },
     "execution_count": 60,
     "metadata": {},
     "output_type": "execute_result"
    }
   ],
   "source": [
    "azdias_clean['LP_STATUS_GROB'].value_counts()"
   ]
  },
  {
   "cell_type": "code",
   "execution_count": 61,
   "id": "8056089f",
   "metadata": {},
   "outputs": [
    {
     "data": {
      "text/plain": [
       "3213"
      ]
     },
     "execution_count": 61,
     "metadata": {},
     "output_type": "execute_result"
    }
   ],
   "source": [
    "customers_clean['LP_STATUS_GROB'].isnull().sum()"
   ]
  },
  {
   "cell_type": "code",
   "execution_count": 62,
   "id": "7b2c986d",
   "metadata": {},
   "outputs": [
    {
     "data": {
      "text/plain": [
       "5.0    61285\n",
       "0.0    47369\n",
       "1.0    40769\n",
       "2.0    28937\n",
       "4.0     8477\n",
       "3.0     1602\n",
       "Name: LP_FAMILIE_GROB, dtype: int64"
      ]
     },
     "execution_count": 62,
     "metadata": {},
     "output_type": "execute_result"
    }
   ],
   "source": [
    "customers_clean[\"LP_FAMILIE_GROB\"].value_counts()"
   ]
  },
  {
   "cell_type": "code",
   "execution_count": 63,
   "id": "ea7326e0",
   "metadata": {},
   "outputs": [],
   "source": [
    "azdias_clean['EINGEFUEGT_AM'] = pd.DatetimeIndex(azdias_clean['EINGEFUEGT_AM']).year\n",
    "customers_clean['EINGEFUEGT_AM'] = pd.DatetimeIndex(customers_clean['EINGEFUEGT_AM']).year"
   ]
  },
  {
   "cell_type": "code",
   "execution_count": 64,
   "id": "54f08794",
   "metadata": {},
   "outputs": [
    {
     "data": {
      "text/html": [
       "<div>\n",
       "<style scoped>\n",
       "    .dataframe tbody tr th:only-of-type {\n",
       "        vertical-align: middle;\n",
       "    }\n",
       "\n",
       "    .dataframe tbody tr th {\n",
       "        vertical-align: top;\n",
       "    }\n",
       "\n",
       "    .dataframe thead th {\n",
       "        text-align: right;\n",
       "    }\n",
       "</style>\n",
       "<table border=\"1\" class=\"dataframe\">\n",
       "  <thead>\n",
       "    <tr style=\"text-align: right;\">\n",
       "      <th></th>\n",
       "      <th>CAMEO_DEU_2015</th>\n",
       "      <th>CAMEO_DEUG_2015</th>\n",
       "    </tr>\n",
       "  </thead>\n",
       "  <tbody>\n",
       "    <tr>\n",
       "      <th>0</th>\n",
       "      <td>NaN</td>\n",
       "      <td>NaN</td>\n",
       "    </tr>\n",
       "    <tr>\n",
       "      <th>1</th>\n",
       "      <td>8A</td>\n",
       "      <td>8.0</td>\n",
       "    </tr>\n",
       "    <tr>\n",
       "      <th>2</th>\n",
       "      <td>4C</td>\n",
       "      <td>4.0</td>\n",
       "    </tr>\n",
       "    <tr>\n",
       "      <th>3</th>\n",
       "      <td>2A</td>\n",
       "      <td>2.0</td>\n",
       "    </tr>\n",
       "    <tr>\n",
       "      <th>4</th>\n",
       "      <td>6B</td>\n",
       "      <td>6.0</td>\n",
       "    </tr>\n",
       "  </tbody>\n",
       "</table>\n",
       "</div>"
      ],
      "text/plain": [
       "  CAMEO_DEU_2015  CAMEO_DEUG_2015\n",
       "0            NaN              NaN\n",
       "1             8A              8.0\n",
       "2             4C              4.0\n",
       "3             2A              2.0\n",
       "4             6B              6.0"
      ]
     },
     "execution_count": 64,
     "metadata": {},
     "output_type": "execute_result"
    }
   ],
   "source": [
    "azdias_clean[['CAMEO_DEU_2015', 'CAMEO_DEUG_2015']].head()"
   ]
  },
  {
   "cell_type": "markdown",
   "id": "c381d90a",
   "metadata": {},
   "source": [
    "CAMEO_DEU_2015 is similar to CAMEO_DEUG_2015. It won't add any additional value, so, we'll be removing this also from our dataset."
   ]
  },
  {
   "cell_type": "markdown",
   "id": "57be6049",
   "metadata": {},
   "source": [
    "## Removing Missing data"
   ]
  },
  {
   "cell_type": "code",
   "execution_count": 65,
   "id": "5aa542ff",
   "metadata": {},
   "outputs": [],
   "source": [
    "## list of columns to remove it from dataset\n",
    "azdias_clean = azdias_clean.drop(remove_cols , axis = 1)\n",
    "customers_clean = customers_clean.drop(remove_cols , axis = 1)"
   ]
  },
  {
   "cell_type": "code",
   "execution_count": 66,
   "id": "565e4caf",
   "metadata": {},
   "outputs": [],
   "source": [
    "remove_azdias_rows = missing_azdias_rows[missing_azdias_rows > 50].index\n",
    "remove_customers_rows = missing_customers_rows[missing_customers_rows > 50].index"
   ]
  },
  {
   "cell_type": "code",
   "execution_count": 67,
   "id": "10bd17a3",
   "metadata": {},
   "outputs": [],
   "source": [
    "azdias_clean = azdias_clean.drop(remove_azdias_rows , axis = 0)\n",
    "customers_clean = customers_clean.drop(remove_customers_rows , axis = 0)"
   ]
  },
  {
   "cell_type": "code",
   "execution_count": 68,
   "id": "9f80138e",
   "metadata": {},
   "outputs": [
    {
     "name": "stdout",
     "output_type": "stream",
     "text": [
      "Shape of AZDIAS after deleting missing values: (791253, 355)\n",
      "Shape of CUSTOMERS after deleting missing values: (140866, 358)\n"
     ]
    }
   ],
   "source": [
    "print(\"Shape of AZDIAS after deleting missing values:\", azdias_clean.shape)\n",
    "print(\"Shape of CUSTOMERS after deleting missing values:\", customers_clean.shape)"
   ]
  },
  {
   "cell_type": "code",
   "execution_count": null,
   "id": "e3fcdd2a",
   "metadata": {},
   "outputs": [],
   "source": []
  },
  {
   "cell_type": "code",
   "execution_count": 69,
   "id": "28fceb1d",
   "metadata": {},
   "outputs": [],
   "source": [
    "def impute(df):\n",
    "    \"\"\"Function to impute missing data with most frequent value\n",
    "    :param df: dataframe\n",
    "    :return: imputed dataframe\n",
    "    \"\"\"\n",
    "    numerics = ['int16', 'int32', 'int64', 'float16', 'float32', 'float64']\n",
    "    numeric_cols = df.select_dtypes(numerics).columns.tolist()\n",
    "\n",
    "    categoric = ['object', 'category']\n",
    "    categoric_cols = df.select_dtypes(categoric).columns.tolist()\n",
    "    \n",
    "    for cols in [numeric_cols, categoric_cols]:\n",
    "        print('Imputing {} columns...'.format(cols))\n",
    "        imputer = SimpleImputer(strategy='most_frequent')\n",
    "        df[cols] = imputer.fit_transform(df[cols])\n",
    "    \n",
    "    return df"
   ]
  },
  {
   "cell_type": "code",
   "execution_count": 72,
   "id": "ed02e9e2",
   "metadata": {
    "scrolled": false
   },
   "outputs": [
    {
     "name": "stdout",
     "output_type": "stream",
     "text": [
      "Imputing ['Unnamed: 0', 'LNR', 'AKT_DAT_KL', 'ALTERSKATEGORIE_FEIN', 'ANZ_HAUSHALTE_AKTIV', 'ANZ_HH_TITEL', 'ANZ_KINDER', 'ANZ_PERSONEN', 'ANZ_STATISTISCHE_HAUSHALTE', 'ANZ_TITEL', 'ARBEIT', 'BALLRAUM', 'CAMEO_DEUG_2015', 'CAMEO_INTL_2015', 'CJT_GESAMTTYP', 'CJT_KATALOGNUTZER', 'CJT_TYP_1', 'CJT_TYP_2', 'CJT_TYP_3', 'CJT_TYP_4', 'CJT_TYP_5', 'CJT_TYP_6', 'D19_BANKEN_ANZ_12', 'D19_BANKEN_ANZ_24', 'D19_BANKEN_DATUM', 'D19_BANKEN_DIREKT', 'D19_BANKEN_GROSS', 'D19_BANKEN_LOKAL', 'D19_BANKEN_OFFLINE_DATUM', 'D19_BANKEN_ONLINE_DATUM', 'D19_BANKEN_ONLINE_QUOTE_12', 'D19_BANKEN_REST', 'D19_BEKLEIDUNG_GEH', 'D19_BEKLEIDUNG_REST', 'D19_BILDUNG', 'D19_BIO_OEKO', 'D19_BUCH_CD', 'D19_DIGIT_SERV', 'D19_DROGERIEARTIKEL', 'D19_ENERGIE', 'D19_FREIZEIT', 'D19_GARTEN', 'D19_GESAMT_ANZ_12', 'D19_GESAMT_ANZ_24', 'D19_GESAMT_DATUM', 'D19_GESAMT_OFFLINE_DATUM', 'D19_GESAMT_ONLINE_DATUM', 'D19_GESAMT_ONLINE_QUOTE_12', 'D19_HANDWERK', 'D19_HAUS_DEKO', 'D19_KINDERARTIKEL', 'D19_KONSUMTYP', 'D19_KONSUMTYP_MAX', 'D19_KOSMETIK', 'D19_LEBENSMITTEL', 'D19_LOTTO', 'D19_NAHRUNGSERGAENZUNG', 'D19_RATGEBER', 'D19_REISEN', 'D19_SAMMELARTIKEL', 'D19_SCHUHE', 'D19_SONSTIGE', 'D19_SOZIALES', 'D19_TECHNIK', 'D19_TELKO_ANZ_12', 'D19_TELKO_ANZ_24', 'D19_TELKO_DATUM', 'D19_TELKO_MOBILE', 'D19_TELKO_OFFLINE_DATUM', 'D19_TELKO_ONLINE_DATUM', 'D19_TELKO_ONLINE_QUOTE_12', 'D19_TELKO_REST', 'D19_TIERARTIKEL', 'D19_VERSAND_ANZ_12', 'D19_VERSAND_ANZ_24', 'D19_VERSAND_DATUM', 'D19_VERSAND_OFFLINE_DATUM', 'D19_VERSAND_ONLINE_DATUM', 'D19_VERSAND_ONLINE_QUOTE_12', 'D19_VERSAND_REST', 'D19_VERSI_ANZ_12', 'D19_VERSI_ANZ_24', 'D19_VERSI_DATUM', 'D19_VERSI_OFFLINE_DATUM', 'D19_VERSI_ONLINE_DATUM', 'D19_VERSI_ONLINE_QUOTE_12', 'D19_VERSICHERUNGEN', 'D19_VOLLSORTIMENT', 'D19_WEIN_FEINKOST', 'DSL_FLAG', 'EINGEFUEGT_AM', 'EINGEZOGENAM_HH_JAHR', 'EWDICHTE', 'FINANZ_ANLEGER', 'FINANZ_HAUSBAUER', 'FINANZ_MINIMALIST', 'FINANZ_SPARER', 'FINANZ_UNAUFFAELLIGER', 'FINANZ_VORSORGER', 'FINANZTYP', 'FIRMENDICHTE', 'GEBAEUDETYP', 'GEBAEUDETYP_RASTER', 'GEBURTSJAHR', 'GEMEINDETYP', 'GFK_URLAUBERTYP', 'GREEN_AVANTGARDE', 'HEALTH_TYP', 'HH_DELTA_FLAG', 'HH_EINKOMMEN_SCORE', 'INNENSTADT', 'KBA05_ALTER1', 'KBA05_ALTER2', 'KBA05_ALTER3', 'KBA05_ALTER4', 'KBA05_ANHANG', 'KBA05_ANTG1', 'KBA05_ANTG2', 'KBA05_ANTG3', 'KBA05_ANTG4', 'KBA05_AUTOQUOT', 'KBA05_CCM1', 'KBA05_CCM2', 'KBA05_CCM3', 'KBA05_CCM4', 'KBA05_DIESEL', 'KBA05_FRAU', 'KBA05_GBZ', 'KBA05_HERST1', 'KBA05_HERST2', 'KBA05_HERST3', 'KBA05_HERST4', 'KBA05_HERST5', 'KBA05_HERSTTEMP', 'KBA05_KRSAQUOT', 'KBA05_KRSHERST1', 'KBA05_KRSHERST2', 'KBA05_KRSHERST3', 'KBA05_KRSKLEIN', 'KBA05_KRSOBER', 'KBA05_KRSVAN', 'KBA05_KRSZUL', 'KBA05_KW1', 'KBA05_KW2', 'KBA05_KW3', 'KBA05_MAXAH', 'KBA05_MAXBJ', 'KBA05_MAXHERST', 'KBA05_MAXSEG', 'KBA05_MAXVORB', 'KBA05_MOD1', 'KBA05_MOD2', 'KBA05_MOD3', 'KBA05_MOD4', 'KBA05_MOD8', 'KBA05_MODTEMP', 'KBA05_MOTOR', 'KBA05_MOTRAD', 'KBA05_SEG1', 'KBA05_SEG10', 'KBA05_SEG2', 'KBA05_SEG3', 'KBA05_SEG4', 'KBA05_SEG5', 'KBA05_SEG6', 'KBA05_SEG7', 'KBA05_SEG8', 'KBA05_SEG9', 'KBA05_VORB0', 'KBA05_VORB1', 'KBA05_VORB2', 'KBA05_ZUL1', 'KBA05_ZUL2', 'KBA05_ZUL3', 'KBA05_ZUL4', 'KBA13_ALTERHALTER_30', 'KBA13_ALTERHALTER_45', 'KBA13_ALTERHALTER_60', 'KBA13_ALTERHALTER_61', 'KBA13_ANTG1', 'KBA13_ANTG2', 'KBA13_ANTG3', 'KBA13_ANTG4', 'KBA13_ANZAHL_PKW', 'KBA13_AUDI', 'KBA13_AUTOQUOTE', 'KBA13_BAUMAX', 'KBA13_BJ_1999', 'KBA13_BJ_2000', 'KBA13_BJ_2004', 'KBA13_BJ_2006', 'KBA13_BJ_2008', 'KBA13_BJ_2009', 'KBA13_BMW', 'KBA13_CCM_0_1400', 'KBA13_CCM_1000', 'KBA13_CCM_1200', 'KBA13_CCM_1400', 'KBA13_CCM_1401_2500', 'KBA13_CCM_1500', 'KBA13_CCM_1600', 'KBA13_CCM_1800', 'KBA13_CCM_2000', 'KBA13_CCM_2500', 'KBA13_CCM_2501', 'KBA13_CCM_3000', 'KBA13_CCM_3001', 'KBA13_FAB_ASIEN', 'KBA13_FAB_SONSTIGE', 'KBA13_FIAT', 'KBA13_FORD', 'KBA13_GBZ', 'KBA13_HALTER_20', 'KBA13_HALTER_25', 'KBA13_HALTER_30', 'KBA13_HALTER_35', 'KBA13_HALTER_40', 'KBA13_HALTER_45', 'KBA13_HALTER_50', 'KBA13_HALTER_55', 'KBA13_HALTER_60', 'KBA13_HALTER_65', 'KBA13_HALTER_66', 'KBA13_HERST_ASIEN', 'KBA13_HERST_AUDI_VW', 'KBA13_HERST_BMW_BENZ', 'KBA13_HERST_EUROPA', 'KBA13_HERST_FORD_OPEL', 'KBA13_HERST_SONST', 'KBA13_HHZ', 'KBA13_KMH_0_140', 'KBA13_KMH_110', 'KBA13_KMH_140', 'KBA13_KMH_140_210', 'KBA13_KMH_180', 'KBA13_KMH_210', 'KBA13_KMH_211', 'KBA13_KMH_250', 'KBA13_KMH_251', 'KBA13_KRSAQUOT', 'KBA13_KRSHERST_AUDI_VW', 'KBA13_KRSHERST_BMW_BENZ', 'KBA13_KRSHERST_FORD_OPEL', 'KBA13_KRSSEG_KLEIN', 'KBA13_KRSSEG_OBER', 'KBA13_KRSSEG_VAN', 'KBA13_KRSZUL_NEU', 'KBA13_KW_0_60', 'KBA13_KW_110', 'KBA13_KW_120', 'KBA13_KW_121', 'KBA13_KW_30', 'KBA13_KW_40', 'KBA13_KW_50', 'KBA13_KW_60', 'KBA13_KW_61_120', 'KBA13_KW_70', 'KBA13_KW_80', 'KBA13_KW_90', 'KBA13_MAZDA', 'KBA13_MERCEDES', 'KBA13_MOTOR', 'KBA13_NISSAN', 'KBA13_OPEL', 'KBA13_PEUGEOT', 'KBA13_RENAULT', 'KBA13_SEG_GELAENDEWAGEN', 'KBA13_SEG_GROSSRAUMVANS', 'KBA13_SEG_KLEINST', 'KBA13_SEG_KLEINWAGEN', 'KBA13_SEG_KOMPAKTKLASSE', 'KBA13_SEG_MINIVANS', 'KBA13_SEG_MINIWAGEN', 'KBA13_SEG_MITTELKLASSE', 'KBA13_SEG_OBEREMITTELKLASSE', 'KBA13_SEG_OBERKLASSE', 'KBA13_SEG_SONSTIGE', 'KBA13_SEG_SPORTWAGEN', 'KBA13_SEG_UTILITIES', 'KBA13_SEG_VAN', 'KBA13_SEG_WOHNMOBILE', 'KBA13_SITZE_4', 'KBA13_SITZE_5', 'KBA13_SITZE_6', 'KBA13_TOYOTA', 'KBA13_VORB_0', 'KBA13_VORB_1', 'KBA13_VORB_1_2', 'KBA13_VORB_2', 'KBA13_VORB_3', 'KBA13_VW', 'KOMBIALTER', 'KONSUMNAEHE', 'KONSUMZELLE', 'LP_FAMILIE_FEIN', 'LP_FAMILIE_GROB', 'LP_LEBENSPHASE_FEIN', 'LP_LEBENSPHASE_GROB', 'LP_STATUS_FEIN', 'LP_STATUS_GROB', 'MIN_GEBAEUDEJAHR', 'MOBI_RASTER', 'MOBI_REGIO', 'NATIONALITAET_KZ', 'ONLINE_AFFINITAET', 'ORTSGR_KLS9', 'PLZ8_ANTG1', 'PLZ8_ANTG2', 'PLZ8_ANTG3', 'PLZ8_ANTG4', 'PLZ8_BAUMAX', 'PLZ8_GBZ', 'PLZ8_HHZ', 'PRAEGENDE_JUGENDJAHRE', 'RELAT_AB', 'RETOURTYP_BK_S', 'RT_KEIN_ANREIZ', 'RT_SCHNAEPPCHEN', 'RT_UEBERGROESSE', 'SEMIO_DOM', 'SEMIO_ERL', 'SEMIO_FAM', 'SEMIO_KAEM', 'SEMIO_KRIT', 'SEMIO_KULT', 'SEMIO_LUST', 'SEMIO_MAT', 'SEMIO_PFLICHT', 'SEMIO_RAT', 'SEMIO_REL', 'SEMIO_SOZ', 'SEMIO_TRADV', 'SEMIO_VERT', 'SHOPPER_TYP', 'SOHO_KZ', 'STRUKTURTYP', 'UMFELD_ALT', 'UMFELD_JUNG', 'UNGLEICHENN_FLAG', 'VERDICHTUNGSRAUM', 'VERS_TYP', 'VHA', 'VHN', 'VK_DHT4A', 'VK_DISTANZ', 'VK_ZG11', 'W_KEIT_KIND_HH', 'WOHNDAUER_2008', 'WOHNLAGE', 'ZABEOTYP', 'ANREDE_KZ', 'ALTERSKATEGORIE_GROB'] columns...\n",
      "Imputing ['CAMEO_DEU_2015', 'D19_LETZTER_KAUF_BRANCHE', 'OST_WEST_KZ'] columns...\n",
      "Imputing ['Unnamed: 0', 'LNR', 'AKT_DAT_KL', 'ALTERSKATEGORIE_FEIN', 'ANZ_HAUSHALTE_AKTIV', 'ANZ_HH_TITEL', 'ANZ_KINDER', 'ANZ_PERSONEN', 'ANZ_STATISTISCHE_HAUSHALTE', 'ANZ_TITEL', 'ARBEIT', 'BALLRAUM', 'CAMEO_DEUG_2015', 'CAMEO_INTL_2015', 'CJT_GESAMTTYP', 'CJT_KATALOGNUTZER', 'CJT_TYP_1', 'CJT_TYP_2', 'CJT_TYP_3', 'CJT_TYP_4', 'CJT_TYP_5', 'CJT_TYP_6', 'D19_BANKEN_ANZ_12', 'D19_BANKEN_ANZ_24', 'D19_BANKEN_DATUM', 'D19_BANKEN_DIREKT', 'D19_BANKEN_GROSS', 'D19_BANKEN_LOKAL', 'D19_BANKEN_OFFLINE_DATUM', 'D19_BANKEN_ONLINE_DATUM', 'D19_BANKEN_ONLINE_QUOTE_12', 'D19_BANKEN_REST', 'D19_BEKLEIDUNG_GEH', 'D19_BEKLEIDUNG_REST', 'D19_BILDUNG', 'D19_BIO_OEKO', 'D19_BUCH_CD', 'D19_DIGIT_SERV', 'D19_DROGERIEARTIKEL', 'D19_ENERGIE', 'D19_FREIZEIT', 'D19_GARTEN', 'D19_GESAMT_ANZ_12', 'D19_GESAMT_ANZ_24', 'D19_GESAMT_DATUM', 'D19_GESAMT_OFFLINE_DATUM', 'D19_GESAMT_ONLINE_DATUM', 'D19_GESAMT_ONLINE_QUOTE_12', 'D19_HANDWERK', 'D19_HAUS_DEKO', 'D19_KINDERARTIKEL', 'D19_KONSUMTYP', 'D19_KONSUMTYP_MAX', 'D19_KOSMETIK', 'D19_LEBENSMITTEL', 'D19_LOTTO', 'D19_NAHRUNGSERGAENZUNG', 'D19_RATGEBER', 'D19_REISEN', 'D19_SAMMELARTIKEL', 'D19_SCHUHE', 'D19_SONSTIGE', 'D19_SOZIALES', 'D19_TECHNIK', 'D19_TELKO_ANZ_12', 'D19_TELKO_ANZ_24', 'D19_TELKO_DATUM', 'D19_TELKO_MOBILE', 'D19_TELKO_OFFLINE_DATUM', 'D19_TELKO_ONLINE_DATUM', 'D19_TELKO_ONLINE_QUOTE_12', 'D19_TELKO_REST', 'D19_TIERARTIKEL', 'D19_VERSAND_ANZ_12', 'D19_VERSAND_ANZ_24', 'D19_VERSAND_DATUM', 'D19_VERSAND_OFFLINE_DATUM', 'D19_VERSAND_ONLINE_DATUM', 'D19_VERSAND_ONLINE_QUOTE_12', 'D19_VERSAND_REST', 'D19_VERSI_ANZ_12', 'D19_VERSI_ANZ_24', 'D19_VERSI_DATUM', 'D19_VERSI_OFFLINE_DATUM', 'D19_VERSI_ONLINE_DATUM', 'D19_VERSI_ONLINE_QUOTE_12', 'D19_VERSICHERUNGEN', 'D19_VOLLSORTIMENT', 'D19_WEIN_FEINKOST', 'DSL_FLAG', 'EINGEFUEGT_AM', 'EINGEZOGENAM_HH_JAHR', 'EWDICHTE', 'FINANZ_ANLEGER', 'FINANZ_HAUSBAUER', 'FINANZ_MINIMALIST', 'FINANZ_SPARER', 'FINANZ_UNAUFFAELLIGER', 'FINANZ_VORSORGER', 'FINANZTYP', 'FIRMENDICHTE', 'GEBAEUDETYP', 'GEBAEUDETYP_RASTER', 'GEBURTSJAHR', 'GEMEINDETYP', 'GFK_URLAUBERTYP', 'GREEN_AVANTGARDE', 'HEALTH_TYP', 'HH_DELTA_FLAG', 'HH_EINKOMMEN_SCORE', 'INNENSTADT', 'KBA05_ALTER1', 'KBA05_ALTER2', 'KBA05_ALTER3', 'KBA05_ALTER4', 'KBA05_ANHANG', 'KBA05_ANTG1', 'KBA05_ANTG2', 'KBA05_ANTG3', 'KBA05_ANTG4', 'KBA05_AUTOQUOT', 'KBA05_CCM1', 'KBA05_CCM2', 'KBA05_CCM3', 'KBA05_CCM4', 'KBA05_DIESEL', 'KBA05_FRAU', 'KBA05_GBZ', 'KBA05_HERST1', 'KBA05_HERST2', 'KBA05_HERST3', 'KBA05_HERST4', 'KBA05_HERST5', 'KBA05_HERSTTEMP', 'KBA05_KRSAQUOT', 'KBA05_KRSHERST1', 'KBA05_KRSHERST2', 'KBA05_KRSHERST3', 'KBA05_KRSKLEIN', 'KBA05_KRSOBER', 'KBA05_KRSVAN', 'KBA05_KRSZUL', 'KBA05_KW1', 'KBA05_KW2', 'KBA05_KW3', 'KBA05_MAXAH', 'KBA05_MAXBJ', 'KBA05_MAXHERST', 'KBA05_MAXSEG', 'KBA05_MAXVORB', 'KBA05_MOD1', 'KBA05_MOD2', 'KBA05_MOD3', 'KBA05_MOD4', 'KBA05_MOD8', 'KBA05_MODTEMP', 'KBA05_MOTOR', 'KBA05_MOTRAD', 'KBA05_SEG1', 'KBA05_SEG10', 'KBA05_SEG2', 'KBA05_SEG3', 'KBA05_SEG4', 'KBA05_SEG5', 'KBA05_SEG6', 'KBA05_SEG7', 'KBA05_SEG8', 'KBA05_SEG9', 'KBA05_VORB0', 'KBA05_VORB1', 'KBA05_VORB2', 'KBA05_ZUL1', 'KBA05_ZUL2', 'KBA05_ZUL3', 'KBA05_ZUL4', 'KBA13_ALTERHALTER_30', 'KBA13_ALTERHALTER_45', 'KBA13_ALTERHALTER_60', 'KBA13_ALTERHALTER_61', 'KBA13_ANTG1', 'KBA13_ANTG2', 'KBA13_ANTG3', 'KBA13_ANTG4', 'KBA13_ANZAHL_PKW', 'KBA13_AUDI', 'KBA13_AUTOQUOTE', 'KBA13_BAUMAX', 'KBA13_BJ_1999', 'KBA13_BJ_2000', 'KBA13_BJ_2004', 'KBA13_BJ_2006', 'KBA13_BJ_2008', 'KBA13_BJ_2009', 'KBA13_BMW', 'KBA13_CCM_0_1400', 'KBA13_CCM_1000', 'KBA13_CCM_1200', 'KBA13_CCM_1400', 'KBA13_CCM_1401_2500', 'KBA13_CCM_1500', 'KBA13_CCM_1600', 'KBA13_CCM_1800', 'KBA13_CCM_2000', 'KBA13_CCM_2500', 'KBA13_CCM_2501', 'KBA13_CCM_3000', 'KBA13_CCM_3001', 'KBA13_FAB_ASIEN', 'KBA13_FAB_SONSTIGE', 'KBA13_FIAT', 'KBA13_FORD', 'KBA13_GBZ', 'KBA13_HALTER_20', 'KBA13_HALTER_25', 'KBA13_HALTER_30', 'KBA13_HALTER_35', 'KBA13_HALTER_40', 'KBA13_HALTER_45', 'KBA13_HALTER_50', 'KBA13_HALTER_55', 'KBA13_HALTER_60', 'KBA13_HALTER_65', 'KBA13_HALTER_66', 'KBA13_HERST_ASIEN', 'KBA13_HERST_AUDI_VW', 'KBA13_HERST_BMW_BENZ', 'KBA13_HERST_EUROPA', 'KBA13_HERST_FORD_OPEL', 'KBA13_HERST_SONST', 'KBA13_HHZ', 'KBA13_KMH_0_140', 'KBA13_KMH_110', 'KBA13_KMH_140', 'KBA13_KMH_140_210', 'KBA13_KMH_180', 'KBA13_KMH_210', 'KBA13_KMH_211', 'KBA13_KMH_250', 'KBA13_KMH_251', 'KBA13_KRSAQUOT', 'KBA13_KRSHERST_AUDI_VW', 'KBA13_KRSHERST_BMW_BENZ', 'KBA13_KRSHERST_FORD_OPEL', 'KBA13_KRSSEG_KLEIN', 'KBA13_KRSSEG_OBER', 'KBA13_KRSSEG_VAN', 'KBA13_KRSZUL_NEU', 'KBA13_KW_0_60', 'KBA13_KW_110', 'KBA13_KW_120', 'KBA13_KW_121', 'KBA13_KW_30', 'KBA13_KW_40', 'KBA13_KW_50', 'KBA13_KW_60', 'KBA13_KW_61_120', 'KBA13_KW_70', 'KBA13_KW_80', 'KBA13_KW_90', 'KBA13_MAZDA', 'KBA13_MERCEDES', 'KBA13_MOTOR', 'KBA13_NISSAN', 'KBA13_OPEL', 'KBA13_PEUGEOT', 'KBA13_RENAULT', 'KBA13_SEG_GELAENDEWAGEN', 'KBA13_SEG_GROSSRAUMVANS', 'KBA13_SEG_KLEINST', 'KBA13_SEG_KLEINWAGEN', 'KBA13_SEG_KOMPAKTKLASSE', 'KBA13_SEG_MINIVANS', 'KBA13_SEG_MINIWAGEN', 'KBA13_SEG_MITTELKLASSE', 'KBA13_SEG_OBEREMITTELKLASSE', 'KBA13_SEG_OBERKLASSE', 'KBA13_SEG_SONSTIGE', 'KBA13_SEG_SPORTWAGEN', 'KBA13_SEG_UTILITIES', 'KBA13_SEG_VAN', 'KBA13_SEG_WOHNMOBILE', 'KBA13_SITZE_4', 'KBA13_SITZE_5', 'KBA13_SITZE_6', 'KBA13_TOYOTA', 'KBA13_VORB_0', 'KBA13_VORB_1', 'KBA13_VORB_1_2', 'KBA13_VORB_2', 'KBA13_VORB_3', 'KBA13_VW', 'KOMBIALTER', 'KONSUMNAEHE', 'KONSUMZELLE', 'LP_FAMILIE_FEIN', 'LP_FAMILIE_GROB', 'LP_LEBENSPHASE_FEIN', 'LP_LEBENSPHASE_GROB', 'LP_STATUS_FEIN', 'LP_STATUS_GROB', 'MIN_GEBAEUDEJAHR', 'MOBI_RASTER', 'MOBI_REGIO', 'NATIONALITAET_KZ', 'ONLINE_AFFINITAET', 'ORTSGR_KLS9', 'PLZ8_ANTG1', 'PLZ8_ANTG2', 'PLZ8_ANTG3', 'PLZ8_ANTG4', 'PLZ8_BAUMAX', 'PLZ8_GBZ', 'PLZ8_HHZ', 'PRAEGENDE_JUGENDJAHRE', 'RELAT_AB', 'RETOURTYP_BK_S', 'RT_KEIN_ANREIZ', 'RT_SCHNAEPPCHEN', 'RT_UEBERGROESSE', 'SEMIO_DOM', 'SEMIO_ERL', 'SEMIO_FAM', 'SEMIO_KAEM', 'SEMIO_KRIT', 'SEMIO_KULT', 'SEMIO_LUST', 'SEMIO_MAT', 'SEMIO_PFLICHT', 'SEMIO_RAT', 'SEMIO_REL', 'SEMIO_SOZ', 'SEMIO_TRADV', 'SEMIO_VERT', 'SHOPPER_TYP', 'SOHO_KZ', 'STRUKTURTYP', 'UMFELD_ALT', 'UMFELD_JUNG', 'UNGLEICHENN_FLAG', 'VERDICHTUNGSRAUM', 'VERS_TYP', 'VHA', 'VHN', 'VK_DHT4A', 'VK_DISTANZ', 'VK_ZG11', 'W_KEIT_KIND_HH', 'WOHNDAUER_2008', 'WOHNLAGE', 'ZABEOTYP', 'ONLINE_PURCHASE', 'ANREDE_KZ', 'ALTERSKATEGORIE_GROB'] columns...\n"
     ]
    },
    {
     "name": "stdout",
     "output_type": "stream",
     "text": [
      "Imputing ['CAMEO_DEU_2015', 'D19_LETZTER_KAUF_BRANCHE', 'OST_WEST_KZ', 'PRODUCT_GROUP', 'CUSTOMER_GROUP'] columns...\n"
     ]
    }
   ],
   "source": [
    "# Imputing missing values in columns with their most frequent value\n",
    "azdias_clean = impute(azdias_clean)\n",
    "customers_clean = impute(customers_clean)"
   ]
  },
  {
   "cell_type": "code",
   "execution_count": 74,
   "id": "3e167612",
   "metadata": {},
   "outputs": [],
   "source": [
    "azdias_clean.to_pickle('azdias.pkl')\n",
    "customers_clean.to_pickle('customers.pkl')"
   ]
  },
  {
   "cell_type": "code",
   "execution_count": 75,
   "id": "8c098a5f",
   "metadata": {},
   "outputs": [],
   "source": [
    "azdias_clean.to_csv('azdias_clean.csv')\n",
    "customers_clean.to_csv('customers_clean.csv')"
   ]
  },
  {
   "cell_type": "markdown",
   "id": "b895e2dc",
   "metadata": {},
   "source": [
    "## Label Encoding"
   ]
  },
  {
   "cell_type": "code",
   "execution_count": 78,
   "id": "8976cf9d",
   "metadata": {},
   "outputs": [],
   "source": [
    "# droping customers exclusive columns from scaling\n",
    "diff_attr = ['CUSTOMER_GROUP', 'ONLINE_PURCHASE', 'PRODUCT_GROUP']\n"
   ]
  },
  {
   "cell_type": "code",
   "execution_count": 79,
   "id": "3c3e44da",
   "metadata": {},
   "outputs": [],
   "source": [
    "customers_az_clean = customers_clean.drop(diff_attr , axis = 1).copy()"
   ]
  },
  {
   "cell_type": "code",
   "execution_count": 81,
   "id": "26afd61e",
   "metadata": {},
   "outputs": [],
   "source": [
    "cols = customers_az_clean.columns"
   ]
  },
  {
   "cell_type": "code",
   "execution_count": 82,
   "id": "9606edbc",
   "metadata": {},
   "outputs": [
    {
     "data": {
      "text/plain": [
       "(140866, 355)"
      ]
     },
     "execution_count": 82,
     "metadata": {},
     "output_type": "execute_result"
    }
   ],
   "source": [
    "customers_az_clean.shape"
   ]
  },
  {
   "cell_type": "code",
   "execution_count": 83,
   "id": "66771c1b",
   "metadata": {},
   "outputs": [],
   "source": [
    "## Encoding Categrical Features\n",
    "azdias_clean_final = pd.get_dummies(azdias_clean)"
   ]
  },
  {
   "cell_type": "code",
   "execution_count": 84,
   "id": "a33e1f30",
   "metadata": {},
   "outputs": [],
   "source": [
    "customers_clean_final = pd.get_dummies(customers_az_clean)"
   ]
  },
  {
   "cell_type": "code",
   "execution_count": null,
   "id": "b9dd3503",
   "metadata": {},
   "outputs": [],
   "source": []
  }
 ],
 "metadata": {
  "kernelspec": {
   "display_name": "Python 3",
   "language": "python",
   "name": "python3"
  },
  "language_info": {
   "codemirror_mode": {
    "name": "ipython",
    "version": 3
   },
   "file_extension": ".py",
   "mimetype": "text/x-python",
   "name": "python",
   "nbconvert_exporter": "python",
   "pygments_lexer": "ipython3",
   "version": "3.6.9"
  }
 },
 "nbformat": 4,
 "nbformat_minor": 5
}
