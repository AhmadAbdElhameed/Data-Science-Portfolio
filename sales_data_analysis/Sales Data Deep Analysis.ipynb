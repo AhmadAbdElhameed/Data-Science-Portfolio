{
 "cells": [
  {
   "cell_type": "markdown",
   "id": "dfb13d09",
   "metadata": {},
   "source": [
    "Dataset : https://www.kaggle.com/knightbearr/analysis-sales-data-knightbearr/data"
   ]
  },
  {
   "cell_type": "markdown",
   "id": "50ee80d0",
   "metadata": {},
   "source": [
    "### Context:\n",
    "    Sales analytics is the practice of generating insights from sales data, trends, and metrics to set targets and forecast future sales performance. Sales analysis is mining your data to evaluate the performance of your sales team against its goals. It provides insights about the top performing and underperforming products/services, the problems in selling and market opportunities, sales forecasting, and sales activities that generate revenue."
   ]
  },
  {
   "cell_type": "markdown",
   "id": "86bb8659",
   "metadata": {},
   "source": [
    "### Data Features:\n",
    "    \n",
    "- **Order ID** - An Order ID is the number system that Amazon uses exclusively to keep track of orders. Each order receives its own Order ID that will not be duplicated. This number can be useful to the seller when attempting to find out certain details about an order such as shipment date or status.\n",
    "- **Product** - The product that have been sold.\n",
    "- **Quantity Ordered** - Ordered Quantity is the total item quantity ordered in the initial order (without any changes).\n",
    "- **Price Each** - The price of each products.\n",
    "- **Order Date** - This is the date the customer is requesting the order be shipped.\n",
    "- **Purchase Address** - The purchase order is prepared by the buyer, often through a purchasing department. The purchase order, or PO, usually includes a PO number, which is useful in matching shipments with purchases; a shipping date; billing address; shipping address; and the request items, quantities and price."
   ]
  },
  {
   "cell_type": "markdown",
   "id": "e5d45516",
   "metadata": {},
   "source": [
    "### Goal\n",
    "\n",
    "- The market analysis is an assessment of how your product or service fits into a specific market and where it will gain the most."
   ]
  },
  {
   "cell_type": "markdown",
   "id": "c65bcc03",
   "metadata": {},
   "source": [
    "### Research Questions:\n",
    "    \n",
    "<br>Q: What was the best Year for sales? \n",
    "<br>Q: How much was earned that Year?\n",
    "<br>Q: What was the best month for sales? \n",
    "<br>Q: How much was earned that month?\n",
    "<br>Q: What City had the highest number of sales?\n",
    "<br>Q: What time should we display adverstisement to maximize likelihood of customer's buying product?\n",
    "<br>Q: What products are most often sold together?\n",
    "<br>Q: What product sold the most? \n",
    "<br>Q: Why do you think it sold the most?"
   ]
  },
  {
   "cell_type": "markdown",
   "id": "4cc2005a",
   "metadata": {},
   "source": [
    "### How Much Probability?\n",
    "\n",
    "<br>How much probability for next people will ordered USB-C Charging Cable?\n",
    "<br>How much probability for next people will ordered iPhone?\n",
    "<br>How much probability for next people will ordered Google Phone?\n",
    "<br>How much probability other peoples will ordered Wired Headphones?"
   ]
  },
  {
   "cell_type": "markdown",
   "id": "850a1782",
   "metadata": {},
   "source": [
    "## Import Necessary Libraries"
   ]
  },
  {
   "cell_type": "code",
   "execution_count": 56,
   "id": "ed69eba8",
   "metadata": {},
   "outputs": [],
   "source": [
    "import pandas as pd\n",
    "import numpy as np\n",
    "import matplotlib.pyplot as plt\n",
    "%matplotlib inline"
   ]
  },
  {
   "cell_type": "code",
   "execution_count": 57,
   "id": "2e8536bf",
   "metadata": {},
   "outputs": [],
   "source": [
    "import seaborn as sns\n",
    "import warnings\n",
    "from statsmodels.graphics.gofplots import qqplot\n",
    "from IPython.core.interactiveshell import InteractiveShell"
   ]
  },
  {
   "cell_type": "code",
   "execution_count": 58,
   "id": "44a9df8b",
   "metadata": {},
   "outputs": [
    {
     "name": "stdout",
     "output_type": "stream",
     "text": [
      "C:\\Users\\Ahmad Abd Elhameed\\sales_data_analysis\n"
     ]
    }
   ],
   "source": [
    "import os\n",
    "!pwd"
   ]
  },
  {
   "cell_type": "code",
   "execution_count": 59,
   "id": "16014ab0",
   "metadata": {},
   "outputs": [],
   "source": [
    "import zipfile\n",
    "with zipfile.ZipFile(\"results.zip\", 'r') as zip_ref:\n",
    "    zip_ref.extractall(\"data\")"
   ]
  },
  {
   "cell_type": "code",
   "execution_count": 60,
   "id": "8bb75f7e",
   "metadata": {},
   "outputs": [
    {
     "data": {
      "text/plain": [
       "['.ipynb_checkpoints', 'data', 'results.zip', 'Sales Data Deep Analysis.ipynb']"
      ]
     },
     "execution_count": 60,
     "metadata": {},
     "output_type": "execute_result"
    }
   ],
   "source": [
    "os.listdir()"
   ]
  },
  {
   "cell_type": "code",
   "execution_count": 61,
   "id": "e4626498",
   "metadata": {},
   "outputs": [
    {
     "data": {
      "text/plain": [
       "['all_data.csv', '__results___files']"
      ]
     },
     "execution_count": 61,
     "metadata": {},
     "output_type": "execute_result"
    }
   ],
   "source": [
    "os.listdir(\"data\")"
   ]
  },
  {
   "cell_type": "code",
   "execution_count": 62,
   "id": "20c12382",
   "metadata": {},
   "outputs": [],
   "source": [
    "data = pd.read_csv(\"data/all_data.csv\")"
   ]
  },
  {
   "cell_type": "code",
   "execution_count": 63,
   "id": "223b5749",
   "metadata": {},
   "outputs": [
    {
     "name": "stdout",
     "output_type": "stream",
     "text": [
      "<class 'pandas.core.frame.DataFrame'>\n",
      "RangeIndex: 186850 entries, 0 to 186849\n",
      "Data columns (total 6 columns):\n",
      " #   Column            Non-Null Count   Dtype \n",
      "---  ------            --------------   ----- \n",
      " 0   Order ID          186305 non-null  object\n",
      " 1   Product           186305 non-null  object\n",
      " 2   Quantity Ordered  186305 non-null  object\n",
      " 3   Price Each        186305 non-null  object\n",
      " 4   Order Date        186305 non-null  object\n",
      " 5   Purchase Address  186305 non-null  object\n",
      "dtypes: object(6)\n",
      "memory usage: 8.6+ MB\n"
     ]
    }
   ],
   "source": [
    "data.info()"
   ]
  },
  {
   "cell_type": "code",
   "execution_count": 64,
   "id": "d02b5b56",
   "metadata": {
    "scrolled": true
   },
   "outputs": [
    {
     "data": {
      "text/html": [
       "<div>\n",
       "<style scoped>\n",
       "    .dataframe tbody tr th:only-of-type {\n",
       "        vertical-align: middle;\n",
       "    }\n",
       "\n",
       "    .dataframe tbody tr th {\n",
       "        vertical-align: top;\n",
       "    }\n",
       "\n",
       "    .dataframe thead th {\n",
       "        text-align: right;\n",
       "    }\n",
       "</style>\n",
       "<table border=\"1\" class=\"dataframe\">\n",
       "  <thead>\n",
       "    <tr style=\"text-align: right;\">\n",
       "      <th></th>\n",
       "      <th>Order ID</th>\n",
       "      <th>Product</th>\n",
       "      <th>Quantity Ordered</th>\n",
       "      <th>Price Each</th>\n",
       "      <th>Order Date</th>\n",
       "      <th>Purchase Address</th>\n",
       "    </tr>\n",
       "  </thead>\n",
       "  <tbody>\n",
       "    <tr>\n",
       "      <th>0</th>\n",
       "      <td>236670</td>\n",
       "      <td>Wired Headphones</td>\n",
       "      <td>2</td>\n",
       "      <td>11.99</td>\n",
       "      <td>08/31/19 22:21</td>\n",
       "      <td>359 Spruce St, Seattle, WA 98101</td>\n",
       "    </tr>\n",
       "    <tr>\n",
       "      <th>1</th>\n",
       "      <td>236671</td>\n",
       "      <td>Bose SoundSport Headphones</td>\n",
       "      <td>1</td>\n",
       "      <td>99.99</td>\n",
       "      <td>08/15/19 15:11</td>\n",
       "      <td>492 Ridge St, Dallas, TX 75001</td>\n",
       "    </tr>\n",
       "    <tr>\n",
       "      <th>2</th>\n",
       "      <td>236672</td>\n",
       "      <td>iPhone</td>\n",
       "      <td>1</td>\n",
       "      <td>700.0</td>\n",
       "      <td>08/06/19 14:40</td>\n",
       "      <td>149 7th St, Portland, OR 97035</td>\n",
       "    </tr>\n",
       "    <tr>\n",
       "      <th>3</th>\n",
       "      <td>236673</td>\n",
       "      <td>AA Batteries (4-pack)</td>\n",
       "      <td>2</td>\n",
       "      <td>3.84</td>\n",
       "      <td>08/29/19 20:59</td>\n",
       "      <td>631 2nd St, Los Angeles, CA 90001</td>\n",
       "    </tr>\n",
       "    <tr>\n",
       "      <th>4</th>\n",
       "      <td>236674</td>\n",
       "      <td>AA Batteries (4-pack)</td>\n",
       "      <td>2</td>\n",
       "      <td>3.84</td>\n",
       "      <td>08/15/19 19:53</td>\n",
       "      <td>736 14th St, New York City, NY 10001</td>\n",
       "    </tr>\n",
       "  </tbody>\n",
       "</table>\n",
       "</div>"
      ],
      "text/plain": [
       "  Order ID                     Product Quantity Ordered Price Each  \\\n",
       "0   236670            Wired Headphones                2      11.99   \n",
       "1   236671  Bose SoundSport Headphones                1      99.99   \n",
       "2   236672                      iPhone                1      700.0   \n",
       "3   236673       AA Batteries (4-pack)                2       3.84   \n",
       "4   236674       AA Batteries (4-pack)                2       3.84   \n",
       "\n",
       "       Order Date                      Purchase Address  \n",
       "0  08/31/19 22:21      359 Spruce St, Seattle, WA 98101  \n",
       "1  08/15/19 15:11        492 Ridge St, Dallas, TX 75001  \n",
       "2  08/06/19 14:40        149 7th St, Portland, OR 97035  \n",
       "3  08/29/19 20:59     631 2nd St, Los Angeles, CA 90001  \n",
       "4  08/15/19 19:53  736 14th St, New York City, NY 10001  "
      ]
     },
     "execution_count": 64,
     "metadata": {},
     "output_type": "execute_result"
    }
   ],
   "source": [
    "## look at the data\n",
    "data.head()"
   ]
  },
  {
   "cell_type": "code",
   "execution_count": 65,
   "id": "689dce45",
   "metadata": {},
   "outputs": [
    {
     "data": {
      "text/plain": [
       "Order ID            object\n",
       "Product             object\n",
       "Quantity Ordered    object\n",
       "Price Each          object\n",
       "Order Date          object\n",
       "Purchase Address    object\n",
       "dtype: object"
      ]
     },
     "execution_count": 65,
     "metadata": {},
     "output_type": "execute_result"
    }
   ],
   "source": [
    "data.dtypes"
   ]
  },
  {
   "cell_type": "code",
   "execution_count": 66,
   "id": "9c95071d",
   "metadata": {},
   "outputs": [],
   "source": [
    "## check the categorical variables\n",
    "cat_vars = data.select_dtypes(\"object\")"
   ]
  },
  {
   "cell_type": "code",
   "execution_count": 67,
   "id": "7f1eb3a9",
   "metadata": {},
   "outputs": [
    {
     "name": "stdout",
     "output_type": "stream",
     "text": [
      "Order ID : 178438 unique values\n",
      "Product : 20 unique values\n",
      "Quantity Ordered : 10 unique values\n",
      "Price Each : 24 unique values\n",
      "Order Date : 142396 unique values\n",
      "Purchase Address : 140788 unique values\n"
     ]
    }
   ],
   "source": [
    "for col in cat_vars:\n",
    "    print('{} : {} unique values'.format(col,data[col].nunique()))"
   ]
  },
  {
   "cell_type": "code",
   "execution_count": 68,
   "id": "0edbec0e",
   "metadata": {},
   "outputs": [
    {
     "data": {
      "text/plain": [
       "Order ID            545\n",
       "Product             545\n",
       "Quantity Ordered    545\n",
       "Price Each          545\n",
       "Order Date          545\n",
       "Purchase Address    545\n",
       "dtype: int64"
      ]
     },
     "execution_count": 68,
     "metadata": {},
     "output_type": "execute_result"
    }
   ],
   "source": [
    "## Check missing values in each vcolumn\n",
    "data.isnull().sum()"
   ]
  },
  {
   "cell_type": "code",
   "execution_count": 69,
   "id": "72e316dd",
   "metadata": {},
   "outputs": [
    {
     "data": {
      "text/plain": [
       "0.29167781643029167"
      ]
     },
     "execution_count": 69,
     "metadata": {},
     "output_type": "execute_result"
    }
   ],
   "source": [
    "data.isnull().sum()[0]/data.shape[0] * 100 "
   ]
  },
  {
   "cell_type": "code",
   "execution_count": 70,
   "id": "fd2440fb",
   "metadata": {},
   "outputs": [],
   "source": [
    "## we have 545 missing values in each column and the missing values are about 0.3 % , its too small "
   ]
  },
  {
   "cell_type": "code",
   "execution_count": 71,
   "id": "7ed97038",
   "metadata": {},
   "outputs": [],
   "source": [
    "## let's just drop the missing value, I think this will not affect the data since the data is big enough."
   ]
  },
  {
   "cell_type": "code",
   "execution_count": 72,
   "id": "f52c96c5",
   "metadata": {},
   "outputs": [],
   "source": [
    "data = data.dropna(how='all')"
   ]
  },
  {
   "cell_type": "code",
   "execution_count": 73,
   "id": "6ad441d0",
   "metadata": {},
   "outputs": [
    {
     "data": {
      "text/plain": [
       "Order ID            0\n",
       "Product             0\n",
       "Quantity Ordered    0\n",
       "Price Each          0\n",
       "Order Date          0\n",
       "Purchase Address    0\n",
       "dtype: int64"
      ]
     },
     "execution_count": 73,
     "metadata": {},
     "output_type": "execute_result"
    }
   ],
   "source": [
    "data.isnull().sum()"
   ]
  },
  {
   "cell_type": "code",
   "execution_count": 74,
   "id": "0d1b79d2",
   "metadata": {},
   "outputs": [
    {
     "data": {
      "text/plain": [
       "Order ID            object\n",
       "Product             object\n",
       "Quantity Ordered    object\n",
       "Price Each          object\n",
       "Order Date          object\n",
       "Purchase Address    object\n",
       "dtype: object"
      ]
     },
     "execution_count": 74,
     "metadata": {},
     "output_type": "execute_result"
    }
   ],
   "source": [
    "data.dtypes"
   ]
  },
  {
   "cell_type": "code",
   "execution_count": 82,
   "id": "ac18312e",
   "metadata": {},
   "outputs": [],
   "source": [
    "## Convert Quantity Ordered ,Order ID and Price Each columns to numeric values"
   ]
  },
  {
   "cell_type": "code",
   "execution_count": 44,
   "id": "94311ebd",
   "metadata": {},
   "outputs": [
    {
     "data": {
      "text/plain": [
       "Order ID            object\n",
       "Product             object\n",
       "Quantity Ordered    object\n",
       "Price Each          object\n",
       "Order Date          object\n",
       "Purchase Address    object\n",
       "dtype: object"
      ]
     },
     "execution_count": 44,
     "metadata": {},
     "output_type": "execute_result"
    }
   ],
   "source": [
    "data.dtypes"
   ]
  },
  {
   "cell_type": "code",
   "execution_count": 75,
   "id": "af50e68e",
   "metadata": {},
   "outputs": [
    {
     "data": {
      "text/plain": [
       "array(['2', '1', '3', '4', 'Quantity Ordered', '6', '7', '5', '8', '9'],\n",
       "      dtype=object)"
      ]
     },
     "execution_count": 75,
     "metadata": {},
     "output_type": "execute_result"
    }
   ],
   "source": [
    "data['Quantity Ordered'].unique()"
   ]
  },
  {
   "cell_type": "code",
   "execution_count": 78,
   "id": "66b2b189",
   "metadata": {},
   "outputs": [
    {
     "data": {
      "text/plain": [
       "0    1\n",
       "dtype: object"
      ]
     },
     "execution_count": 78,
     "metadata": {},
     "output_type": "execute_result"
    }
   ],
   "source": [
    "data['Quantity Ordered'].mode()"
   ]
  },
  {
   "cell_type": "code",
   "execution_count": 76,
   "id": "dd005aff",
   "metadata": {},
   "outputs": [
    {
     "data": {
      "text/plain": [
       "1                   168552\n",
       "2                    13324\n",
       "3                     2920\n",
       "4                      806\n",
       "Quantity Ordered       355\n",
       "5                      236\n",
       "6                       80\n",
       "7                       24\n",
       "8                        5\n",
       "9                        3\n",
       "Name: Quantity Ordered, dtype: int64"
      ]
     },
     "execution_count": 76,
     "metadata": {},
     "output_type": "execute_result"
    }
   ],
   "source": [
    "data['Quantity Ordered'].value_counts()"
   ]
  },
  {
   "cell_type": "code",
   "execution_count": 80,
   "id": "acad619a",
   "metadata": {},
   "outputs": [],
   "source": [
    "data['Quantity Ordered'].replace(\"Quantity Ordered\",1,inplace=True)"
   ]
  },
  {
   "cell_type": "code",
   "execution_count": 81,
   "id": "0d738e23",
   "metadata": {},
   "outputs": [],
   "source": [
    "data['Quantity Ordered'] = data['Quantity Ordered'].astype(\"int\")"
   ]
  },
  {
   "cell_type": "code",
   "execution_count": 83,
   "id": "e7f5e317",
   "metadata": {},
   "outputs": [
    {
     "data": {
      "text/plain": [
       "array(['11.99', '99.99', '700.0', '3.84', '379.99', '109.99', '1700.0',\n",
       "       '600.0', '149.99', '14.95', '150.0', '2.99', '11.95', '389.99',\n",
       "       '999.99', '300.0', '400.0', 'Price Each', '600', '150', '1700',\n",
       "       '300', '400', '700'], dtype=object)"
      ]
     },
     "execution_count": 83,
     "metadata": {},
     "output_type": "execute_result"
    }
   ],
   "source": [
    "data['Price Each'].unique()"
   ]
  },
  {
   "cell_type": "code",
   "execution_count": 84,
   "id": "1c03fb93",
   "metadata": {},
   "outputs": [
    {
     "data": {
      "text/plain": [
       "11.95         21903\n",
       "14.95         21658\n",
       "2.99          20641\n",
       "3.84          20577\n",
       "11.99         18882\n",
       "150           15450\n",
       "99.99         13325\n",
       "149.99         7507\n",
       "700            6804\n",
       "389.99         6230\n",
       "379.99         6181\n",
       "600            5490\n",
       "300            4780\n",
       "1700           4702\n",
       "999.99         4128\n",
       "109.99         4101\n",
       "400            2056\n",
       "600.0          1347\n",
       "Price Each      355\n",
       "150.0            99\n",
       "700.0            38\n",
       "1700.0           22\n",
       "300.0            20\n",
       "400.0             9\n",
       "Name: Price Each, dtype: int64"
      ]
     },
     "execution_count": 84,
     "metadata": {},
     "output_type": "execute_result"
    }
   ],
   "source": [
    "data['Price Each'].value_counts()"
   ]
  },
  {
   "cell_type": "code",
   "execution_count": null,
   "id": "f83c6912",
   "metadata": {},
   "outputs": [],
   "source": [
    "## We have 355 rows with no info , so we will delete them"
   ]
  },
  {
   "cell_type": "code",
   "execution_count": 86,
   "id": "6ca61651",
   "metadata": {},
   "outputs": [
    {
     "data": {
      "text/html": [
       "<div>\n",
       "<style scoped>\n",
       "    .dataframe tbody tr th:only-of-type {\n",
       "        vertical-align: middle;\n",
       "    }\n",
       "\n",
       "    .dataframe tbody tr th {\n",
       "        vertical-align: top;\n",
       "    }\n",
       "\n",
       "    .dataframe thead th {\n",
       "        text-align: right;\n",
       "    }\n",
       "</style>\n",
       "<table border=\"1\" class=\"dataframe\">\n",
       "  <thead>\n",
       "    <tr style=\"text-align: right;\">\n",
       "      <th></th>\n",
       "      <th>Order ID</th>\n",
       "      <th>Product</th>\n",
       "      <th>Quantity Ordered</th>\n",
       "      <th>Price Each</th>\n",
       "      <th>Order Date</th>\n",
       "      <th>Purchase Address</th>\n",
       "    </tr>\n",
       "  </thead>\n",
       "  <tbody>\n",
       "    <tr>\n",
       "      <th>0</th>\n",
       "      <td>236670</td>\n",
       "      <td>Wired Headphones</td>\n",
       "      <td>2</td>\n",
       "      <td>11.99</td>\n",
       "      <td>08/31/19 22:21</td>\n",
       "      <td>359 Spruce St, Seattle, WA 98101</td>\n",
       "    </tr>\n",
       "    <tr>\n",
       "      <th>1</th>\n",
       "      <td>236671</td>\n",
       "      <td>Bose SoundSport Headphones</td>\n",
       "      <td>1</td>\n",
       "      <td>99.99</td>\n",
       "      <td>08/15/19 15:11</td>\n",
       "      <td>492 Ridge St, Dallas, TX 75001</td>\n",
       "    </tr>\n",
       "    <tr>\n",
       "      <th>2</th>\n",
       "      <td>236672</td>\n",
       "      <td>iPhone</td>\n",
       "      <td>1</td>\n",
       "      <td>700.0</td>\n",
       "      <td>08/06/19 14:40</td>\n",
       "      <td>149 7th St, Portland, OR 97035</td>\n",
       "    </tr>\n",
       "    <tr>\n",
       "      <th>3</th>\n",
       "      <td>236673</td>\n",
       "      <td>AA Batteries (4-pack)</td>\n",
       "      <td>2</td>\n",
       "      <td>3.84</td>\n",
       "      <td>08/29/19 20:59</td>\n",
       "      <td>631 2nd St, Los Angeles, CA 90001</td>\n",
       "    </tr>\n",
       "    <tr>\n",
       "      <th>4</th>\n",
       "      <td>236674</td>\n",
       "      <td>AA Batteries (4-pack)</td>\n",
       "      <td>2</td>\n",
       "      <td>3.84</td>\n",
       "      <td>08/15/19 19:53</td>\n",
       "      <td>736 14th St, New York City, NY 10001</td>\n",
       "    </tr>\n",
       "    <tr>\n",
       "      <th>...</th>\n",
       "      <td>...</td>\n",
       "      <td>...</td>\n",
       "      <td>...</td>\n",
       "      <td>...</td>\n",
       "      <td>...</td>\n",
       "      <td>...</td>\n",
       "    </tr>\n",
       "    <tr>\n",
       "      <th>186845</th>\n",
       "      <td>319666</td>\n",
       "      <td>Lightning Charging Cable</td>\n",
       "      <td>1</td>\n",
       "      <td>14.95</td>\n",
       "      <td>12/11/19 20:58</td>\n",
       "      <td>14 Madison St, San Francisco, CA 94016</td>\n",
       "    </tr>\n",
       "    <tr>\n",
       "      <th>186846</th>\n",
       "      <td>319667</td>\n",
       "      <td>AA Batteries (4-pack)</td>\n",
       "      <td>2</td>\n",
       "      <td>3.84</td>\n",
       "      <td>12/01/19 12:01</td>\n",
       "      <td>549 Willow St, Los Angeles, CA 90001</td>\n",
       "    </tr>\n",
       "    <tr>\n",
       "      <th>186847</th>\n",
       "      <td>319668</td>\n",
       "      <td>Vareebadd Phone</td>\n",
       "      <td>1</td>\n",
       "      <td>400</td>\n",
       "      <td>12/09/19 06:43</td>\n",
       "      <td>273 Wilson St, Seattle, WA 98101</td>\n",
       "    </tr>\n",
       "    <tr>\n",
       "      <th>186848</th>\n",
       "      <td>319669</td>\n",
       "      <td>Wired Headphones</td>\n",
       "      <td>1</td>\n",
       "      <td>11.99</td>\n",
       "      <td>12/03/19 10:39</td>\n",
       "      <td>778 River St, Dallas, TX 75001</td>\n",
       "    </tr>\n",
       "    <tr>\n",
       "      <th>186849</th>\n",
       "      <td>319670</td>\n",
       "      <td>Bose SoundSport Headphones</td>\n",
       "      <td>1</td>\n",
       "      <td>99.99</td>\n",
       "      <td>12/21/19 21:45</td>\n",
       "      <td>747 Chestnut St, Los Angeles, CA 90001</td>\n",
       "    </tr>\n",
       "  </tbody>\n",
       "</table>\n",
       "<p>185950 rows × 6 columns</p>\n",
       "</div>"
      ],
      "text/plain": [
       "       Order ID                     Product  Quantity Ordered Price Each  \\\n",
       "0        236670            Wired Headphones                 2      11.99   \n",
       "1        236671  Bose SoundSport Headphones                 1      99.99   \n",
       "2        236672                      iPhone                 1      700.0   \n",
       "3        236673       AA Batteries (4-pack)                 2       3.84   \n",
       "4        236674       AA Batteries (4-pack)                 2       3.84   \n",
       "...         ...                         ...               ...        ...   \n",
       "186845   319666    Lightning Charging Cable                 1      14.95   \n",
       "186846   319667       AA Batteries (4-pack)                 2       3.84   \n",
       "186847   319668             Vareebadd Phone                 1        400   \n",
       "186848   319669            Wired Headphones                 1      11.99   \n",
       "186849   319670  Bose SoundSport Headphones                 1      99.99   \n",
       "\n",
       "            Order Date                        Purchase Address  \n",
       "0       08/31/19 22:21        359 Spruce St, Seattle, WA 98101  \n",
       "1       08/15/19 15:11          492 Ridge St, Dallas, TX 75001  \n",
       "2       08/06/19 14:40          149 7th St, Portland, OR 97035  \n",
       "3       08/29/19 20:59       631 2nd St, Los Angeles, CA 90001  \n",
       "4       08/15/19 19:53    736 14th St, New York City, NY 10001  \n",
       "...                ...                                     ...  \n",
       "186845  12/11/19 20:58  14 Madison St, San Francisco, CA 94016  \n",
       "186846  12/01/19 12:01    549 Willow St, Los Angeles, CA 90001  \n",
       "186847  12/09/19 06:43        273 Wilson St, Seattle, WA 98101  \n",
       "186848  12/03/19 10:39          778 River St, Dallas, TX 75001  \n",
       "186849  12/21/19 21:45  747 Chestnut St, Los Angeles, CA 90001  \n",
       "\n",
       "[185950 rows x 6 columns]"
      ]
     },
     "execution_count": 86,
     "metadata": {},
     "output_type": "execute_result"
    }
   ],
   "source": [
    "data[data['Price Each'] != \"Price Each\"]"
   ]
  },
  {
   "cell_type": "code",
   "execution_count": 87,
   "id": "2f1a5143",
   "metadata": {},
   "outputs": [],
   "source": [
    "data = data[data['Price Each'] != \"Price Each\"]"
   ]
  },
  {
   "cell_type": "markdown",
   "id": "8bd6c3f9",
   "metadata": {},
   "source": [
    "**At first, when we load the data ,we had a 186850 rows ,then we discovred 545 missing values and 355 non info rows**"
   ]
  },
  {
   "cell_type": "code",
   "execution_count": null,
   "id": "617c5138",
   "metadata": {},
   "outputs": [],
   "source": [
    "## total rows dropped = 900 rows"
   ]
  },
  {
   "cell_type": "code",
   "execution_count": 88,
   "id": "221d2043",
   "metadata": {},
   "outputs": [
    {
     "data": {
      "text/plain": [
       "(185950, 6)"
      ]
     },
     "execution_count": 88,
     "metadata": {},
     "output_type": "execute_result"
    }
   ],
   "source": [
    "data.shape"
   ]
  },
  {
   "cell_type": "code",
   "execution_count": 92,
   "id": "2803d88a",
   "metadata": {},
   "outputs": [],
   "source": [
    "data['Order ID'] = data['Order ID'].astype(\"int\")"
   ]
  },
  {
   "cell_type": "code",
   "execution_count": 93,
   "id": "f1e2399e",
   "metadata": {},
   "outputs": [],
   "source": [
    "data['Price Each'] = data['Price Each'].astype(\"float\")"
   ]
  },
  {
   "cell_type": "code",
   "execution_count": 94,
   "id": "0e33cd53",
   "metadata": {},
   "outputs": [
    {
     "data": {
      "text/plain": [
       "Order ID              int32\n",
       "Product              object\n",
       "Quantity Ordered      int32\n",
       "Price Each          float64\n",
       "Order Date           object\n",
       "Purchase Address     object\n",
       "dtype: object"
      ]
     },
     "execution_count": 94,
     "metadata": {},
     "output_type": "execute_result"
    }
   ],
   "source": [
    "data.dtypes"
   ]
  },
  {
   "cell_type": "code",
   "execution_count": 95,
   "id": "0ef7a52c",
   "metadata": {},
   "outputs": [],
   "source": [
    "## And let's convert Order Date column too, so we can take the Year, Month"
   ]
  },
  {
   "cell_type": "code",
   "execution_count": 96,
   "id": "62a34f56",
   "metadata": {},
   "outputs": [
    {
     "data": {
      "text/plain": [
       "0         08/31/19 22:21\n",
       "1         08/15/19 15:11\n",
       "2         08/06/19 14:40\n",
       "3         08/29/19 20:59\n",
       "4         08/15/19 19:53\n",
       "               ...      \n",
       "186845    12/11/19 20:58\n",
       "186846    12/01/19 12:01\n",
       "186847    12/09/19 06:43\n",
       "186848    12/03/19 10:39\n",
       "186849    12/21/19 21:45\n",
       "Name: Order Date, Length: 185950, dtype: object"
      ]
     },
     "execution_count": 96,
     "metadata": {},
     "output_type": "execute_result"
    }
   ],
   "source": [
    "data['Order Date']"
   ]
  },
  {
   "cell_type": "code",
   "execution_count": 97,
   "id": "e1fa1fe5",
   "metadata": {},
   "outputs": [],
   "source": [
    "data['Order Date'] = pd.to_datetime(data['Order Date'])"
   ]
  },
  {
   "cell_type": "code",
   "execution_count": 99,
   "id": "98627bad",
   "metadata": {},
   "outputs": [
    {
     "data": {
      "text/plain": [
       "0   2019-08-31 22:21:00\n",
       "1   2019-08-15 15:11:00\n",
       "2   2019-08-06 14:40:00\n",
       "Name: Order Date, dtype: datetime64[ns]"
      ]
     },
     "execution_count": 99,
     "metadata": {},
     "output_type": "execute_result"
    }
   ],
   "source": [
    "data['Order Date'].head(3)"
   ]
  },
  {
   "cell_type": "code",
   "execution_count": 105,
   "id": "3908db1c",
   "metadata": {},
   "outputs": [
    {
     "data": {
      "text/plain": [
       "140787"
      ]
     },
     "execution_count": 105,
     "metadata": {},
     "output_type": "execute_result"
    }
   ],
   "source": [
    "data['Purchase Address'].nunique()"
   ]
  },
  {
   "cell_type": "markdown",
   "id": "13b7f1f0",
   "metadata": {},
   "source": [
    "### Recap Data\n",
    "**This is some point that we have.**\n",
    "\n",
    "<br>We have total  186850  records and  6  columns cateogircal type\n",
    "<br>The total of missing value that we have is  545 and 0.29167 % of data ,and 355 without info \n",
    "<br>**Order ID** :  178437  unique value(s)\n",
    "<br>**Product** :  19  unique value(s)\n",
    "<br>**Quantity Ordered** :  9  unique value(s)\n",
    "<br>**Price Each** :  17  unique value(s)\n",
    "<br>**Order Date** :  142395  unique value(s)\n",
    "<br>**Purchase Address** :  140787  unique value(s)"
   ]
  },
  {
   "cell_type": "markdown",
   "id": "2c62980e",
   "metadata": {},
   "source": [
    "## Data Preparation\n",
    "Data preparation is the act of manipulating raw data into a form that can readily and accurately be analysed, e.g. for business purposes. Data Preparation is a pre-processing step in which data from one or more sources is cleaned and transformed to improve its quality prior to its use in business analytics."
   ]
  },
  {
   "cell_type": "code",
   "execution_count": 107,
   "id": "0db64984",
   "metadata": {},
   "outputs": [],
   "source": [
    "def adding_new_features(data):\n",
    "    \n",
    "    def get_city(address):\n",
    "        return address.split(',')[1]\n",
    "    def get_state(address):\n",
    "        return address.split(',')[2].split(\" \")[1]\n",
    "    \n",
    "    data['year'] = data['Order Date'].dt.year\n",
    "        \n",
    "    data['month'] = data['Order Date'].dt.month\n",
    "    \n",
    "    data['day'] = data['Order Date'].dt.day\n",
    "    \n",
    "    data['hour'] = data['Order Date'].dt.hour\n",
    "    \n",
    "    data['minute'] = data['Order Date'].dt.minute\n",
    "    \n",
    "    data['total_purchase'] = data['Quantity Ordered'] * data['Price Each']\n",
    "    \n",
    "    data['city'] = data['Purchase Address'].apply(lambda x: f\"{get_city(x)}({get_state(x)})\")\n",
    "    \n",
    "    return data"
   ]
  },
  {
   "cell_type": "code",
   "execution_count": 108,
   "id": "480b23bf",
   "metadata": {},
   "outputs": [],
   "source": [
    "df = adding_new_features(data)"
   ]
  },
  {
   "cell_type": "code",
   "execution_count": 109,
   "id": "e5ea90fb",
   "metadata": {},
   "outputs": [
    {
     "data": {
      "text/html": [
       "<div>\n",
       "<style scoped>\n",
       "    .dataframe tbody tr th:only-of-type {\n",
       "        vertical-align: middle;\n",
       "    }\n",
       "\n",
       "    .dataframe tbody tr th {\n",
       "        vertical-align: top;\n",
       "    }\n",
       "\n",
       "    .dataframe thead th {\n",
       "        text-align: right;\n",
       "    }\n",
       "</style>\n",
       "<table border=\"1\" class=\"dataframe\">\n",
       "  <thead>\n",
       "    <tr style=\"text-align: right;\">\n",
       "      <th></th>\n",
       "      <th>Order ID</th>\n",
       "      <th>Product</th>\n",
       "      <th>Quantity Ordered</th>\n",
       "      <th>Price Each</th>\n",
       "      <th>Order Date</th>\n",
       "      <th>Purchase Address</th>\n",
       "      <th>year</th>\n",
       "      <th>month</th>\n",
       "      <th>day</th>\n",
       "      <th>hour</th>\n",
       "      <th>minute</th>\n",
       "      <th>total_purchase</th>\n",
       "      <th>city</th>\n",
       "    </tr>\n",
       "  </thead>\n",
       "  <tbody>\n",
       "    <tr>\n",
       "      <th>0</th>\n",
       "      <td>236670</td>\n",
       "      <td>Wired Headphones</td>\n",
       "      <td>2</td>\n",
       "      <td>11.99</td>\n",
       "      <td>2019-08-31 22:21:00</td>\n",
       "      <td>359 Spruce St, Seattle, WA 98101</td>\n",
       "      <td>2019</td>\n",
       "      <td>8</td>\n",
       "      <td>31</td>\n",
       "      <td>22</td>\n",
       "      <td>21</td>\n",
       "      <td>23.98</td>\n",
       "      <td>Seattle(WA)</td>\n",
       "    </tr>\n",
       "    <tr>\n",
       "      <th>1</th>\n",
       "      <td>236671</td>\n",
       "      <td>Bose SoundSport Headphones</td>\n",
       "      <td>1</td>\n",
       "      <td>99.99</td>\n",
       "      <td>2019-08-15 15:11:00</td>\n",
       "      <td>492 Ridge St, Dallas, TX 75001</td>\n",
       "      <td>2019</td>\n",
       "      <td>8</td>\n",
       "      <td>15</td>\n",
       "      <td>15</td>\n",
       "      <td>11</td>\n",
       "      <td>99.99</td>\n",
       "      <td>Dallas(TX)</td>\n",
       "    </tr>\n",
       "    <tr>\n",
       "      <th>2</th>\n",
       "      <td>236672</td>\n",
       "      <td>iPhone</td>\n",
       "      <td>1</td>\n",
       "      <td>700.00</td>\n",
       "      <td>2019-08-06 14:40:00</td>\n",
       "      <td>149 7th St, Portland, OR 97035</td>\n",
       "      <td>2019</td>\n",
       "      <td>8</td>\n",
       "      <td>6</td>\n",
       "      <td>14</td>\n",
       "      <td>40</td>\n",
       "      <td>700.00</td>\n",
       "      <td>Portland(OR)</td>\n",
       "    </tr>\n",
       "    <tr>\n",
       "      <th>3</th>\n",
       "      <td>236673</td>\n",
       "      <td>AA Batteries (4-pack)</td>\n",
       "      <td>2</td>\n",
       "      <td>3.84</td>\n",
       "      <td>2019-08-29 20:59:00</td>\n",
       "      <td>631 2nd St, Los Angeles, CA 90001</td>\n",
       "      <td>2019</td>\n",
       "      <td>8</td>\n",
       "      <td>29</td>\n",
       "      <td>20</td>\n",
       "      <td>59</td>\n",
       "      <td>7.68</td>\n",
       "      <td>Los Angeles(CA)</td>\n",
       "    </tr>\n",
       "    <tr>\n",
       "      <th>4</th>\n",
       "      <td>236674</td>\n",
       "      <td>AA Batteries (4-pack)</td>\n",
       "      <td>2</td>\n",
       "      <td>3.84</td>\n",
       "      <td>2019-08-15 19:53:00</td>\n",
       "      <td>736 14th St, New York City, NY 10001</td>\n",
       "      <td>2019</td>\n",
       "      <td>8</td>\n",
       "      <td>15</td>\n",
       "      <td>19</td>\n",
       "      <td>53</td>\n",
       "      <td>7.68</td>\n",
       "      <td>New York City(NY)</td>\n",
       "    </tr>\n",
       "  </tbody>\n",
       "</table>\n",
       "</div>"
      ],
      "text/plain": [
       "   Order ID                     Product  Quantity Ordered  Price Each  \\\n",
       "0    236670            Wired Headphones                 2       11.99   \n",
       "1    236671  Bose SoundSport Headphones                 1       99.99   \n",
       "2    236672                      iPhone                 1      700.00   \n",
       "3    236673       AA Batteries (4-pack)                 2        3.84   \n",
       "4    236674       AA Batteries (4-pack)                 2        3.84   \n",
       "\n",
       "           Order Date                      Purchase Address  year  month  day  \\\n",
       "0 2019-08-31 22:21:00      359 Spruce St, Seattle, WA 98101  2019      8   31   \n",
       "1 2019-08-15 15:11:00        492 Ridge St, Dallas, TX 75001  2019      8   15   \n",
       "2 2019-08-06 14:40:00        149 7th St, Portland, OR 97035  2019      8    6   \n",
       "3 2019-08-29 20:59:00     631 2nd St, Los Angeles, CA 90001  2019      8   29   \n",
       "4 2019-08-15 19:53:00  736 14th St, New York City, NY 10001  2019      8   15   \n",
       "\n",
       "   hour  minute  total_purchase                city  \n",
       "0    22      21           23.98         Seattle(WA)  \n",
       "1    15      11           99.99          Dallas(TX)  \n",
       "2    14      40          700.00        Portland(OR)  \n",
       "3    20      59            7.68     Los Angeles(CA)  \n",
       "4    19      53            7.68   New York City(NY)  "
      ]
     },
     "execution_count": 109,
     "metadata": {},
     "output_type": "execute_result"
    }
   ],
   "source": [
    "df.head()"
   ]
  },
  {
   "cell_type": "code",
   "execution_count": 110,
   "id": "0b242532",
   "metadata": {},
   "outputs": [
    {
     "data": {
      "text/plain": [
       "array([2019, 2020], dtype=int64)"
      ]
     },
     "execution_count": 110,
     "metadata": {},
     "output_type": "execute_result"
    }
   ],
   "source": [
    "df.year.unique()"
   ]
  },
  {
   "cell_type": "markdown",
   "id": "585c1b91",
   "metadata": {},
   "source": [
    "## Data Analysis"
   ]
  },
  {
   "cell_type": "code",
   "execution_count": 119,
   "id": "199e5ae4",
   "metadata": {},
   "outputs": [
    {
     "data": {
      "image/png": "[encoded data removed]",
      "text/plain": [
       "<Figure size 1728x1296 with 2 Axes>"
      ]
     },
     "metadata": {
      "needs_background": "light"
     },
     "output_type": "display_data"
    }
   ],
   "source": [
    "cm = df.corr(method = \"pearson\")\n",
    "plt.figure(figsize=(24, 18))\n",
    "sns.heatmap(cm,annot=True,annot_kws={\"fontsize\":20})\n",
    "plt.title(\"Correlation Matrix for numeric features\",fontsize=35)\n",
    "plt.xticks(weight=\"bold\", fontsize=12) # x-ticks\n",
    "plt.yticks(weight=\"bold\", fontsize=12); # y-ticks\n",
    "plt.show()"
   ]
  },
  {
   "cell_type": "code",
   "execution_count": 122,
   "id": "a59c027e",
   "metadata": {},
   "outputs": [
    {
     "data": {
      "text/plain": [
       "total_purchase      1.000000\n",
       "Price Each          0.999203\n",
       "year                0.002824\n",
       "hour                0.001668\n",
       "minute             -0.002162\n",
       "day                -0.002580\n",
       "Order ID           -0.002949\n",
       "month              -0.003466\n",
       "Quantity Ordered   -0.139417\n",
       "Name: total_purchase, dtype: float64"
      ]
     },
     "execution_count": 122,
     "metadata": {},
     "output_type": "execute_result"
    }
   ],
   "source": [
    "## check correlation with total_purchase\n",
    "df.corr()['total_purchase'].sort_values(ascending=False)"
   ]
  },
  {
   "cell_type": "code",
   "execution_count": 123,
   "id": "9a8424b2",
   "metadata": {},
   "outputs": [],
   "source": [
    "df_numeric = df.describe(include=[np.number])"
   ]
  },
  {
   "cell_type": "code",
   "execution_count": 124,
   "id": "7ad76d57",
   "metadata": {},
   "outputs": [
    {
     "data": {
      "text/html": [
       "<div>\n",
       "<style scoped>\n",
       "    .dataframe tbody tr th:only-of-type {\n",
       "        vertical-align: middle;\n",
       "    }\n",
       "\n",
       "    .dataframe tbody tr th {\n",
       "        vertical-align: top;\n",
       "    }\n",
       "\n",
       "    .dataframe thead th {\n",
       "        text-align: right;\n",
       "    }\n",
       "</style>\n",
       "<table border=\"1\" class=\"dataframe\">\n",
       "  <thead>\n",
       "    <tr style=\"text-align: right;\">\n",
       "      <th></th>\n",
       "      <th>Order ID</th>\n",
       "      <th>Quantity Ordered</th>\n",
       "      <th>Price Each</th>\n",
       "      <th>year</th>\n",
       "      <th>month</th>\n",
       "      <th>day</th>\n",
       "      <th>hour</th>\n",
       "      <th>minute</th>\n",
       "      <th>total_purchase</th>\n",
       "    </tr>\n",
       "  </thead>\n",
       "  <tbody>\n",
       "    <tr>\n",
       "      <th>count</th>\n",
       "      <td>185950.000000</td>\n",
       "      <td>185950.000000</td>\n",
       "      <td>185950.000000</td>\n",
       "      <td>185950.000000</td>\n",
       "      <td>185950.000000</td>\n",
       "      <td>185950.000000</td>\n",
       "      <td>185950.000000</td>\n",
       "      <td>185950.000000</td>\n",
       "      <td>185950.000000</td>\n",
       "    </tr>\n",
       "    <tr>\n",
       "      <th>mean</th>\n",
       "      <td>230417.569379</td>\n",
       "      <td>1.124383</td>\n",
       "      <td>184.399735</td>\n",
       "      <td>2019.000183</td>\n",
       "      <td>7.059140</td>\n",
       "      <td>15.759532</td>\n",
       "      <td>14.413305</td>\n",
       "      <td>29.481361</td>\n",
       "      <td>185.490917</td>\n",
       "    </tr>\n",
       "    <tr>\n",
       "      <th>std</th>\n",
       "      <td>51512.737110</td>\n",
       "      <td>0.442793</td>\n",
       "      <td>332.731330</td>\n",
       "      <td>0.013521</td>\n",
       "      <td>3.502996</td>\n",
       "      <td>8.782176</td>\n",
       "      <td>5.423416</td>\n",
       "      <td>17.317573</td>\n",
       "      <td>332.919771</td>\n",
       "    </tr>\n",
       "    <tr>\n",
       "      <th>min</th>\n",
       "      <td>141234.000000</td>\n",
       "      <td>1.000000</td>\n",
       "      <td>2.990000</td>\n",
       "      <td>2019.000000</td>\n",
       "      <td>1.000000</td>\n",
       "      <td>1.000000</td>\n",
       "      <td>0.000000</td>\n",
       "      <td>0.000000</td>\n",
       "      <td>2.990000</td>\n",
       "    </tr>\n",
       "    <tr>\n",
       "      <th>25%</th>\n",
       "      <td>185831.250000</td>\n",
       "      <td>1.000000</td>\n",
       "      <td>11.950000</td>\n",
       "      <td>2019.000000</td>\n",
       "      <td>4.000000</td>\n",
       "      <td>8.000000</td>\n",
       "      <td>11.000000</td>\n",
       "      <td>14.000000</td>\n",
       "      <td>11.950000</td>\n",
       "    </tr>\n",
       "    <tr>\n",
       "      <th>50%</th>\n",
       "      <td>230367.500000</td>\n",
       "      <td>1.000000</td>\n",
       "      <td>14.950000</td>\n",
       "      <td>2019.000000</td>\n",
       "      <td>7.000000</td>\n",
       "      <td>16.000000</td>\n",
       "      <td>15.000000</td>\n",
       "      <td>29.000000</td>\n",
       "      <td>14.950000</td>\n",
       "    </tr>\n",
       "    <tr>\n",
       "      <th>75%</th>\n",
       "      <td>275035.750000</td>\n",
       "      <td>1.000000</td>\n",
       "      <td>150.000000</td>\n",
       "      <td>2019.000000</td>\n",
       "      <td>10.000000</td>\n",
       "      <td>23.000000</td>\n",
       "      <td>19.000000</td>\n",
       "      <td>45.000000</td>\n",
       "      <td>150.000000</td>\n",
       "    </tr>\n",
       "    <tr>\n",
       "      <th>max</th>\n",
       "      <td>319670.000000</td>\n",
       "      <td>9.000000</td>\n",
       "      <td>1700.000000</td>\n",
       "      <td>2020.000000</td>\n",
       "      <td>12.000000</td>\n",
       "      <td>31.000000</td>\n",
       "      <td>23.000000</td>\n",
       "      <td>59.000000</td>\n",
       "      <td>3400.000000</td>\n",
       "    </tr>\n",
       "  </tbody>\n",
       "</table>\n",
       "</div>"
      ],
      "text/plain": [
       "            Order ID  Quantity Ordered     Price Each           year  \\\n",
       "count  185950.000000     185950.000000  185950.000000  185950.000000   \n",
       "mean   230417.569379          1.124383     184.399735    2019.000183   \n",
       "std     51512.737110          0.442793     332.731330       0.013521   \n",
       "min    141234.000000          1.000000       2.990000    2019.000000   \n",
       "25%    185831.250000          1.000000      11.950000    2019.000000   \n",
       "50%    230367.500000          1.000000      14.950000    2019.000000   \n",
       "75%    275035.750000          1.000000     150.000000    2019.000000   \n",
       "max    319670.000000          9.000000    1700.000000    2020.000000   \n",
       "\n",
       "               month            day           hour         minute  \\\n",
       "count  185950.000000  185950.000000  185950.000000  185950.000000   \n",
       "mean        7.059140      15.759532      14.413305      29.481361   \n",
       "std         3.502996       8.782176       5.423416      17.317573   \n",
       "min         1.000000       1.000000       0.000000       0.000000   \n",
       "25%         4.000000       8.000000      11.000000      14.000000   \n",
       "50%         7.000000      16.000000      15.000000      29.000000   \n",
       "75%        10.000000      23.000000      19.000000      45.000000   \n",
       "max        12.000000      31.000000      23.000000      59.000000   \n",
       "\n",
       "       total_purchase  \n",
       "count   185950.000000  \n",
       "mean       185.490917  \n",
       "std        332.919771  \n",
       "min          2.990000  \n",
       "25%         11.950000  \n",
       "50%         14.950000  \n",
       "75%        150.000000  \n",
       "max       3400.000000  "
      ]
     },
     "execution_count": 124,
     "metadata": {},
     "output_type": "execute_result"
    }
   ],
   "source": [
    "df_numeric"
   ]
  },
  {
   "cell_type": "markdown",
   "id": "1916f8db",
   "metadata": {},
   "source": [
    "## Univariate Analysis"
   ]
  },
  {
   "cell_type": "markdown",
   "id": "c330cc70",
   "metadata": {},
   "source": [
    "The key fact is that only one variable is involved. Univariate analysis can yield misleading results in cases in which multivariate analysis is more appropriate."
   ]
  },
  {
   "cell_type": "code",
   "execution_count": 125,
   "id": "2e923681",
   "metadata": {},
   "outputs": [],
   "source": [
    "def univariate_analysis(data, color, title1, title2):\n",
    "    \n",
    "    \"\"\"\n",
    "    Showing visualization of univariate analysis with displot and qqplot\n",
    "    visualization from seaborn and statsmodel\n",
    "    library.\n",
    "    \n",
    "    Parameters\n",
    "    ----------\n",
    "    data : DataFrame, array, or list of arrays, optional\n",
    "        Dataset for plotting. If ``x`` and ``y`` are absent, this is\n",
    "        interpreted as wide-form. Otherwise it is expected to be long-form. \n",
    "    title1: The title of the visualization, title1 for displot visualization\n",
    "        And title2 for quantile plot from statsmodel.\n",
    "    title2: The title of the visualization, title1 for displot visualization\n",
    "        And title2 for quantile plot from statsmodel.\n",
    "        \n",
    "    Returns\n",
    "    -------\n",
    "    fig :Figure object with the plot drawn onto it.\n",
    "    \"\"\"\n",
    "    \n",
    "    \n",
    "    fig, (ax1, ax2) = plt.subplots( # subplots\n",
    "    ncols=2, # num of cols\n",
    "    nrows=1, # num of rows\n",
    "    figsize=(20, 6) # set the width and high\n",
    "    )\n",
    "\n",
    "    sns.distplot( # create a distplot visualization\n",
    "        data, # data\n",
    "        ax=ax1, # axes 1\n",
    "        kde=True, # kde\n",
    "        color=color # color\n",
    "    )\n",
    "    \n",
    "    ax1.set_title( # set the title 1\n",
    "        title1, \n",
    "        weight=\"bold\", # weight\n",
    "        fontsize=25, # font-size\n",
    "        pad=30 # padding\n",
    "    ) \n",
    "    \n",
    "    qqplot( # qqplot (quantile plot)\n",
    "        data, # data\n",
    "        ax=ax2, # axes 2\n",
    "        line='s' # line \n",
    "    )\n",
    "    \n",
    "    ax2.set_title( # set the title 2\n",
    "        title2, \n",
    "        weight=\"bold\", # weight\n",
    "        fontsize=25, # font-size\n",
    "        pad=30 # padding\n",
    "    )\n",
    "    \n",
    "    return fig # returning the figure"
   ]
  },
  {
   "cell_type": "markdown",
   "id": "73b3a98f",
   "metadata": {},
   "source": [
    "#### Chebyshev’s Theorem\n",
    "Chebyshev’s Theorem estimates the minimum proportion of observations that fall within a specified number of standard deviations from the mean. This theorem applies to a broad range of probability distributions. Chebyshev’s Theorem is also known as Chebyshev’s Inequality."
   ]
  },
  {
   "cell_type": "markdown",
   "id": "b07140c9",
   "metadata": {},
   "source": [
    "#### Quantile plot\n",
    "The quantile-quantile (q-q) plot is a graphical technique for determining if two data sets come from populations with a common distribution."
   ]
  },
  {
   "cell_type": "code",
   "execution_count": 129,
   "id": "143743a7",
   "metadata": {},
   "outputs": [
    {
     "data": {
      "image/jpeg": "[encoded data removed]",
      "text/plain": [
       "<IPython.core.display.Image object>"
      ]
     },
     "execution_count": 129,
     "metadata": {
      "image/jpeg": {
       "width": 500
      }
     },
     "output_type": "execute_result"
    }
   ],
   "source": [
    "from IPython.display import Image\n",
    "Image(filename='th.jpg',width = 500) "
   ]
  },
  {
   "cell_type": "code",
   "execution_count": 130,
   "id": "7e4f80b0",
   "metadata": {},
   "outputs": [
    {
     "name": "stderr",
     "output_type": "stream",
     "text": [
      "C:\\Users\\Ahmad Abd Elhameed\\Anaconda3\\envs\\nlp\\lib\\site-packages\\seaborn\\distributions.py:2619: FutureWarning: `distplot` is a deprecated function and will be removed in a future version. Please adapt your code to use either `displot` (a figure-level function with similar flexibility) or `histplot` (an axes-level function for histograms).\n",
      "  warnings.warn(msg, FutureWarning)\n"
     ]
    },
    {
     "data": {
      "image/png": "[encoded data removed]",
      "text/plain": [
       "<Figure size 1440x432 with 2 Axes>"
      ]
     },
     "metadata": {
      "needs_background": "light"
     },
     "output_type": "display_data"
    }
   ],
   "source": [
    "# Quantity Ordered Data\n",
    "univariate_analysis( \n",
    "    data=df['Quantity Ordered'], # data\n",
    "    color='red', # pick the color\n",
    "    title1='Quantity Ordered Data Distribution', # title1\n",
    "    title2='Quantile Plot' # title2\n",
    ");"
   ]
  },
  {
   "cell_type": "code",
   "execution_count": 131,
   "id": "b8b5b29d",
   "metadata": {},
   "outputs": [],
   "source": [
    "## its usually the customer buy 1 item , and a few buy 2 or more"
   ]
  },
  {
   "cell_type": "markdown",
   "id": "ae3b6991",
   "metadata": {},
   "source": [
    "Find the proportion that lies in between two standard deviation ( σ ) from mean ( μ ), and let's try to interprete that.\n",
    "from table above σ = 0.44 and  μ = 1.12"
   ]
  },
  {
   "cell_type": "code",
   "execution_count": null,
   "id": "5784fe6a",
   "metadata": {},
   "outputs": [],
   "source": []
  }
 ],
 "metadata": {
  "kernelspec": {
   "display_name": "Python 3",
   "language": "python",
   "name": "python3"
  },
  "language_info": {
   "codemirror_mode": {
    "name": "ipython",
    "version": 3
   },
   "file_extension": ".py",
   "mimetype": "text/x-python",
   "name": "python",
   "nbconvert_exporter": "python",
   "pygments_lexer": "ipython3",
   "version": "3.6.9"
  }
 },
 "nbformat": 4,
 "nbformat_minor": 5
}
