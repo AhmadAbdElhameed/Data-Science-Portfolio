{
 "cells": [
  {
   "cell_type": "markdown",
   "id": "cf2a4634",
   "metadata": {},
   "source": [
    "# Introduction\n",
    "\n",
    "This data set contains simulated data that mimics customer behavior on the Starbucks rewards mobile app. Once every few days, Starbucks sends out an offer to users of the mobile app. An offer can be merely an advertisement for a drink or an actual offer such as a discount or BOGO (buy one get one free). Some users might not receive any offer during certain weeks.\n",
    "\n",
    "Not all users receive the same offer, and that is the challenge to solve with this data set.\n",
    "\n",
    "Your task is to combine transaction, demographic and offer data to determine which demographic groups respond best to which offer type. This data set is a simplified version of the real Starbucks app because the underlying simulator only has one product whereas Starbucks actually sells dozens of products.\n",
    "\n",
    "Every offer has a validity period before the offer expires. As an example, a BOGO offer might be valid for only 5 days. You'll see in the data set that informational offers have a validity period even though these ads are merely providing information about a product; for example, if an informational offer has 7 days of validity, you can assume the customer is feeling the influence of the offer for 7 days after receiving the advertisement.\n",
    "\n",
    "You'll be given transactional data showing user purchases made on the app including the timestamp of purchase and the amount of money spent on a purchase. This transactional data also has a record for each offer that a user receives as well as a record for when a user actually views the offer. There are also records for when a user completes an offer.\n",
    "\n",
    "Keep in mind as well that someone using the app might make a purchase through the app without having received an offer or seen an offer."
   ]
  },
  {
   "cell_type": "markdown",
   "id": "ead96653",
   "metadata": {},
   "source": [
    "## Example\n",
    "\n",
    "To give an example, a user could receive a discount offer buy 10 dollars get 2 off on Monday. The offer is valid for 10 days from receipt. If the customer accumulates at least 10 dollars in purchases during the validity period, the customer completes the offer.\n",
    "\n",
    "However, there are a few things to watch out for in this data set. Customers do not opt into the offers that they receive; in other words, a user can receive an offer, never actually view the offer, and still complete the offer. For example, a user might receive the \"buy 10 dollars get 2 dollars off offer\", but the user never opens the offer during the 10 day validity period. The customer spends 15 dollars during those ten days. There will be an offer completion record in the data set; however, the customer was not influenced by the offer because the customer never viewed the offer."
   ]
  },
  {
   "cell_type": "markdown",
   "id": "d56bd39a",
   "metadata": {},
   "source": [
    "## Data Sets\n",
    "\n",
    "The data is contained in three files:\n",
    "\n",
    "- **portfolio.json** - containing offer ids and meta data about each offer (duration, type, etc.)\n",
    "- **profile.json** - demographic data for each customer\n",
    "- **transcript.json** - records for transactions, offers received, offers viewed, and offers completed"
   ]
  },
  {
   "cell_type": "markdown",
   "id": "501dd548",
   "metadata": {},
   "source": [
    "### Dataset Schema\n",
    "\n",
    "**portfolio.json**\n",
    "\n",
    "- id (string) - offer id\n",
    "- offer_type (string) - type of offer ie BOGO, discount, informational\n",
    "- difficulty (int) - minimum required spend to complete an offer\n",
    "- reward (int) - reward given for completing an offer\n",
    "- duration (int) - time for offer to be open, in days\n",
    "- channels (list of strings)\n",
    "\n",
    "**profile.json**\n",
    "\n",
    "- age (int) - age of the customer\n",
    "- became_member_on (int) - date when customer created an app account\n",
    "- gender (str) - gender of the customer (note some entries contain 'O' for other rather than M or F)\n",
    "- id (str) - customer id\n",
    "- income (float) - customer's income\n",
    "\n",
    "**transcript.json**\n",
    "\n",
    "- event (str) - record description (ie transaction, offer received, offer viewed, etc.)\n",
    "- person (str) - customer id\n",
    "- time (int) - time in hours since start of test. The data begins at time t=0\n",
    "- value - (dict of strings) - either an offer id or transaction amount depending on the record"
   ]
  },
  {
   "cell_type": "code",
   "execution_count": 415,
   "id": "c7964a42",
   "metadata": {},
   "outputs": [],
   "source": [
    "import pandas as pd\n",
    "import numpy as np\n",
    "import math\n",
    "import json\n",
    "import matplotlib.pyplot as plt\n",
    "%matplotlib inline\n",
    "import seaborn as sns\n",
    "import scipy\n",
    "from scipy import stats\n",
    "from statsmodels.stats.weightstats import DescrStatsW"
   ]
  },
  {
   "cell_type": "code",
   "execution_count": 440,
   "id": "2696c3b6",
   "metadata": {},
   "outputs": [],
   "source": [
    "from matplotlib.legend_handler import HandlerBase\n",
    "from matplotlib.text import Text"
   ]
  },
  {
   "cell_type": "markdown",
   "id": "701704c3",
   "metadata": {},
   "source": [
    "## Data Cleaning"
   ]
  },
  {
   "cell_type": "code",
   "execution_count": 4,
   "id": "daadf6f8",
   "metadata": {},
   "outputs": [],
   "source": [
    "# read in the json files\n",
    "portfolio = pd.read_json('portfolio.json', orient='records', lines=True)\n",
    "profile = pd.read_json('profile.json', orient='records', lines=True)\n",
    "transcript = pd.read_json('transcript.json', orient='records', lines=True)"
   ]
  },
  {
   "cell_type": "code",
   "execution_count": 5,
   "id": "c3166255",
   "metadata": {},
   "outputs": [
    {
     "data": {
      "text/html": [
       "<div>\n",
       "<style scoped>\n",
       "    .dataframe tbody tr th:only-of-type {\n",
       "        vertical-align: middle;\n",
       "    }\n",
       "\n",
       "    .dataframe tbody tr th {\n",
       "        vertical-align: top;\n",
       "    }\n",
       "\n",
       "    .dataframe thead th {\n",
       "        text-align: right;\n",
       "    }\n",
       "</style>\n",
       "<table border=\"1\" class=\"dataframe\">\n",
       "  <thead>\n",
       "    <tr style=\"text-align: right;\">\n",
       "      <th></th>\n",
       "      <th>reward</th>\n",
       "      <th>channels</th>\n",
       "      <th>difficulty</th>\n",
       "      <th>duration</th>\n",
       "      <th>offer_type</th>\n",
       "      <th>id</th>\n",
       "    </tr>\n",
       "  </thead>\n",
       "  <tbody>\n",
       "    <tr>\n",
       "      <th>0</th>\n",
       "      <td>10</td>\n",
       "      <td>[email, mobile, social]</td>\n",
       "      <td>10</td>\n",
       "      <td>7</td>\n",
       "      <td>bogo</td>\n",
       "      <td>ae264e3637204a6fb9bb56bc8210ddfd</td>\n",
       "    </tr>\n",
       "    <tr>\n",
       "      <th>1</th>\n",
       "      <td>10</td>\n",
       "      <td>[web, email, mobile, social]</td>\n",
       "      <td>10</td>\n",
       "      <td>5</td>\n",
       "      <td>bogo</td>\n",
       "      <td>4d5c57ea9a6940dd891ad53e9dbe8da0</td>\n",
       "    </tr>\n",
       "    <tr>\n",
       "      <th>2</th>\n",
       "      <td>0</td>\n",
       "      <td>[web, email, mobile]</td>\n",
       "      <td>0</td>\n",
       "      <td>4</td>\n",
       "      <td>informational</td>\n",
       "      <td>3f207df678b143eea3cee63160fa8bed</td>\n",
       "    </tr>\n",
       "    <tr>\n",
       "      <th>3</th>\n",
       "      <td>5</td>\n",
       "      <td>[web, email, mobile]</td>\n",
       "      <td>5</td>\n",
       "      <td>7</td>\n",
       "      <td>bogo</td>\n",
       "      <td>9b98b8c7a33c4b65b9aebfe6a799e6d9</td>\n",
       "    </tr>\n",
       "    <tr>\n",
       "      <th>4</th>\n",
       "      <td>5</td>\n",
       "      <td>[web, email]</td>\n",
       "      <td>20</td>\n",
       "      <td>10</td>\n",
       "      <td>discount</td>\n",
       "      <td>0b1e1539f2cc45b7b9fa7c272da2e1d7</td>\n",
       "    </tr>\n",
       "  </tbody>\n",
       "</table>\n",
       "</div>"
      ],
      "text/plain": [
       "   reward                      channels  difficulty  duration     offer_type  \\\n",
       "0      10       [email, mobile, social]          10         7           bogo   \n",
       "1      10  [web, email, mobile, social]          10         5           bogo   \n",
       "2       0          [web, email, mobile]           0         4  informational   \n",
       "3       5          [web, email, mobile]           5         7           bogo   \n",
       "4       5                  [web, email]          20        10       discount   \n",
       "\n",
       "                                 id  \n",
       "0  ae264e3637204a6fb9bb56bc8210ddfd  \n",
       "1  4d5c57ea9a6940dd891ad53e9dbe8da0  \n",
       "2  3f207df678b143eea3cee63160fa8bed  \n",
       "3  9b98b8c7a33c4b65b9aebfe6a799e6d9  \n",
       "4  0b1e1539f2cc45b7b9fa7c272da2e1d7  "
      ]
     },
     "execution_count": 5,
     "metadata": {},
     "output_type": "execute_result"
    }
   ],
   "source": [
    "## portfolio dataset\n",
    "portfolio.head()"
   ]
  },
  {
   "cell_type": "code",
   "execution_count": 6,
   "id": "bcd4821d",
   "metadata": {},
   "outputs": [
    {
     "name": "stdout",
     "output_type": "stream",
     "text": [
      "<class 'pandas.core.frame.DataFrame'>\n",
      "RangeIndex: 10 entries, 0 to 9\n",
      "Data columns (total 6 columns):\n",
      " #   Column      Non-Null Count  Dtype \n",
      "---  ------      --------------  ----- \n",
      " 0   reward      10 non-null     int64 \n",
      " 1   channels    10 non-null     object\n",
      " 2   difficulty  10 non-null     int64 \n",
      " 3   duration    10 non-null     int64 \n",
      " 4   offer_type  10 non-null     object\n",
      " 5   id          10 non-null     object\n",
      "dtypes: int64(3), object(3)\n",
      "memory usage: 608.0+ bytes\n"
     ]
    }
   ],
   "source": [
    "portfolio.info()"
   ]
  },
  {
   "cell_type": "code",
   "execution_count": 204,
   "id": "7ad816f9",
   "metadata": {},
   "outputs": [],
   "source": [
    "portfolio_clean = portfolio.copy()"
   ]
  },
  {
   "cell_type": "code",
   "execution_count": 205,
   "id": "4dfe1298",
   "metadata": {},
   "outputs": [],
   "source": [
    "portfolio_channels_df = pd.get_dummies(portfolio_clean.channels.apply(pd.Series).stack(),\n",
    "                             prefix=\"channel\").sum(level=0)"
   ]
  },
  {
   "cell_type": "code",
   "execution_count": 206,
   "id": "30604e80",
   "metadata": {},
   "outputs": [],
   "source": [
    "portfolio_clean.rename(columns = {'id':\"offer_id\"},inplace = True)"
   ]
  },
  {
   "cell_type": "code",
   "execution_count": 207,
   "id": "3b3f3c9d",
   "metadata": {},
   "outputs": [],
   "source": [
    "portfolio_offers_df = pd.get_dummies(portfolio_clean.offer_type)"
   ]
  },
  {
   "cell_type": "code",
   "execution_count": 208,
   "id": "d7f235d2",
   "metadata": {},
   "outputs": [],
   "source": [
    "portfolio_final = pd.concat([portfolio_clean,portfolio_channels_df,portfolio_offers_df],axis = 1)"
   ]
  },
  {
   "cell_type": "code",
   "execution_count": 210,
   "id": "c9165fad",
   "metadata": {},
   "outputs": [],
   "source": [
    "portfolio_final.drop('channels',axis = 1,inplace = True)"
   ]
  },
  {
   "cell_type": "code",
   "execution_count": 211,
   "id": "8277e064",
   "metadata": {},
   "outputs": [
    {
     "data": {
      "text/html": [
       "<div>\n",
       "<style scoped>\n",
       "    .dataframe tbody tr th:only-of-type {\n",
       "        vertical-align: middle;\n",
       "    }\n",
       "\n",
       "    .dataframe tbody tr th {\n",
       "        vertical-align: top;\n",
       "    }\n",
       "\n",
       "    .dataframe thead th {\n",
       "        text-align: right;\n",
       "    }\n",
       "</style>\n",
       "<table border=\"1\" class=\"dataframe\">\n",
       "  <thead>\n",
       "    <tr style=\"text-align: right;\">\n",
       "      <th></th>\n",
       "      <th>reward</th>\n",
       "      <th>difficulty</th>\n",
       "      <th>duration</th>\n",
       "      <th>offer_type</th>\n",
       "      <th>offer_id</th>\n",
       "      <th>channel_email</th>\n",
       "      <th>channel_mobile</th>\n",
       "      <th>channel_social</th>\n",
       "      <th>channel_web</th>\n",
       "      <th>bogo</th>\n",
       "      <th>discount</th>\n",
       "      <th>informational</th>\n",
       "    </tr>\n",
       "  </thead>\n",
       "  <tbody>\n",
       "    <tr>\n",
       "      <th>0</th>\n",
       "      <td>10</td>\n",
       "      <td>10</td>\n",
       "      <td>7</td>\n",
       "      <td>bogo</td>\n",
       "      <td>ae264e3637204a6fb9bb56bc8210ddfd</td>\n",
       "      <td>1</td>\n",
       "      <td>1</td>\n",
       "      <td>1</td>\n",
       "      <td>0</td>\n",
       "      <td>1</td>\n",
       "      <td>0</td>\n",
       "      <td>0</td>\n",
       "    </tr>\n",
       "    <tr>\n",
       "      <th>1</th>\n",
       "      <td>10</td>\n",
       "      <td>10</td>\n",
       "      <td>5</td>\n",
       "      <td>bogo</td>\n",
       "      <td>4d5c57ea9a6940dd891ad53e9dbe8da0</td>\n",
       "      <td>1</td>\n",
       "      <td>1</td>\n",
       "      <td>1</td>\n",
       "      <td>1</td>\n",
       "      <td>1</td>\n",
       "      <td>0</td>\n",
       "      <td>0</td>\n",
       "    </tr>\n",
       "    <tr>\n",
       "      <th>2</th>\n",
       "      <td>0</td>\n",
       "      <td>0</td>\n",
       "      <td>4</td>\n",
       "      <td>informational</td>\n",
       "      <td>3f207df678b143eea3cee63160fa8bed</td>\n",
       "      <td>1</td>\n",
       "      <td>1</td>\n",
       "      <td>0</td>\n",
       "      <td>1</td>\n",
       "      <td>0</td>\n",
       "      <td>0</td>\n",
       "      <td>1</td>\n",
       "    </tr>\n",
       "    <tr>\n",
       "      <th>3</th>\n",
       "      <td>5</td>\n",
       "      <td>5</td>\n",
       "      <td>7</td>\n",
       "      <td>bogo</td>\n",
       "      <td>9b98b8c7a33c4b65b9aebfe6a799e6d9</td>\n",
       "      <td>1</td>\n",
       "      <td>1</td>\n",
       "      <td>0</td>\n",
       "      <td>1</td>\n",
       "      <td>1</td>\n",
       "      <td>0</td>\n",
       "      <td>0</td>\n",
       "    </tr>\n",
       "    <tr>\n",
       "      <th>4</th>\n",
       "      <td>5</td>\n",
       "      <td>20</td>\n",
       "      <td>10</td>\n",
       "      <td>discount</td>\n",
       "      <td>0b1e1539f2cc45b7b9fa7c272da2e1d7</td>\n",
       "      <td>1</td>\n",
       "      <td>0</td>\n",
       "      <td>0</td>\n",
       "      <td>1</td>\n",
       "      <td>0</td>\n",
       "      <td>1</td>\n",
       "      <td>0</td>\n",
       "    </tr>\n",
       "  </tbody>\n",
       "</table>\n",
       "</div>"
      ],
      "text/plain": [
       "   reward  difficulty  duration     offer_type  \\\n",
       "0      10          10         7           bogo   \n",
       "1      10          10         5           bogo   \n",
       "2       0           0         4  informational   \n",
       "3       5           5         7           bogo   \n",
       "4       5          20        10       discount   \n",
       "\n",
       "                           offer_id  channel_email  channel_mobile  \\\n",
       "0  ae264e3637204a6fb9bb56bc8210ddfd              1               1   \n",
       "1  4d5c57ea9a6940dd891ad53e9dbe8da0              1               1   \n",
       "2  3f207df678b143eea3cee63160fa8bed              1               1   \n",
       "3  9b98b8c7a33c4b65b9aebfe6a799e6d9              1               1   \n",
       "4  0b1e1539f2cc45b7b9fa7c272da2e1d7              1               0   \n",
       "\n",
       "   channel_social  channel_web  bogo  discount  informational  \n",
       "0               1            0     1         0              0  \n",
       "1               1            1     1         0              0  \n",
       "2               0            1     0         0              1  \n",
       "3               0            1     1         0              0  \n",
       "4               0            1     0         1              0  "
      ]
     },
     "execution_count": 211,
     "metadata": {},
     "output_type": "execute_result"
    }
   ],
   "source": [
    "portfolio_final.head()"
   ]
  },
  {
   "cell_type": "code",
   "execution_count": 28,
   "id": "0aa625b9",
   "metadata": {},
   "outputs": [
    {
     "data": {
      "text/html": [
       "<div>\n",
       "<style scoped>\n",
       "    .dataframe tbody tr th:only-of-type {\n",
       "        vertical-align: middle;\n",
       "    }\n",
       "\n",
       "    .dataframe tbody tr th {\n",
       "        vertical-align: top;\n",
       "    }\n",
       "\n",
       "    .dataframe thead th {\n",
       "        text-align: right;\n",
       "    }\n",
       "</style>\n",
       "<table border=\"1\" class=\"dataframe\">\n",
       "  <thead>\n",
       "    <tr style=\"text-align: right;\">\n",
       "      <th></th>\n",
       "      <th>gender</th>\n",
       "      <th>age</th>\n",
       "      <th>id</th>\n",
       "      <th>became_member_on</th>\n",
       "      <th>income</th>\n",
       "    </tr>\n",
       "  </thead>\n",
       "  <tbody>\n",
       "    <tr>\n",
       "      <th>0</th>\n",
       "      <td>None</td>\n",
       "      <td>118</td>\n",
       "      <td>68be06ca386d4c31939f3a4f0e3dd783</td>\n",
       "      <td>20170212</td>\n",
       "      <td>NaN</td>\n",
       "    </tr>\n",
       "    <tr>\n",
       "      <th>1</th>\n",
       "      <td>F</td>\n",
       "      <td>55</td>\n",
       "      <td>0610b486422d4921ae7d2bf64640c50b</td>\n",
       "      <td>20170715</td>\n",
       "      <td>112000.0</td>\n",
       "    </tr>\n",
       "    <tr>\n",
       "      <th>2</th>\n",
       "      <td>None</td>\n",
       "      <td>118</td>\n",
       "      <td>38fe809add3b4fcf9315a9694bb96ff5</td>\n",
       "      <td>20180712</td>\n",
       "      <td>NaN</td>\n",
       "    </tr>\n",
       "    <tr>\n",
       "      <th>3</th>\n",
       "      <td>F</td>\n",
       "      <td>75</td>\n",
       "      <td>78afa995795e4d85b5d9ceeca43f5fef</td>\n",
       "      <td>20170509</td>\n",
       "      <td>100000.0</td>\n",
       "    </tr>\n",
       "    <tr>\n",
       "      <th>4</th>\n",
       "      <td>None</td>\n",
       "      <td>118</td>\n",
       "      <td>a03223e636434f42ac4c3df47e8bac43</td>\n",
       "      <td>20170804</td>\n",
       "      <td>NaN</td>\n",
       "    </tr>\n",
       "  </tbody>\n",
       "</table>\n",
       "</div>"
      ],
      "text/plain": [
       "  gender  age                                id  became_member_on    income\n",
       "0   None  118  68be06ca386d4c31939f3a4f0e3dd783          20170212       NaN\n",
       "1      F   55  0610b486422d4921ae7d2bf64640c50b          20170715  112000.0\n",
       "2   None  118  38fe809add3b4fcf9315a9694bb96ff5          20180712       NaN\n",
       "3      F   75  78afa995795e4d85b5d9ceeca43f5fef          20170509  100000.0\n",
       "4   None  118  a03223e636434f42ac4c3df47e8bac43          20170804       NaN"
      ]
     },
     "execution_count": 28,
     "metadata": {},
     "output_type": "execute_result"
    }
   ],
   "source": [
    "## profile dataset \n",
    "profile.head()"
   ]
  },
  {
   "cell_type": "code",
   "execution_count": 29,
   "id": "9c603a25",
   "metadata": {},
   "outputs": [
    {
     "name": "stdout",
     "output_type": "stream",
     "text": [
      "<class 'pandas.core.frame.DataFrame'>\n",
      "RangeIndex: 17000 entries, 0 to 16999\n",
      "Data columns (total 5 columns):\n",
      " #   Column            Non-Null Count  Dtype  \n",
      "---  ------            --------------  -----  \n",
      " 0   gender            14825 non-null  object \n",
      " 1   age               17000 non-null  int64  \n",
      " 2   id                17000 non-null  object \n",
      " 3   became_member_on  17000 non-null  int64  \n",
      " 4   income            14825 non-null  float64\n",
      "dtypes: float64(1), int64(2), object(2)\n",
      "memory usage: 664.2+ KB\n"
     ]
    }
   ],
   "source": [
    "profile.info()"
   ]
  },
  {
   "cell_type": "code",
   "execution_count": 31,
   "id": "c3e5a082",
   "metadata": {},
   "outputs": [
    {
     "data": {
      "text/html": [
       "<div>\n",
       "<style scoped>\n",
       "    .dataframe tbody tr th:only-of-type {\n",
       "        vertical-align: middle;\n",
       "    }\n",
       "\n",
       "    .dataframe tbody tr th {\n",
       "        vertical-align: top;\n",
       "    }\n",
       "\n",
       "    .dataframe thead th {\n",
       "        text-align: right;\n",
       "    }\n",
       "</style>\n",
       "<table border=\"1\" class=\"dataframe\">\n",
       "  <thead>\n",
       "    <tr style=\"text-align: right;\">\n",
       "      <th></th>\n",
       "      <th>gender</th>\n",
       "      <th>age</th>\n",
       "      <th>id</th>\n",
       "      <th>became_member_on</th>\n",
       "      <th>income</th>\n",
       "    </tr>\n",
       "  </thead>\n",
       "  <tbody>\n",
       "    <tr>\n",
       "      <th>0</th>\n",
       "      <td>None</td>\n",
       "      <td>118</td>\n",
       "      <td>68be06ca386d4c31939f3a4f0e3dd783</td>\n",
       "      <td>20170212</td>\n",
       "      <td>NaN</td>\n",
       "    </tr>\n",
       "    <tr>\n",
       "      <th>2</th>\n",
       "      <td>None</td>\n",
       "      <td>118</td>\n",
       "      <td>38fe809add3b4fcf9315a9694bb96ff5</td>\n",
       "      <td>20180712</td>\n",
       "      <td>NaN</td>\n",
       "    </tr>\n",
       "    <tr>\n",
       "      <th>4</th>\n",
       "      <td>None</td>\n",
       "      <td>118</td>\n",
       "      <td>a03223e636434f42ac4c3df47e8bac43</td>\n",
       "      <td>20170804</td>\n",
       "      <td>NaN</td>\n",
       "    </tr>\n",
       "    <tr>\n",
       "      <th>6</th>\n",
       "      <td>None</td>\n",
       "      <td>118</td>\n",
       "      <td>8ec6ce2a7e7949b1bf142def7d0e0586</td>\n",
       "      <td>20170925</td>\n",
       "      <td>NaN</td>\n",
       "    </tr>\n",
       "    <tr>\n",
       "      <th>7</th>\n",
       "      <td>None</td>\n",
       "      <td>118</td>\n",
       "      <td>68617ca6246f4fbc85e91a2a49552598</td>\n",
       "      <td>20171002</td>\n",
       "      <td>NaN</td>\n",
       "    </tr>\n",
       "    <tr>\n",
       "      <th>...</th>\n",
       "      <td>...</td>\n",
       "      <td>...</td>\n",
       "      <td>...</td>\n",
       "      <td>...</td>\n",
       "      <td>...</td>\n",
       "    </tr>\n",
       "    <tr>\n",
       "      <th>16980</th>\n",
       "      <td>None</td>\n",
       "      <td>118</td>\n",
       "      <td>5c686d09ca4d475a8f750f2ba07e0440</td>\n",
       "      <td>20160901</td>\n",
       "      <td>NaN</td>\n",
       "    </tr>\n",
       "    <tr>\n",
       "      <th>16982</th>\n",
       "      <td>None</td>\n",
       "      <td>118</td>\n",
       "      <td>d9ca82f550ac4ee58b6299cf1e5c824a</td>\n",
       "      <td>20160415</td>\n",
       "      <td>NaN</td>\n",
       "    </tr>\n",
       "    <tr>\n",
       "      <th>16989</th>\n",
       "      <td>None</td>\n",
       "      <td>118</td>\n",
       "      <td>ca45ee1883624304bac1e4c8a114f045</td>\n",
       "      <td>20180305</td>\n",
       "      <td>NaN</td>\n",
       "    </tr>\n",
       "    <tr>\n",
       "      <th>16991</th>\n",
       "      <td>None</td>\n",
       "      <td>118</td>\n",
       "      <td>a9a20fa8b5504360beb4e7c8712f8306</td>\n",
       "      <td>20160116</td>\n",
       "      <td>NaN</td>\n",
       "    </tr>\n",
       "    <tr>\n",
       "      <th>16994</th>\n",
       "      <td>None</td>\n",
       "      <td>118</td>\n",
       "      <td>c02b10e8752c4d8e9b73f918558531f7</td>\n",
       "      <td>20151211</td>\n",
       "      <td>NaN</td>\n",
       "    </tr>\n",
       "  </tbody>\n",
       "</table>\n",
       "<p>2175 rows × 5 columns</p>\n",
       "</div>"
      ],
      "text/plain": [
       "      gender  age                                id  became_member_on  income\n",
       "0       None  118  68be06ca386d4c31939f3a4f0e3dd783          20170212     NaN\n",
       "2       None  118  38fe809add3b4fcf9315a9694bb96ff5          20180712     NaN\n",
       "4       None  118  a03223e636434f42ac4c3df47e8bac43          20170804     NaN\n",
       "6       None  118  8ec6ce2a7e7949b1bf142def7d0e0586          20170925     NaN\n",
       "7       None  118  68617ca6246f4fbc85e91a2a49552598          20171002     NaN\n",
       "...      ...  ...                               ...               ...     ...\n",
       "16980   None  118  5c686d09ca4d475a8f750f2ba07e0440          20160901     NaN\n",
       "16982   None  118  d9ca82f550ac4ee58b6299cf1e5c824a          20160415     NaN\n",
       "16989   None  118  ca45ee1883624304bac1e4c8a114f045          20180305     NaN\n",
       "16991   None  118  a9a20fa8b5504360beb4e7c8712f8306          20160116     NaN\n",
       "16994   None  118  c02b10e8752c4d8e9b73f918558531f7          20151211     NaN\n",
       "\n",
       "[2175 rows x 5 columns]"
      ]
     },
     "execution_count": 31,
     "metadata": {},
     "output_type": "execute_result"
    }
   ],
   "source": [
    "profile[profile.age == 118]"
   ]
  },
  {
   "cell_type": "code",
   "execution_count": 358,
   "id": "49448d04",
   "metadata": {},
   "outputs": [],
   "source": [
    "profile_clean = profile.copy()"
   ]
  },
  {
   "cell_type": "code",
   "execution_count": 359,
   "id": "60dc8d08",
   "metadata": {},
   "outputs": [],
   "source": [
    "profile_clean['valid'] = (profile_clean.age != 118).astype(int)"
   ]
  },
  {
   "cell_type": "code",
   "execution_count": 360,
   "id": "f4ea2fd7",
   "metadata": {},
   "outputs": [
    {
     "name": "stdout",
     "output_type": "stream",
     "text": [
      "<class 'pandas.core.frame.DataFrame'>\n",
      "RangeIndex: 17000 entries, 0 to 16999\n",
      "Data columns (total 6 columns):\n",
      " #   Column            Non-Null Count  Dtype  \n",
      "---  ------            --------------  -----  \n",
      " 0   gender            14825 non-null  object \n",
      " 1   age               17000 non-null  int64  \n",
      " 2   id                17000 non-null  object \n",
      " 3   became_member_on  17000 non-null  int64  \n",
      " 4   income            14825 non-null  float64\n",
      " 5   valid             17000 non-null  int32  \n",
      "dtypes: float64(1), int32(1), int64(2), object(2)\n",
      "memory usage: 730.6+ KB\n"
     ]
    }
   ],
   "source": [
    "profile_clean.info()"
   ]
  },
  {
   "cell_type": "code",
   "execution_count": 361,
   "id": "27be53ba",
   "metadata": {},
   "outputs": [],
   "source": [
    "date = lambda x: pd.to_datetime(str(x) , format = '%Y%m%d')"
   ]
  },
  {
   "cell_type": "code",
   "execution_count": 362,
   "id": "d371f4c5",
   "metadata": {},
   "outputs": [],
   "source": [
    "profile_clean.became_member_on = profile_clean.became_member_on.apply(date)"
   ]
  },
  {
   "cell_type": "code",
   "execution_count": 363,
   "id": "6546bb13",
   "metadata": {},
   "outputs": [],
   "source": [
    "profile_clean.rename(columns = {'id': 'customer_id'},inplace = True)"
   ]
  },
  {
   "cell_type": "code",
   "execution_count": 364,
   "id": "aaa50afa",
   "metadata": {},
   "outputs": [
    {
     "data": {
      "text/html": [
       "<div>\n",
       "<style scoped>\n",
       "    .dataframe tbody tr th:only-of-type {\n",
       "        vertical-align: middle;\n",
       "    }\n",
       "\n",
       "    .dataframe tbody tr th {\n",
       "        vertical-align: top;\n",
       "    }\n",
       "\n",
       "    .dataframe thead th {\n",
       "        text-align: right;\n",
       "    }\n",
       "</style>\n",
       "<table border=\"1\" class=\"dataframe\">\n",
       "  <thead>\n",
       "    <tr style=\"text-align: right;\">\n",
       "      <th></th>\n",
       "      <th>gender</th>\n",
       "      <th>age</th>\n",
       "      <th>customer_id</th>\n",
       "      <th>became_member_on</th>\n",
       "      <th>income</th>\n",
       "      <th>valid</th>\n",
       "    </tr>\n",
       "  </thead>\n",
       "  <tbody>\n",
       "    <tr>\n",
       "      <th>0</th>\n",
       "      <td>None</td>\n",
       "      <td>118</td>\n",
       "      <td>68be06ca386d4c31939f3a4f0e3dd783</td>\n",
       "      <td>2017-02-12</td>\n",
       "      <td>NaN</td>\n",
       "      <td>0</td>\n",
       "    </tr>\n",
       "    <tr>\n",
       "      <th>1</th>\n",
       "      <td>F</td>\n",
       "      <td>55</td>\n",
       "      <td>0610b486422d4921ae7d2bf64640c50b</td>\n",
       "      <td>2017-07-15</td>\n",
       "      <td>112000.0</td>\n",
       "      <td>1</td>\n",
       "    </tr>\n",
       "    <tr>\n",
       "      <th>2</th>\n",
       "      <td>None</td>\n",
       "      <td>118</td>\n",
       "      <td>38fe809add3b4fcf9315a9694bb96ff5</td>\n",
       "      <td>2018-07-12</td>\n",
       "      <td>NaN</td>\n",
       "      <td>0</td>\n",
       "    </tr>\n",
       "    <tr>\n",
       "      <th>3</th>\n",
       "      <td>F</td>\n",
       "      <td>75</td>\n",
       "      <td>78afa995795e4d85b5d9ceeca43f5fef</td>\n",
       "      <td>2017-05-09</td>\n",
       "      <td>100000.0</td>\n",
       "      <td>1</td>\n",
       "    </tr>\n",
       "    <tr>\n",
       "      <th>4</th>\n",
       "      <td>None</td>\n",
       "      <td>118</td>\n",
       "      <td>a03223e636434f42ac4c3df47e8bac43</td>\n",
       "      <td>2017-08-04</td>\n",
       "      <td>NaN</td>\n",
       "      <td>0</td>\n",
       "    </tr>\n",
       "  </tbody>\n",
       "</table>\n",
       "</div>"
      ],
      "text/plain": [
       "  gender  age                       customer_id became_member_on    income  \\\n",
       "0   None  118  68be06ca386d4c31939f3a4f0e3dd783       2017-02-12       NaN   \n",
       "1      F   55  0610b486422d4921ae7d2bf64640c50b       2017-07-15  112000.0   \n",
       "2   None  118  38fe809add3b4fcf9315a9694bb96ff5       2018-07-12       NaN   \n",
       "3      F   75  78afa995795e4d85b5d9ceeca43f5fef       2017-05-09  100000.0   \n",
       "4   None  118  a03223e636434f42ac4c3df47e8bac43       2017-08-04       NaN   \n",
       "\n",
       "   valid  \n",
       "0      0  \n",
       "1      1  \n",
       "2      0  \n",
       "3      1  \n",
       "4      0  "
      ]
     },
     "execution_count": 364,
     "metadata": {},
     "output_type": "execute_result"
    }
   ],
   "source": [
    "profile_clean.head()"
   ]
  },
  {
   "cell_type": "code",
   "execution_count": 365,
   "id": "27ce4c91",
   "metadata": {},
   "outputs": [],
   "source": [
    "gender_df = pd.get_dummies(profile_clean['gender'],prefix = 'gender')"
   ]
  },
  {
   "cell_type": "code",
   "execution_count": 366,
   "id": "3e097fa0",
   "metadata": {},
   "outputs": [],
   "source": [
    "profile_final = pd.concat([profile_clean,gender_df],axis = 1,sort=False)"
   ]
  },
  {
   "cell_type": "code",
   "execution_count": 367,
   "id": "36d6b11d",
   "metadata": {},
   "outputs": [],
   "source": [
    "#profile_final.drop('gender',axis = 1,inplace=True)"
   ]
  },
  {
   "cell_type": "code",
   "execution_count": 368,
   "id": "93144358",
   "metadata": {},
   "outputs": [],
   "source": [
    "profile_final.reset_index(drop = True,inplace =True)"
   ]
  },
  {
   "cell_type": "code",
   "execution_count": 369,
   "id": "69d1f55f",
   "metadata": {},
   "outputs": [
    {
     "data": {
      "text/html": [
       "<div>\n",
       "<style scoped>\n",
       "    .dataframe tbody tr th:only-of-type {\n",
       "        vertical-align: middle;\n",
       "    }\n",
       "\n",
       "    .dataframe tbody tr th {\n",
       "        vertical-align: top;\n",
       "    }\n",
       "\n",
       "    .dataframe thead th {\n",
       "        text-align: right;\n",
       "    }\n",
       "</style>\n",
       "<table border=\"1\" class=\"dataframe\">\n",
       "  <thead>\n",
       "    <tr style=\"text-align: right;\">\n",
       "      <th></th>\n",
       "      <th>gender</th>\n",
       "      <th>age</th>\n",
       "      <th>customer_id</th>\n",
       "      <th>became_member_on</th>\n",
       "      <th>income</th>\n",
       "      <th>valid</th>\n",
       "      <th>gender_F</th>\n",
       "      <th>gender_M</th>\n",
       "      <th>gender_O</th>\n",
       "    </tr>\n",
       "  </thead>\n",
       "  <tbody>\n",
       "    <tr>\n",
       "      <th>0</th>\n",
       "      <td>None</td>\n",
       "      <td>118</td>\n",
       "      <td>68be06ca386d4c31939f3a4f0e3dd783</td>\n",
       "      <td>2017-02-12</td>\n",
       "      <td>NaN</td>\n",
       "      <td>0</td>\n",
       "      <td>0</td>\n",
       "      <td>0</td>\n",
       "      <td>0</td>\n",
       "    </tr>\n",
       "    <tr>\n",
       "      <th>1</th>\n",
       "      <td>F</td>\n",
       "      <td>55</td>\n",
       "      <td>0610b486422d4921ae7d2bf64640c50b</td>\n",
       "      <td>2017-07-15</td>\n",
       "      <td>112000.0</td>\n",
       "      <td>1</td>\n",
       "      <td>1</td>\n",
       "      <td>0</td>\n",
       "      <td>0</td>\n",
       "    </tr>\n",
       "    <tr>\n",
       "      <th>2</th>\n",
       "      <td>None</td>\n",
       "      <td>118</td>\n",
       "      <td>38fe809add3b4fcf9315a9694bb96ff5</td>\n",
       "      <td>2018-07-12</td>\n",
       "      <td>NaN</td>\n",
       "      <td>0</td>\n",
       "      <td>0</td>\n",
       "      <td>0</td>\n",
       "      <td>0</td>\n",
       "    </tr>\n",
       "    <tr>\n",
       "      <th>3</th>\n",
       "      <td>F</td>\n",
       "      <td>75</td>\n",
       "      <td>78afa995795e4d85b5d9ceeca43f5fef</td>\n",
       "      <td>2017-05-09</td>\n",
       "      <td>100000.0</td>\n",
       "      <td>1</td>\n",
       "      <td>1</td>\n",
       "      <td>0</td>\n",
       "      <td>0</td>\n",
       "    </tr>\n",
       "    <tr>\n",
       "      <th>4</th>\n",
       "      <td>None</td>\n",
       "      <td>118</td>\n",
       "      <td>a03223e636434f42ac4c3df47e8bac43</td>\n",
       "      <td>2017-08-04</td>\n",
       "      <td>NaN</td>\n",
       "      <td>0</td>\n",
       "      <td>0</td>\n",
       "      <td>0</td>\n",
       "      <td>0</td>\n",
       "    </tr>\n",
       "  </tbody>\n",
       "</table>\n",
       "</div>"
      ],
      "text/plain": [
       "  gender  age                       customer_id became_member_on    income  \\\n",
       "0   None  118  68be06ca386d4c31939f3a4f0e3dd783       2017-02-12       NaN   \n",
       "1      F   55  0610b486422d4921ae7d2bf64640c50b       2017-07-15  112000.0   \n",
       "2   None  118  38fe809add3b4fcf9315a9694bb96ff5       2018-07-12       NaN   \n",
       "3      F   75  78afa995795e4d85b5d9ceeca43f5fef       2017-05-09  100000.0   \n",
       "4   None  118  a03223e636434f42ac4c3df47e8bac43       2017-08-04       NaN   \n",
       "\n",
       "   valid  gender_F  gender_M  gender_O  \n",
       "0      0         0         0         0  \n",
       "1      1         1         0         0  \n",
       "2      0         0         0         0  \n",
       "3      1         1         0         0  \n",
       "4      0         0         0         0  "
      ]
     },
     "execution_count": 369,
     "metadata": {},
     "output_type": "execute_result"
    }
   ],
   "source": [
    "profile_final.head()"
   ]
  },
  {
   "cell_type": "code",
   "execution_count": 60,
   "id": "417995f5",
   "metadata": {
    "scrolled": false
   },
   "outputs": [
    {
     "data": {
      "text/html": [
       "<div>\n",
       "<style scoped>\n",
       "    .dataframe tbody tr th:only-of-type {\n",
       "        vertical-align: middle;\n",
       "    }\n",
       "\n",
       "    .dataframe tbody tr th {\n",
       "        vertical-align: top;\n",
       "    }\n",
       "\n",
       "    .dataframe thead th {\n",
       "        text-align: right;\n",
       "    }\n",
       "</style>\n",
       "<table border=\"1\" class=\"dataframe\">\n",
       "  <thead>\n",
       "    <tr style=\"text-align: right;\">\n",
       "      <th></th>\n",
       "      <th>person</th>\n",
       "      <th>event</th>\n",
       "      <th>value</th>\n",
       "      <th>time</th>\n",
       "    </tr>\n",
       "  </thead>\n",
       "  <tbody>\n",
       "    <tr>\n",
       "      <th>306529</th>\n",
       "      <td>b3a1272bc9904337b331bf348c3e8c17</td>\n",
       "      <td>transaction</td>\n",
       "      <td>{'amount': 1.5899999999999999}</td>\n",
       "      <td>714</td>\n",
       "    </tr>\n",
       "    <tr>\n",
       "      <th>306530</th>\n",
       "      <td>68213b08d99a4ae1b0dcb72aebd9aa35</td>\n",
       "      <td>transaction</td>\n",
       "      <td>{'amount': 9.53}</td>\n",
       "      <td>714</td>\n",
       "    </tr>\n",
       "    <tr>\n",
       "      <th>306531</th>\n",
       "      <td>a00058cf10334a308c68e7631c529907</td>\n",
       "      <td>transaction</td>\n",
       "      <td>{'amount': 3.61}</td>\n",
       "      <td>714</td>\n",
       "    </tr>\n",
       "    <tr>\n",
       "      <th>306532</th>\n",
       "      <td>76ddbd6576844afe811f1a3c0fbb5bec</td>\n",
       "      <td>transaction</td>\n",
       "      <td>{'amount': 3.5300000000000002}</td>\n",
       "      <td>714</td>\n",
       "    </tr>\n",
       "    <tr>\n",
       "      <th>306533</th>\n",
       "      <td>c02b10e8752c4d8e9b73f918558531f7</td>\n",
       "      <td>transaction</td>\n",
       "      <td>{'amount': 4.05}</td>\n",
       "      <td>714</td>\n",
       "    </tr>\n",
       "  </tbody>\n",
       "</table>\n",
       "</div>"
      ],
      "text/plain": [
       "                                  person        event  \\\n",
       "306529  b3a1272bc9904337b331bf348c3e8c17  transaction   \n",
       "306530  68213b08d99a4ae1b0dcb72aebd9aa35  transaction   \n",
       "306531  a00058cf10334a308c68e7631c529907  transaction   \n",
       "306532  76ddbd6576844afe811f1a3c0fbb5bec  transaction   \n",
       "306533  c02b10e8752c4d8e9b73f918558531f7  transaction   \n",
       "\n",
       "                                 value  time  \n",
       "306529  {'amount': 1.5899999999999999}   714  \n",
       "306530                {'amount': 9.53}   714  \n",
       "306531                {'amount': 3.61}   714  \n",
       "306532  {'amount': 3.5300000000000002}   714  \n",
       "306533                {'amount': 4.05}   714  "
      ]
     },
     "execution_count": 60,
     "metadata": {},
     "output_type": "execute_result"
    }
   ],
   "source": [
    "## transcript dataset \n",
    "transcript.tail()"
   ]
  },
  {
   "cell_type": "code",
   "execution_count": 61,
   "id": "c66f5427",
   "metadata": {},
   "outputs": [
    {
     "data": {
      "text/html": [
       "<div>\n",
       "<style scoped>\n",
       "    .dataframe tbody tr th:only-of-type {\n",
       "        vertical-align: middle;\n",
       "    }\n",
       "\n",
       "    .dataframe tbody tr th {\n",
       "        vertical-align: top;\n",
       "    }\n",
       "\n",
       "    .dataframe thead th {\n",
       "        text-align: right;\n",
       "    }\n",
       "</style>\n",
       "<table border=\"1\" class=\"dataframe\">\n",
       "  <thead>\n",
       "    <tr style=\"text-align: right;\">\n",
       "      <th></th>\n",
       "      <th>person</th>\n",
       "      <th>event</th>\n",
       "      <th>value</th>\n",
       "      <th>time</th>\n",
       "    </tr>\n",
       "  </thead>\n",
       "  <tbody>\n",
       "    <tr>\n",
       "      <th>0</th>\n",
       "      <td>78afa995795e4d85b5d9ceeca43f5fef</td>\n",
       "      <td>offer received</td>\n",
       "      <td>{'offer id': '9b98b8c7a33c4b65b9aebfe6a799e6d9'}</td>\n",
       "      <td>0</td>\n",
       "    </tr>\n",
       "    <tr>\n",
       "      <th>1</th>\n",
       "      <td>a03223e636434f42ac4c3df47e8bac43</td>\n",
       "      <td>offer received</td>\n",
       "      <td>{'offer id': '0b1e1539f2cc45b7b9fa7c272da2e1d7'}</td>\n",
       "      <td>0</td>\n",
       "    </tr>\n",
       "    <tr>\n",
       "      <th>2</th>\n",
       "      <td>e2127556f4f64592b11af22de27a7932</td>\n",
       "      <td>offer received</td>\n",
       "      <td>{'offer id': '2906b810c7d4411798c6938adc9daaa5'}</td>\n",
       "      <td>0</td>\n",
       "    </tr>\n",
       "    <tr>\n",
       "      <th>3</th>\n",
       "      <td>8ec6ce2a7e7949b1bf142def7d0e0586</td>\n",
       "      <td>offer received</td>\n",
       "      <td>{'offer id': 'fafdcd668e3743c1bb461111dcafc2a4'}</td>\n",
       "      <td>0</td>\n",
       "    </tr>\n",
       "    <tr>\n",
       "      <th>4</th>\n",
       "      <td>68617ca6246f4fbc85e91a2a49552598</td>\n",
       "      <td>offer received</td>\n",
       "      <td>{'offer id': '4d5c57ea9a6940dd891ad53e9dbe8da0'}</td>\n",
       "      <td>0</td>\n",
       "    </tr>\n",
       "  </tbody>\n",
       "</table>\n",
       "</div>"
      ],
      "text/plain": [
       "                             person           event  \\\n",
       "0  78afa995795e4d85b5d9ceeca43f5fef  offer received   \n",
       "1  a03223e636434f42ac4c3df47e8bac43  offer received   \n",
       "2  e2127556f4f64592b11af22de27a7932  offer received   \n",
       "3  8ec6ce2a7e7949b1bf142def7d0e0586  offer received   \n",
       "4  68617ca6246f4fbc85e91a2a49552598  offer received   \n",
       "\n",
       "                                              value  time  \n",
       "0  {'offer id': '9b98b8c7a33c4b65b9aebfe6a799e6d9'}     0  \n",
       "1  {'offer id': '0b1e1539f2cc45b7b9fa7c272da2e1d7'}     0  \n",
       "2  {'offer id': '2906b810c7d4411798c6938adc9daaa5'}     0  \n",
       "3  {'offer id': 'fafdcd668e3743c1bb461111dcafc2a4'}     0  \n",
       "4  {'offer id': '4d5c57ea9a6940dd891ad53e9dbe8da0'}     0  "
      ]
     },
     "execution_count": 61,
     "metadata": {},
     "output_type": "execute_result"
    }
   ],
   "source": [
    "transcript.head()"
   ]
  },
  {
   "cell_type": "code",
   "execution_count": 254,
   "id": "3fcff1bd",
   "metadata": {},
   "outputs": [],
   "source": [
    "transcript_offer_id = pd.DataFrame(transcript['value'].values.tolist(), index=transcript.index)"
   ]
  },
  {
   "cell_type": "code",
   "execution_count": 255,
   "id": "33d4d237",
   "metadata": {},
   "outputs": [
    {
     "data": {
      "text/plain": [
       "172532"
      ]
     },
     "execution_count": 255,
     "metadata": {},
     "output_type": "execute_result"
    }
   ],
   "source": [
    "transcript_offer_id['offer id'].isnull().sum()"
   ]
  },
  {
   "cell_type": "code",
   "execution_count": 256,
   "id": "2dbb36db",
   "metadata": {
    "scrolled": true
   },
   "outputs": [
    {
     "data": {
      "text/plain": [
       "0"
      ]
     },
     "execution_count": 256,
     "metadata": {},
     "output_type": "execute_result"
    }
   ],
   "source": [
    "transcript['value'].isnull().sum()"
   ]
  },
  {
   "cell_type": "code",
   "execution_count": 257,
   "id": "b0f43806",
   "metadata": {},
   "outputs": [],
   "source": [
    "transcript_offer_id.drop(['offer_id',\"reward\"],axis = 1 , inplace = True)"
   ]
  },
  {
   "cell_type": "code",
   "execution_count": 258,
   "id": "be5f2b07",
   "metadata": {},
   "outputs": [],
   "source": [
    "transcript.rename(columns = {'person':'customer_id'},inplace=True)"
   ]
  },
  {
   "cell_type": "code",
   "execution_count": 286,
   "id": "956af61d",
   "metadata": {},
   "outputs": [],
   "source": [
    "transcript_event_df = pd.get_dummies(transcript['event'])"
   ]
  },
  {
   "cell_type": "code",
   "execution_count": 287,
   "id": "cef044fe",
   "metadata": {},
   "outputs": [
    {
     "data": {
      "text/html": [
       "<div>\n",
       "<style scoped>\n",
       "    .dataframe tbody tr th:only-of-type {\n",
       "        vertical-align: middle;\n",
       "    }\n",
       "\n",
       "    .dataframe tbody tr th {\n",
       "        vertical-align: top;\n",
       "    }\n",
       "\n",
       "    .dataframe thead th {\n",
       "        text-align: right;\n",
       "    }\n",
       "</style>\n",
       "<table border=\"1\" class=\"dataframe\">\n",
       "  <thead>\n",
       "    <tr style=\"text-align: right;\">\n",
       "      <th></th>\n",
       "      <th>offer completed</th>\n",
       "      <th>offer received</th>\n",
       "      <th>offer viewed</th>\n",
       "      <th>transaction</th>\n",
       "    </tr>\n",
       "  </thead>\n",
       "  <tbody>\n",
       "    <tr>\n",
       "      <th>0</th>\n",
       "      <td>0</td>\n",
       "      <td>1</td>\n",
       "      <td>0</td>\n",
       "      <td>0</td>\n",
       "    </tr>\n",
       "    <tr>\n",
       "      <th>1</th>\n",
       "      <td>0</td>\n",
       "      <td>1</td>\n",
       "      <td>0</td>\n",
       "      <td>0</td>\n",
       "    </tr>\n",
       "    <tr>\n",
       "      <th>2</th>\n",
       "      <td>0</td>\n",
       "      <td>1</td>\n",
       "      <td>0</td>\n",
       "      <td>0</td>\n",
       "    </tr>\n",
       "    <tr>\n",
       "      <th>3</th>\n",
       "      <td>0</td>\n",
       "      <td>1</td>\n",
       "      <td>0</td>\n",
       "      <td>0</td>\n",
       "    </tr>\n",
       "    <tr>\n",
       "      <th>4</th>\n",
       "      <td>0</td>\n",
       "      <td>1</td>\n",
       "      <td>0</td>\n",
       "      <td>0</td>\n",
       "    </tr>\n",
       "    <tr>\n",
       "      <th>...</th>\n",
       "      <td>...</td>\n",
       "      <td>...</td>\n",
       "      <td>...</td>\n",
       "      <td>...</td>\n",
       "    </tr>\n",
       "    <tr>\n",
       "      <th>306529</th>\n",
       "      <td>0</td>\n",
       "      <td>0</td>\n",
       "      <td>0</td>\n",
       "      <td>1</td>\n",
       "    </tr>\n",
       "    <tr>\n",
       "      <th>306530</th>\n",
       "      <td>0</td>\n",
       "      <td>0</td>\n",
       "      <td>0</td>\n",
       "      <td>1</td>\n",
       "    </tr>\n",
       "    <tr>\n",
       "      <th>306531</th>\n",
       "      <td>0</td>\n",
       "      <td>0</td>\n",
       "      <td>0</td>\n",
       "      <td>1</td>\n",
       "    </tr>\n",
       "    <tr>\n",
       "      <th>306532</th>\n",
       "      <td>0</td>\n",
       "      <td>0</td>\n",
       "      <td>0</td>\n",
       "      <td>1</td>\n",
       "    </tr>\n",
       "    <tr>\n",
       "      <th>306533</th>\n",
       "      <td>0</td>\n",
       "      <td>0</td>\n",
       "      <td>0</td>\n",
       "      <td>1</td>\n",
       "    </tr>\n",
       "  </tbody>\n",
       "</table>\n",
       "<p>306534 rows × 4 columns</p>\n",
       "</div>"
      ],
      "text/plain": [
       "        offer completed  offer received  offer viewed  transaction\n",
       "0                     0               1             0            0\n",
       "1                     0               1             0            0\n",
       "2                     0               1             0            0\n",
       "3                     0               1             0            0\n",
       "4                     0               1             0            0\n",
       "...                 ...             ...           ...          ...\n",
       "306529                0               0             0            1\n",
       "306530                0               0             0            1\n",
       "306531                0               0             0            1\n",
       "306532                0               0             0            1\n",
       "306533                0               0             0            1\n",
       "\n",
       "[306534 rows x 4 columns]"
      ]
     },
     "execution_count": 287,
     "metadata": {},
     "output_type": "execute_result"
    }
   ],
   "source": [
    "transcript_event_df"
   ]
  },
  {
   "cell_type": "code",
   "execution_count": 261,
   "id": "9400f9f5",
   "metadata": {},
   "outputs": [],
   "source": [
    "transcript_final = pd.concat([transcript,transcript_offer_id,transcript_event_df],axis = 1)"
   ]
  },
  {
   "cell_type": "code",
   "execution_count": 262,
   "id": "13069080",
   "metadata": {},
   "outputs": [],
   "source": [
    "transcript_final.drop(\"value\",axis = 1, inplace=True)"
   ]
  },
  {
   "cell_type": "code",
   "execution_count": 263,
   "id": "bb61d8cb",
   "metadata": {},
   "outputs": [],
   "source": [
    "transcript_final.rename(columns = {'offer id':'offer_id'},inplace=True)"
   ]
  },
  {
   "cell_type": "code",
   "execution_count": 264,
   "id": "692202d6",
   "metadata": {
    "scrolled": true
   },
   "outputs": [
    {
     "data": {
      "text/html": [
       "<div>\n",
       "<style scoped>\n",
       "    .dataframe tbody tr th:only-of-type {\n",
       "        vertical-align: middle;\n",
       "    }\n",
       "\n",
       "    .dataframe tbody tr th {\n",
       "        vertical-align: top;\n",
       "    }\n",
       "\n",
       "    .dataframe thead th {\n",
       "        text-align: right;\n",
       "    }\n",
       "</style>\n",
       "<table border=\"1\" class=\"dataframe\">\n",
       "  <thead>\n",
       "    <tr style=\"text-align: right;\">\n",
       "      <th></th>\n",
       "      <th>customer_id</th>\n",
       "      <th>event</th>\n",
       "      <th>time</th>\n",
       "      <th>offer_id</th>\n",
       "      <th>amount</th>\n",
       "      <th>offer completed</th>\n",
       "      <th>offer received</th>\n",
       "      <th>offer viewed</th>\n",
       "      <th>transaction</th>\n",
       "    </tr>\n",
       "  </thead>\n",
       "  <tbody>\n",
       "    <tr>\n",
       "      <th>0</th>\n",
       "      <td>78afa995795e4d85b5d9ceeca43f5fef</td>\n",
       "      <td>offer received</td>\n",
       "      <td>0</td>\n",
       "      <td>9b98b8c7a33c4b65b9aebfe6a799e6d9</td>\n",
       "      <td>NaN</td>\n",
       "      <td>0</td>\n",
       "      <td>1</td>\n",
       "      <td>0</td>\n",
       "      <td>0</td>\n",
       "    </tr>\n",
       "    <tr>\n",
       "      <th>1</th>\n",
       "      <td>a03223e636434f42ac4c3df47e8bac43</td>\n",
       "      <td>offer received</td>\n",
       "      <td>0</td>\n",
       "      <td>0b1e1539f2cc45b7b9fa7c272da2e1d7</td>\n",
       "      <td>NaN</td>\n",
       "      <td>0</td>\n",
       "      <td>1</td>\n",
       "      <td>0</td>\n",
       "      <td>0</td>\n",
       "    </tr>\n",
       "    <tr>\n",
       "      <th>2</th>\n",
       "      <td>e2127556f4f64592b11af22de27a7932</td>\n",
       "      <td>offer received</td>\n",
       "      <td>0</td>\n",
       "      <td>2906b810c7d4411798c6938adc9daaa5</td>\n",
       "      <td>NaN</td>\n",
       "      <td>0</td>\n",
       "      <td>1</td>\n",
       "      <td>0</td>\n",
       "      <td>0</td>\n",
       "    </tr>\n",
       "    <tr>\n",
       "      <th>3</th>\n",
       "      <td>8ec6ce2a7e7949b1bf142def7d0e0586</td>\n",
       "      <td>offer received</td>\n",
       "      <td>0</td>\n",
       "      <td>fafdcd668e3743c1bb461111dcafc2a4</td>\n",
       "      <td>NaN</td>\n",
       "      <td>0</td>\n",
       "      <td>1</td>\n",
       "      <td>0</td>\n",
       "      <td>0</td>\n",
       "    </tr>\n",
       "    <tr>\n",
       "      <th>4</th>\n",
       "      <td>68617ca6246f4fbc85e91a2a49552598</td>\n",
       "      <td>offer received</td>\n",
       "      <td>0</td>\n",
       "      <td>4d5c57ea9a6940dd891ad53e9dbe8da0</td>\n",
       "      <td>NaN</td>\n",
       "      <td>0</td>\n",
       "      <td>1</td>\n",
       "      <td>0</td>\n",
       "      <td>0</td>\n",
       "    </tr>\n",
       "  </tbody>\n",
       "</table>\n",
       "</div>"
      ],
      "text/plain": [
       "                        customer_id           event  time  \\\n",
       "0  78afa995795e4d85b5d9ceeca43f5fef  offer received     0   \n",
       "1  a03223e636434f42ac4c3df47e8bac43  offer received     0   \n",
       "2  e2127556f4f64592b11af22de27a7932  offer received     0   \n",
       "3  8ec6ce2a7e7949b1bf142def7d0e0586  offer received     0   \n",
       "4  68617ca6246f4fbc85e91a2a49552598  offer received     0   \n",
       "\n",
       "                           offer_id  amount  offer completed  offer received  \\\n",
       "0  9b98b8c7a33c4b65b9aebfe6a799e6d9     NaN                0               1   \n",
       "1  0b1e1539f2cc45b7b9fa7c272da2e1d7     NaN                0               1   \n",
       "2  2906b810c7d4411798c6938adc9daaa5     NaN                0               1   \n",
       "3  fafdcd668e3743c1bb461111dcafc2a4     NaN                0               1   \n",
       "4  4d5c57ea9a6940dd891ad53e9dbe8da0     NaN                0               1   \n",
       "\n",
       "   offer viewed  transaction  \n",
       "0             0            0  \n",
       "1             0            0  \n",
       "2             0            0  \n",
       "3             0            0  \n",
       "4             0            0  "
      ]
     },
     "execution_count": 264,
     "metadata": {},
     "output_type": "execute_result"
    }
   ],
   "source": [
    "transcript_final.head()"
   ]
  },
  {
   "cell_type": "code",
   "execution_count": 265,
   "id": "7af25317",
   "metadata": {},
   "outputs": [
    {
     "data": {
      "text/html": [
       "<div>\n",
       "<style scoped>\n",
       "    .dataframe tbody tr th:only-of-type {\n",
       "        vertical-align: middle;\n",
       "    }\n",
       "\n",
       "    .dataframe tbody tr th {\n",
       "        vertical-align: top;\n",
       "    }\n",
       "\n",
       "    .dataframe thead th {\n",
       "        text-align: right;\n",
       "    }\n",
       "</style>\n",
       "<table border=\"1\" class=\"dataframe\">\n",
       "  <thead>\n",
       "    <tr style=\"text-align: right;\">\n",
       "      <th></th>\n",
       "      <th>customer_id</th>\n",
       "      <th>event</th>\n",
       "      <th>time</th>\n",
       "      <th>offer_id</th>\n",
       "      <th>amount</th>\n",
       "      <th>offer completed</th>\n",
       "      <th>offer received</th>\n",
       "      <th>offer viewed</th>\n",
       "      <th>transaction</th>\n",
       "    </tr>\n",
       "  </thead>\n",
       "  <tbody>\n",
       "    <tr>\n",
       "      <th>0</th>\n",
       "      <td>78afa995795e4d85b5d9ceeca43f5fef</td>\n",
       "      <td>offer received</td>\n",
       "      <td>0</td>\n",
       "      <td>9b98b8c7a33c4b65b9aebfe6a799e6d9</td>\n",
       "      <td>NaN</td>\n",
       "      <td>0</td>\n",
       "      <td>1</td>\n",
       "      <td>0</td>\n",
       "      <td>0</td>\n",
       "    </tr>\n",
       "    <tr>\n",
       "      <th>1</th>\n",
       "      <td>a03223e636434f42ac4c3df47e8bac43</td>\n",
       "      <td>offer received</td>\n",
       "      <td>0</td>\n",
       "      <td>0b1e1539f2cc45b7b9fa7c272da2e1d7</td>\n",
       "      <td>NaN</td>\n",
       "      <td>0</td>\n",
       "      <td>1</td>\n",
       "      <td>0</td>\n",
       "      <td>0</td>\n",
       "    </tr>\n",
       "    <tr>\n",
       "      <th>2</th>\n",
       "      <td>e2127556f4f64592b11af22de27a7932</td>\n",
       "      <td>offer received</td>\n",
       "      <td>0</td>\n",
       "      <td>2906b810c7d4411798c6938adc9daaa5</td>\n",
       "      <td>NaN</td>\n",
       "      <td>0</td>\n",
       "      <td>1</td>\n",
       "      <td>0</td>\n",
       "      <td>0</td>\n",
       "    </tr>\n",
       "    <tr>\n",
       "      <th>3</th>\n",
       "      <td>8ec6ce2a7e7949b1bf142def7d0e0586</td>\n",
       "      <td>offer received</td>\n",
       "      <td>0</td>\n",
       "      <td>fafdcd668e3743c1bb461111dcafc2a4</td>\n",
       "      <td>NaN</td>\n",
       "      <td>0</td>\n",
       "      <td>1</td>\n",
       "      <td>0</td>\n",
       "      <td>0</td>\n",
       "    </tr>\n",
       "    <tr>\n",
       "      <th>4</th>\n",
       "      <td>68617ca6246f4fbc85e91a2a49552598</td>\n",
       "      <td>offer received</td>\n",
       "      <td>0</td>\n",
       "      <td>4d5c57ea9a6940dd891ad53e9dbe8da0</td>\n",
       "      <td>NaN</td>\n",
       "      <td>0</td>\n",
       "      <td>1</td>\n",
       "      <td>0</td>\n",
       "      <td>0</td>\n",
       "    </tr>\n",
       "    <tr>\n",
       "      <th>...</th>\n",
       "      <td>...</td>\n",
       "      <td>...</td>\n",
       "      <td>...</td>\n",
       "      <td>...</td>\n",
       "      <td>...</td>\n",
       "      <td>...</td>\n",
       "      <td>...</td>\n",
       "      <td>...</td>\n",
       "      <td>...</td>\n",
       "    </tr>\n",
       "    <tr>\n",
       "      <th>306529</th>\n",
       "      <td>b3a1272bc9904337b331bf348c3e8c17</td>\n",
       "      <td>transaction</td>\n",
       "      <td>714</td>\n",
       "      <td>NaN</td>\n",
       "      <td>1.59</td>\n",
       "      <td>0</td>\n",
       "      <td>0</td>\n",
       "      <td>0</td>\n",
       "      <td>1</td>\n",
       "    </tr>\n",
       "    <tr>\n",
       "      <th>306530</th>\n",
       "      <td>68213b08d99a4ae1b0dcb72aebd9aa35</td>\n",
       "      <td>transaction</td>\n",
       "      <td>714</td>\n",
       "      <td>NaN</td>\n",
       "      <td>9.53</td>\n",
       "      <td>0</td>\n",
       "      <td>0</td>\n",
       "      <td>0</td>\n",
       "      <td>1</td>\n",
       "    </tr>\n",
       "    <tr>\n",
       "      <th>306531</th>\n",
       "      <td>a00058cf10334a308c68e7631c529907</td>\n",
       "      <td>transaction</td>\n",
       "      <td>714</td>\n",
       "      <td>NaN</td>\n",
       "      <td>3.61</td>\n",
       "      <td>0</td>\n",
       "      <td>0</td>\n",
       "      <td>0</td>\n",
       "      <td>1</td>\n",
       "    </tr>\n",
       "    <tr>\n",
       "      <th>306532</th>\n",
       "      <td>76ddbd6576844afe811f1a3c0fbb5bec</td>\n",
       "      <td>transaction</td>\n",
       "      <td>714</td>\n",
       "      <td>NaN</td>\n",
       "      <td>3.53</td>\n",
       "      <td>0</td>\n",
       "      <td>0</td>\n",
       "      <td>0</td>\n",
       "      <td>1</td>\n",
       "    </tr>\n",
       "    <tr>\n",
       "      <th>306533</th>\n",
       "      <td>c02b10e8752c4d8e9b73f918558531f7</td>\n",
       "      <td>transaction</td>\n",
       "      <td>714</td>\n",
       "      <td>NaN</td>\n",
       "      <td>4.05</td>\n",
       "      <td>0</td>\n",
       "      <td>0</td>\n",
       "      <td>0</td>\n",
       "      <td>1</td>\n",
       "    </tr>\n",
       "  </tbody>\n",
       "</table>\n",
       "<p>306534 rows × 9 columns</p>\n",
       "</div>"
      ],
      "text/plain": [
       "                             customer_id           event  time  \\\n",
       "0       78afa995795e4d85b5d9ceeca43f5fef  offer received     0   \n",
       "1       a03223e636434f42ac4c3df47e8bac43  offer received     0   \n",
       "2       e2127556f4f64592b11af22de27a7932  offer received     0   \n",
       "3       8ec6ce2a7e7949b1bf142def7d0e0586  offer received     0   \n",
       "4       68617ca6246f4fbc85e91a2a49552598  offer received     0   \n",
       "...                                  ...             ...   ...   \n",
       "306529  b3a1272bc9904337b331bf348c3e8c17     transaction   714   \n",
       "306530  68213b08d99a4ae1b0dcb72aebd9aa35     transaction   714   \n",
       "306531  a00058cf10334a308c68e7631c529907     transaction   714   \n",
       "306532  76ddbd6576844afe811f1a3c0fbb5bec     transaction   714   \n",
       "306533  c02b10e8752c4d8e9b73f918558531f7     transaction   714   \n",
       "\n",
       "                                offer_id  amount  offer completed  \\\n",
       "0       9b98b8c7a33c4b65b9aebfe6a799e6d9     NaN                0   \n",
       "1       0b1e1539f2cc45b7b9fa7c272da2e1d7     NaN                0   \n",
       "2       2906b810c7d4411798c6938adc9daaa5     NaN                0   \n",
       "3       fafdcd668e3743c1bb461111dcafc2a4     NaN                0   \n",
       "4       4d5c57ea9a6940dd891ad53e9dbe8da0     NaN                0   \n",
       "...                                  ...     ...              ...   \n",
       "306529                               NaN    1.59                0   \n",
       "306530                               NaN    9.53                0   \n",
       "306531                               NaN    3.61                0   \n",
       "306532                               NaN    3.53                0   \n",
       "306533                               NaN    4.05                0   \n",
       "\n",
       "        offer received  offer viewed  transaction  \n",
       "0                    1             0            0  \n",
       "1                    1             0            0  \n",
       "2                    1             0            0  \n",
       "3                    1             0            0  \n",
       "4                    1             0            0  \n",
       "...                ...           ...          ...  \n",
       "306529               0             0            1  \n",
       "306530               0             0            1  \n",
       "306531               0             0            1  \n",
       "306532               0             0            1  \n",
       "306533               0             0            1  \n",
       "\n",
       "[306534 rows x 9 columns]"
      ]
     },
     "execution_count": 265,
     "metadata": {},
     "output_type": "execute_result"
    }
   ],
   "source": [
    "transcript_final"
   ]
  },
  {
   "cell_type": "code",
   "execution_count": 266,
   "id": "1d600249",
   "metadata": {},
   "outputs": [],
   "source": [
    "transcript_final['offer_id'].replace(np.nan,\"None\",inplace = True)"
   ]
  },
  {
   "cell_type": "markdown",
   "id": "90e2e72a",
   "metadata": {},
   "source": [
    "Let's merge all the dataframes into one for analysis. \n",
    "This dataframe will have several NaN values in places where that piece of data is not needed. For instance, in the event of an offer reception, \n",
    "the transaction value will be NaN. We'll ignore those in our analysis"
   ]
  },
  {
   "cell_type": "code",
   "execution_count": 336,
   "id": "7802f8ec",
   "metadata": {},
   "outputs": [],
   "source": [
    "trans_prof = pd.merge(transcript_final, profile_final, on='customer_id',\n",
    "                          how=\"left\")"
   ]
  },
  {
   "cell_type": "code",
   "execution_count": 337,
   "id": "c68dd339",
   "metadata": {},
   "outputs": [
    {
     "data": {
      "text/html": [
       "<div>\n",
       "<style scoped>\n",
       "    .dataframe tbody tr th:only-of-type {\n",
       "        vertical-align: middle;\n",
       "    }\n",
       "\n",
       "    .dataframe tbody tr th {\n",
       "        vertical-align: top;\n",
       "    }\n",
       "\n",
       "    .dataframe thead th {\n",
       "        text-align: right;\n",
       "    }\n",
       "</style>\n",
       "<table border=\"1\" class=\"dataframe\">\n",
       "  <thead>\n",
       "    <tr style=\"text-align: right;\">\n",
       "      <th></th>\n",
       "      <th>customer_id</th>\n",
       "      <th>event</th>\n",
       "      <th>time</th>\n",
       "      <th>offer_id</th>\n",
       "      <th>amount</th>\n",
       "      <th>offer completed</th>\n",
       "      <th>offer received</th>\n",
       "      <th>offer viewed</th>\n",
       "      <th>transaction</th>\n",
       "      <th>gender</th>\n",
       "      <th>age</th>\n",
       "      <th>became_member_on</th>\n",
       "      <th>income</th>\n",
       "      <th>vaild</th>\n",
       "      <th>gender_F</th>\n",
       "      <th>gender_M</th>\n",
       "      <th>gender_O</th>\n",
       "    </tr>\n",
       "  </thead>\n",
       "  <tbody>\n",
       "    <tr>\n",
       "      <th>0</th>\n",
       "      <td>78afa995795e4d85b5d9ceeca43f5fef</td>\n",
       "      <td>offer received</td>\n",
       "      <td>0</td>\n",
       "      <td>9b98b8c7a33c4b65b9aebfe6a799e6d9</td>\n",
       "      <td>NaN</td>\n",
       "      <td>0</td>\n",
       "      <td>1</td>\n",
       "      <td>0</td>\n",
       "      <td>0</td>\n",
       "      <td>F</td>\n",
       "      <td>75</td>\n",
       "      <td>2017-05-09</td>\n",
       "      <td>100000.0</td>\n",
       "      <td>1</td>\n",
       "      <td>1</td>\n",
       "      <td>0</td>\n",
       "      <td>0</td>\n",
       "    </tr>\n",
       "    <tr>\n",
       "      <th>1</th>\n",
       "      <td>a03223e636434f42ac4c3df47e8bac43</td>\n",
       "      <td>offer received</td>\n",
       "      <td>0</td>\n",
       "      <td>0b1e1539f2cc45b7b9fa7c272da2e1d7</td>\n",
       "      <td>NaN</td>\n",
       "      <td>0</td>\n",
       "      <td>1</td>\n",
       "      <td>0</td>\n",
       "      <td>0</td>\n",
       "      <td>None</td>\n",
       "      <td>118</td>\n",
       "      <td>2017-08-04</td>\n",
       "      <td>NaN</td>\n",
       "      <td>0</td>\n",
       "      <td>0</td>\n",
       "      <td>0</td>\n",
       "      <td>0</td>\n",
       "    </tr>\n",
       "    <tr>\n",
       "      <th>2</th>\n",
       "      <td>e2127556f4f64592b11af22de27a7932</td>\n",
       "      <td>offer received</td>\n",
       "      <td>0</td>\n",
       "      <td>2906b810c7d4411798c6938adc9daaa5</td>\n",
       "      <td>NaN</td>\n",
       "      <td>0</td>\n",
       "      <td>1</td>\n",
       "      <td>0</td>\n",
       "      <td>0</td>\n",
       "      <td>M</td>\n",
       "      <td>68</td>\n",
       "      <td>2018-04-26</td>\n",
       "      <td>70000.0</td>\n",
       "      <td>1</td>\n",
       "      <td>0</td>\n",
       "      <td>1</td>\n",
       "      <td>0</td>\n",
       "    </tr>\n",
       "    <tr>\n",
       "      <th>3</th>\n",
       "      <td>8ec6ce2a7e7949b1bf142def7d0e0586</td>\n",
       "      <td>offer received</td>\n",
       "      <td>0</td>\n",
       "      <td>fafdcd668e3743c1bb461111dcafc2a4</td>\n",
       "      <td>NaN</td>\n",
       "      <td>0</td>\n",
       "      <td>1</td>\n",
       "      <td>0</td>\n",
       "      <td>0</td>\n",
       "      <td>None</td>\n",
       "      <td>118</td>\n",
       "      <td>2017-09-25</td>\n",
       "      <td>NaN</td>\n",
       "      <td>0</td>\n",
       "      <td>0</td>\n",
       "      <td>0</td>\n",
       "      <td>0</td>\n",
       "    </tr>\n",
       "    <tr>\n",
       "      <th>4</th>\n",
       "      <td>68617ca6246f4fbc85e91a2a49552598</td>\n",
       "      <td>offer received</td>\n",
       "      <td>0</td>\n",
       "      <td>4d5c57ea9a6940dd891ad53e9dbe8da0</td>\n",
       "      <td>NaN</td>\n",
       "      <td>0</td>\n",
       "      <td>1</td>\n",
       "      <td>0</td>\n",
       "      <td>0</td>\n",
       "      <td>None</td>\n",
       "      <td>118</td>\n",
       "      <td>2017-10-02</td>\n",
       "      <td>NaN</td>\n",
       "      <td>0</td>\n",
       "      <td>0</td>\n",
       "      <td>0</td>\n",
       "      <td>0</td>\n",
       "    </tr>\n",
       "    <tr>\n",
       "      <th>...</th>\n",
       "      <td>...</td>\n",
       "      <td>...</td>\n",
       "      <td>...</td>\n",
       "      <td>...</td>\n",
       "      <td>...</td>\n",
       "      <td>...</td>\n",
       "      <td>...</td>\n",
       "      <td>...</td>\n",
       "      <td>...</td>\n",
       "      <td>...</td>\n",
       "      <td>...</td>\n",
       "      <td>...</td>\n",
       "      <td>...</td>\n",
       "      <td>...</td>\n",
       "      <td>...</td>\n",
       "      <td>...</td>\n",
       "      <td>...</td>\n",
       "    </tr>\n",
       "    <tr>\n",
       "      <th>306529</th>\n",
       "      <td>b3a1272bc9904337b331bf348c3e8c17</td>\n",
       "      <td>transaction</td>\n",
       "      <td>714</td>\n",
       "      <td>None</td>\n",
       "      <td>1.59</td>\n",
       "      <td>0</td>\n",
       "      <td>0</td>\n",
       "      <td>0</td>\n",
       "      <td>1</td>\n",
       "      <td>M</td>\n",
       "      <td>66</td>\n",
       "      <td>2018-01-01</td>\n",
       "      <td>47000.0</td>\n",
       "      <td>1</td>\n",
       "      <td>0</td>\n",
       "      <td>1</td>\n",
       "      <td>0</td>\n",
       "    </tr>\n",
       "    <tr>\n",
       "      <th>306530</th>\n",
       "      <td>68213b08d99a4ae1b0dcb72aebd9aa35</td>\n",
       "      <td>transaction</td>\n",
       "      <td>714</td>\n",
       "      <td>None</td>\n",
       "      <td>9.53</td>\n",
       "      <td>0</td>\n",
       "      <td>0</td>\n",
       "      <td>0</td>\n",
       "      <td>1</td>\n",
       "      <td>M</td>\n",
       "      <td>52</td>\n",
       "      <td>2018-04-08</td>\n",
       "      <td>62000.0</td>\n",
       "      <td>1</td>\n",
       "      <td>0</td>\n",
       "      <td>1</td>\n",
       "      <td>0</td>\n",
       "    </tr>\n",
       "    <tr>\n",
       "      <th>306531</th>\n",
       "      <td>a00058cf10334a308c68e7631c529907</td>\n",
       "      <td>transaction</td>\n",
       "      <td>714</td>\n",
       "      <td>None</td>\n",
       "      <td>3.61</td>\n",
       "      <td>0</td>\n",
       "      <td>0</td>\n",
       "      <td>0</td>\n",
       "      <td>1</td>\n",
       "      <td>F</td>\n",
       "      <td>63</td>\n",
       "      <td>2013-09-22</td>\n",
       "      <td>52000.0</td>\n",
       "      <td>1</td>\n",
       "      <td>1</td>\n",
       "      <td>0</td>\n",
       "      <td>0</td>\n",
       "    </tr>\n",
       "    <tr>\n",
       "      <th>306532</th>\n",
       "      <td>76ddbd6576844afe811f1a3c0fbb5bec</td>\n",
       "      <td>transaction</td>\n",
       "      <td>714</td>\n",
       "      <td>None</td>\n",
       "      <td>3.53</td>\n",
       "      <td>0</td>\n",
       "      <td>0</td>\n",
       "      <td>0</td>\n",
       "      <td>1</td>\n",
       "      <td>M</td>\n",
       "      <td>57</td>\n",
       "      <td>2016-07-09</td>\n",
       "      <td>40000.0</td>\n",
       "      <td>1</td>\n",
       "      <td>0</td>\n",
       "      <td>1</td>\n",
       "      <td>0</td>\n",
       "    </tr>\n",
       "    <tr>\n",
       "      <th>306533</th>\n",
       "      <td>c02b10e8752c4d8e9b73f918558531f7</td>\n",
       "      <td>transaction</td>\n",
       "      <td>714</td>\n",
       "      <td>None</td>\n",
       "      <td>4.05</td>\n",
       "      <td>0</td>\n",
       "      <td>0</td>\n",
       "      <td>0</td>\n",
       "      <td>1</td>\n",
       "      <td>None</td>\n",
       "      <td>118</td>\n",
       "      <td>2015-12-11</td>\n",
       "      <td>NaN</td>\n",
       "      <td>0</td>\n",
       "      <td>0</td>\n",
       "      <td>0</td>\n",
       "      <td>0</td>\n",
       "    </tr>\n",
       "  </tbody>\n",
       "</table>\n",
       "<p>306534 rows × 17 columns</p>\n",
       "</div>"
      ],
      "text/plain": [
       "                             customer_id           event  time  \\\n",
       "0       78afa995795e4d85b5d9ceeca43f5fef  offer received     0   \n",
       "1       a03223e636434f42ac4c3df47e8bac43  offer received     0   \n",
       "2       e2127556f4f64592b11af22de27a7932  offer received     0   \n",
       "3       8ec6ce2a7e7949b1bf142def7d0e0586  offer received     0   \n",
       "4       68617ca6246f4fbc85e91a2a49552598  offer received     0   \n",
       "...                                  ...             ...   ...   \n",
       "306529  b3a1272bc9904337b331bf348c3e8c17     transaction   714   \n",
       "306530  68213b08d99a4ae1b0dcb72aebd9aa35     transaction   714   \n",
       "306531  a00058cf10334a308c68e7631c529907     transaction   714   \n",
       "306532  76ddbd6576844afe811f1a3c0fbb5bec     transaction   714   \n",
       "306533  c02b10e8752c4d8e9b73f918558531f7     transaction   714   \n",
       "\n",
       "                                offer_id  amount  offer completed  \\\n",
       "0       9b98b8c7a33c4b65b9aebfe6a799e6d9     NaN                0   \n",
       "1       0b1e1539f2cc45b7b9fa7c272da2e1d7     NaN                0   \n",
       "2       2906b810c7d4411798c6938adc9daaa5     NaN                0   \n",
       "3       fafdcd668e3743c1bb461111dcafc2a4     NaN                0   \n",
       "4       4d5c57ea9a6940dd891ad53e9dbe8da0     NaN                0   \n",
       "...                                  ...     ...              ...   \n",
       "306529                              None    1.59                0   \n",
       "306530                              None    9.53                0   \n",
       "306531                              None    3.61                0   \n",
       "306532                              None    3.53                0   \n",
       "306533                              None    4.05                0   \n",
       "\n",
       "        offer received  offer viewed  transaction gender  age  \\\n",
       "0                    1             0            0      F   75   \n",
       "1                    1             0            0   None  118   \n",
       "2                    1             0            0      M   68   \n",
       "3                    1             0            0   None  118   \n",
       "4                    1             0            0   None  118   \n",
       "...                ...           ...          ...    ...  ...   \n",
       "306529               0             0            1      M   66   \n",
       "306530               0             0            1      M   52   \n",
       "306531               0             0            1      F   63   \n",
       "306532               0             0            1      M   57   \n",
       "306533               0             0            1   None  118   \n",
       "\n",
       "       became_member_on    income  vaild  gender_F  gender_M  gender_O  \n",
       "0            2017-05-09  100000.0      1         1         0         0  \n",
       "1            2017-08-04       NaN      0         0         0         0  \n",
       "2            2018-04-26   70000.0      1         0         1         0  \n",
       "3            2017-09-25       NaN      0         0         0         0  \n",
       "4            2017-10-02       NaN      0         0         0         0  \n",
       "...                 ...       ...    ...       ...       ...       ...  \n",
       "306529       2018-01-01   47000.0      1         0         1         0  \n",
       "306530       2018-04-08   62000.0      1         0         1         0  \n",
       "306531       2013-09-22   52000.0      1         1         0         0  \n",
       "306532       2016-07-09   40000.0      1         0         1         0  \n",
       "306533       2015-12-11       NaN      0         0         0         0  \n",
       "\n",
       "[306534 rows x 17 columns]"
      ]
     },
     "execution_count": 337,
     "metadata": {},
     "output_type": "execute_result"
    }
   ],
   "source": [
    "trans_prof"
   ]
  },
  {
   "cell_type": "code",
   "execution_count": 338,
   "id": "231d2713",
   "metadata": {},
   "outputs": [],
   "source": [
    "df = pd.merge(trans_prof, portfolio_final, on='offer_id', how='left')"
   ]
  },
  {
   "cell_type": "code",
   "execution_count": 339,
   "id": "b005a229",
   "metadata": {},
   "outputs": [
    {
     "data": {
      "text/html": [
       "<div>\n",
       "<style scoped>\n",
       "    .dataframe tbody tr th:only-of-type {\n",
       "        vertical-align: middle;\n",
       "    }\n",
       "\n",
       "    .dataframe tbody tr th {\n",
       "        vertical-align: top;\n",
       "    }\n",
       "\n",
       "    .dataframe thead th {\n",
       "        text-align: right;\n",
       "    }\n",
       "</style>\n",
       "<table border=\"1\" class=\"dataframe\">\n",
       "  <thead>\n",
       "    <tr style=\"text-align: right;\">\n",
       "      <th></th>\n",
       "      <th>customer_id</th>\n",
       "      <th>event</th>\n",
       "      <th>time</th>\n",
       "      <th>offer_id</th>\n",
       "      <th>amount</th>\n",
       "      <th>offer completed</th>\n",
       "      <th>offer received</th>\n",
       "      <th>offer viewed</th>\n",
       "      <th>transaction</th>\n",
       "      <th>gender</th>\n",
       "      <th>...</th>\n",
       "      <th>difficulty</th>\n",
       "      <th>duration</th>\n",
       "      <th>offer_type</th>\n",
       "      <th>channel_email</th>\n",
       "      <th>channel_mobile</th>\n",
       "      <th>channel_social</th>\n",
       "      <th>channel_web</th>\n",
       "      <th>bogo</th>\n",
       "      <th>discount</th>\n",
       "      <th>informational</th>\n",
       "    </tr>\n",
       "  </thead>\n",
       "  <tbody>\n",
       "    <tr>\n",
       "      <th>0</th>\n",
       "      <td>78afa995795e4d85b5d9ceeca43f5fef</td>\n",
       "      <td>offer received</td>\n",
       "      <td>0</td>\n",
       "      <td>9b98b8c7a33c4b65b9aebfe6a799e6d9</td>\n",
       "      <td>NaN</td>\n",
       "      <td>0</td>\n",
       "      <td>1</td>\n",
       "      <td>0</td>\n",
       "      <td>0</td>\n",
       "      <td>F</td>\n",
       "      <td>...</td>\n",
       "      <td>5.0</td>\n",
       "      <td>7.0</td>\n",
       "      <td>bogo</td>\n",
       "      <td>1.0</td>\n",
       "      <td>1.0</td>\n",
       "      <td>0.0</td>\n",
       "      <td>1.0</td>\n",
       "      <td>1.0</td>\n",
       "      <td>0.0</td>\n",
       "      <td>0.0</td>\n",
       "    </tr>\n",
       "    <tr>\n",
       "      <th>1</th>\n",
       "      <td>a03223e636434f42ac4c3df47e8bac43</td>\n",
       "      <td>offer received</td>\n",
       "      <td>0</td>\n",
       "      <td>0b1e1539f2cc45b7b9fa7c272da2e1d7</td>\n",
       "      <td>NaN</td>\n",
       "      <td>0</td>\n",
       "      <td>1</td>\n",
       "      <td>0</td>\n",
       "      <td>0</td>\n",
       "      <td>None</td>\n",
       "      <td>...</td>\n",
       "      <td>20.0</td>\n",
       "      <td>10.0</td>\n",
       "      <td>discount</td>\n",
       "      <td>1.0</td>\n",
       "      <td>0.0</td>\n",
       "      <td>0.0</td>\n",
       "      <td>1.0</td>\n",
       "      <td>0.0</td>\n",
       "      <td>1.0</td>\n",
       "      <td>0.0</td>\n",
       "    </tr>\n",
       "    <tr>\n",
       "      <th>2</th>\n",
       "      <td>e2127556f4f64592b11af22de27a7932</td>\n",
       "      <td>offer received</td>\n",
       "      <td>0</td>\n",
       "      <td>2906b810c7d4411798c6938adc9daaa5</td>\n",
       "      <td>NaN</td>\n",
       "      <td>0</td>\n",
       "      <td>1</td>\n",
       "      <td>0</td>\n",
       "      <td>0</td>\n",
       "      <td>M</td>\n",
       "      <td>...</td>\n",
       "      <td>10.0</td>\n",
       "      <td>7.0</td>\n",
       "      <td>discount</td>\n",
       "      <td>1.0</td>\n",
       "      <td>1.0</td>\n",
       "      <td>0.0</td>\n",
       "      <td>1.0</td>\n",
       "      <td>0.0</td>\n",
       "      <td>1.0</td>\n",
       "      <td>0.0</td>\n",
       "    </tr>\n",
       "    <tr>\n",
       "      <th>3</th>\n",
       "      <td>8ec6ce2a7e7949b1bf142def7d0e0586</td>\n",
       "      <td>offer received</td>\n",
       "      <td>0</td>\n",
       "      <td>fafdcd668e3743c1bb461111dcafc2a4</td>\n",
       "      <td>NaN</td>\n",
       "      <td>0</td>\n",
       "      <td>1</td>\n",
       "      <td>0</td>\n",
       "      <td>0</td>\n",
       "      <td>None</td>\n",
       "      <td>...</td>\n",
       "      <td>10.0</td>\n",
       "      <td>10.0</td>\n",
       "      <td>discount</td>\n",
       "      <td>1.0</td>\n",
       "      <td>1.0</td>\n",
       "      <td>1.0</td>\n",
       "      <td>1.0</td>\n",
       "      <td>0.0</td>\n",
       "      <td>1.0</td>\n",
       "      <td>0.0</td>\n",
       "    </tr>\n",
       "    <tr>\n",
       "      <th>4</th>\n",
       "      <td>68617ca6246f4fbc85e91a2a49552598</td>\n",
       "      <td>offer received</td>\n",
       "      <td>0</td>\n",
       "      <td>4d5c57ea9a6940dd891ad53e9dbe8da0</td>\n",
       "      <td>NaN</td>\n",
       "      <td>0</td>\n",
       "      <td>1</td>\n",
       "      <td>0</td>\n",
       "      <td>0</td>\n",
       "      <td>None</td>\n",
       "      <td>...</td>\n",
       "      <td>10.0</td>\n",
       "      <td>5.0</td>\n",
       "      <td>bogo</td>\n",
       "      <td>1.0</td>\n",
       "      <td>1.0</td>\n",
       "      <td>1.0</td>\n",
       "      <td>1.0</td>\n",
       "      <td>1.0</td>\n",
       "      <td>0.0</td>\n",
       "      <td>0.0</td>\n",
       "    </tr>\n",
       "  </tbody>\n",
       "</table>\n",
       "<p>5 rows × 28 columns</p>\n",
       "</div>"
      ],
      "text/plain": [
       "                        customer_id           event  time  \\\n",
       "0  78afa995795e4d85b5d9ceeca43f5fef  offer received     0   \n",
       "1  a03223e636434f42ac4c3df47e8bac43  offer received     0   \n",
       "2  e2127556f4f64592b11af22de27a7932  offer received     0   \n",
       "3  8ec6ce2a7e7949b1bf142def7d0e0586  offer received     0   \n",
       "4  68617ca6246f4fbc85e91a2a49552598  offer received     0   \n",
       "\n",
       "                           offer_id  amount  offer completed  offer received  \\\n",
       "0  9b98b8c7a33c4b65b9aebfe6a799e6d9     NaN                0               1   \n",
       "1  0b1e1539f2cc45b7b9fa7c272da2e1d7     NaN                0               1   \n",
       "2  2906b810c7d4411798c6938adc9daaa5     NaN                0               1   \n",
       "3  fafdcd668e3743c1bb461111dcafc2a4     NaN                0               1   \n",
       "4  4d5c57ea9a6940dd891ad53e9dbe8da0     NaN                0               1   \n",
       "\n",
       "   offer viewed  transaction gender  ...  difficulty duration  offer_type  \\\n",
       "0             0            0      F  ...         5.0      7.0        bogo   \n",
       "1             0            0   None  ...        20.0     10.0    discount   \n",
       "2             0            0      M  ...        10.0      7.0    discount   \n",
       "3             0            0   None  ...        10.0     10.0    discount   \n",
       "4             0            0   None  ...        10.0      5.0        bogo   \n",
       "\n",
       "   channel_email  channel_mobile  channel_social  channel_web  bogo  discount  \\\n",
       "0            1.0             1.0             0.0          1.0   1.0       0.0   \n",
       "1            1.0             0.0             0.0          1.0   0.0       1.0   \n",
       "2            1.0             1.0             0.0          1.0   0.0       1.0   \n",
       "3            1.0             1.0             1.0          1.0   0.0       1.0   \n",
       "4            1.0             1.0             1.0          1.0   1.0       0.0   \n",
       "\n",
       "   informational  \n",
       "0            0.0  \n",
       "1            0.0  \n",
       "2            0.0  \n",
       "3            0.0  \n",
       "4            0.0  \n",
       "\n",
       "[5 rows x 28 columns]"
      ]
     },
     "execution_count": 339,
     "metadata": {},
     "output_type": "execute_result"
    }
   ],
   "source": [
    "df.head()"
   ]
  },
  {
   "cell_type": "code",
   "execution_count": 340,
   "id": "794b60c2",
   "metadata": {},
   "outputs": [
    {
     "data": {
      "text/plain": [
       "0         9b98b8c7a33c4b65b9aebfe6a799e6d9\n",
       "1         0b1e1539f2cc45b7b9fa7c272da2e1d7\n",
       "2         2906b810c7d4411798c6938adc9daaa5\n",
       "3         fafdcd668e3743c1bb461111dcafc2a4\n",
       "4         4d5c57ea9a6940dd891ad53e9dbe8da0\n",
       "                        ...               \n",
       "306529                                None\n",
       "306530                                None\n",
       "306531                                None\n",
       "306532                                None\n",
       "306533                                None\n",
       "Name: offer_id, Length: 306534, dtype: object"
      ]
     },
     "execution_count": 340,
     "metadata": {},
     "output_type": "execute_result"
    }
   ],
   "source": [
    "df.offer_id"
   ]
  },
  {
   "cell_type": "code",
   "execution_count": 341,
   "id": "cfee41b0",
   "metadata": {},
   "outputs": [],
   "source": [
    "df.offer_id.replace('ae264e3637204a6fb9bb56bc8210ddfd','B1',inplace = True)\n",
    "df.offer_id.replace('4d5c57ea9a6940dd891ad53e9dbe8da0','B2',inplace = True)\n",
    "df.offer_id.replace('9b98b8c7a33c4b65b9aebfe6a799e6d9','B3',inplace = True)\n",
    "df.offer_id.replace('f19421c1d4aa40978ebb69ca19b0e20d','B4',inplace = True)\n",
    "df.offer_id.replace('0b1e1539f2cc45b7b9fa7c272da2e1d7','D1',inplace = True)\n",
    "df.offer_id.replace('2298d6c36e964ae4a3e7e9706d1fb8c2','D2',inplace = True)\n",
    "df.offer_id.replace('fafdcd668e3743c1bb461111dcafc2a4','D3',inplace = True)\n",
    "df.offer_id.replace('2906b810c7d4411798c6938adc9daaa5','D4',inplace = True)\n",
    "df.offer_id.replace('3f207df678b143eea3cee63160fa8bed','I1',inplace = True)\n",
    "df.offer_id.replace('5a8bc65990b245e5a138643cd4eb9837','I2',inplace = True)"
   ]
  },
  {
   "cell_type": "code",
   "execution_count": 342,
   "id": "89d06eab",
   "metadata": {},
   "outputs": [],
   "source": [
    "df.rename(columns = {\"offer completed\":\"event_offer_completed\",\"offer received\":\"event_offer_received\",\"offer viewed\":\"event_offer_viewed\"},inplace = True)"
   ]
  },
  {
   "cell_type": "code",
   "execution_count": 343,
   "id": "f3b05a2b",
   "metadata": {},
   "outputs": [],
   "source": [
    "df.rename(columns = {\"transaction\":\"event_transaction\"},inplace = True)"
   ]
  },
  {
   "cell_type": "code",
   "execution_count": 352,
   "id": "dc1a0c05",
   "metadata": {},
   "outputs": [],
   "source": [
    "df.rename(columns = {\"vaild\":\"valid\"},inplace = True)"
   ]
  },
  {
   "cell_type": "code",
   "execution_count": 353,
   "id": "bcda6126",
   "metadata": {},
   "outputs": [
    {
     "data": {
      "text/html": [
       "<div>\n",
       "<style scoped>\n",
       "    .dataframe tbody tr th:only-of-type {\n",
       "        vertical-align: middle;\n",
       "    }\n",
       "\n",
       "    .dataframe tbody tr th {\n",
       "        vertical-align: top;\n",
       "    }\n",
       "\n",
       "    .dataframe thead th {\n",
       "        text-align: right;\n",
       "    }\n",
       "</style>\n",
       "<table border=\"1\" class=\"dataframe\">\n",
       "  <thead>\n",
       "    <tr style=\"text-align: right;\">\n",
       "      <th></th>\n",
       "      <th>customer_id</th>\n",
       "      <th>event</th>\n",
       "      <th>time</th>\n",
       "      <th>offer_id</th>\n",
       "      <th>amount</th>\n",
       "      <th>event_offer_completed</th>\n",
       "      <th>event_offer_received</th>\n",
       "      <th>event_offer_viewed</th>\n",
       "      <th>event_transaction</th>\n",
       "      <th>gender</th>\n",
       "      <th>...</th>\n",
       "      <th>difficulty</th>\n",
       "      <th>duration</th>\n",
       "      <th>offer_type</th>\n",
       "      <th>channel_email</th>\n",
       "      <th>channel_mobile</th>\n",
       "      <th>channel_social</th>\n",
       "      <th>channel_web</th>\n",
       "      <th>bogo</th>\n",
       "      <th>discount</th>\n",
       "      <th>informational</th>\n",
       "    </tr>\n",
       "  </thead>\n",
       "  <tbody>\n",
       "    <tr>\n",
       "      <th>0</th>\n",
       "      <td>78afa995795e4d85b5d9ceeca43f5fef</td>\n",
       "      <td>received</td>\n",
       "      <td>0</td>\n",
       "      <td>B3</td>\n",
       "      <td>NaN</td>\n",
       "      <td>0</td>\n",
       "      <td>1</td>\n",
       "      <td>0</td>\n",
       "      <td>0</td>\n",
       "      <td>F</td>\n",
       "      <td>...</td>\n",
       "      <td>5.0</td>\n",
       "      <td>7.0</td>\n",
       "      <td>bogo</td>\n",
       "      <td>1.0</td>\n",
       "      <td>1.0</td>\n",
       "      <td>0.0</td>\n",
       "      <td>1.0</td>\n",
       "      <td>1.0</td>\n",
       "      <td>0.0</td>\n",
       "      <td>0.0</td>\n",
       "    </tr>\n",
       "    <tr>\n",
       "      <th>1</th>\n",
       "      <td>a03223e636434f42ac4c3df47e8bac43</td>\n",
       "      <td>received</td>\n",
       "      <td>0</td>\n",
       "      <td>D1</td>\n",
       "      <td>NaN</td>\n",
       "      <td>0</td>\n",
       "      <td>1</td>\n",
       "      <td>0</td>\n",
       "      <td>0</td>\n",
       "      <td>None</td>\n",
       "      <td>...</td>\n",
       "      <td>20.0</td>\n",
       "      <td>10.0</td>\n",
       "      <td>discount</td>\n",
       "      <td>1.0</td>\n",
       "      <td>0.0</td>\n",
       "      <td>0.0</td>\n",
       "      <td>1.0</td>\n",
       "      <td>0.0</td>\n",
       "      <td>1.0</td>\n",
       "      <td>0.0</td>\n",
       "    </tr>\n",
       "    <tr>\n",
       "      <th>2</th>\n",
       "      <td>e2127556f4f64592b11af22de27a7932</td>\n",
       "      <td>received</td>\n",
       "      <td>0</td>\n",
       "      <td>D4</td>\n",
       "      <td>NaN</td>\n",
       "      <td>0</td>\n",
       "      <td>1</td>\n",
       "      <td>0</td>\n",
       "      <td>0</td>\n",
       "      <td>M</td>\n",
       "      <td>...</td>\n",
       "      <td>10.0</td>\n",
       "      <td>7.0</td>\n",
       "      <td>discount</td>\n",
       "      <td>1.0</td>\n",
       "      <td>1.0</td>\n",
       "      <td>0.0</td>\n",
       "      <td>1.0</td>\n",
       "      <td>0.0</td>\n",
       "      <td>1.0</td>\n",
       "      <td>0.0</td>\n",
       "    </tr>\n",
       "    <tr>\n",
       "      <th>3</th>\n",
       "      <td>8ec6ce2a7e7949b1bf142def7d0e0586</td>\n",
       "      <td>received</td>\n",
       "      <td>0</td>\n",
       "      <td>D3</td>\n",
       "      <td>NaN</td>\n",
       "      <td>0</td>\n",
       "      <td>1</td>\n",
       "      <td>0</td>\n",
       "      <td>0</td>\n",
       "      <td>None</td>\n",
       "      <td>...</td>\n",
       "      <td>10.0</td>\n",
       "      <td>10.0</td>\n",
       "      <td>discount</td>\n",
       "      <td>1.0</td>\n",
       "      <td>1.0</td>\n",
       "      <td>1.0</td>\n",
       "      <td>1.0</td>\n",
       "      <td>0.0</td>\n",
       "      <td>1.0</td>\n",
       "      <td>0.0</td>\n",
       "    </tr>\n",
       "    <tr>\n",
       "      <th>4</th>\n",
       "      <td>68617ca6246f4fbc85e91a2a49552598</td>\n",
       "      <td>received</td>\n",
       "      <td>0</td>\n",
       "      <td>B2</td>\n",
       "      <td>NaN</td>\n",
       "      <td>0</td>\n",
       "      <td>1</td>\n",
       "      <td>0</td>\n",
       "      <td>0</td>\n",
       "      <td>None</td>\n",
       "      <td>...</td>\n",
       "      <td>10.0</td>\n",
       "      <td>5.0</td>\n",
       "      <td>bogo</td>\n",
       "      <td>1.0</td>\n",
       "      <td>1.0</td>\n",
       "      <td>1.0</td>\n",
       "      <td>1.0</td>\n",
       "      <td>1.0</td>\n",
       "      <td>0.0</td>\n",
       "      <td>0.0</td>\n",
       "    </tr>\n",
       "  </tbody>\n",
       "</table>\n",
       "<p>5 rows × 28 columns</p>\n",
       "</div>"
      ],
      "text/plain": [
       "                        customer_id     event  time offer_id  amount  \\\n",
       "0  78afa995795e4d85b5d9ceeca43f5fef  received     0       B3     NaN   \n",
       "1  a03223e636434f42ac4c3df47e8bac43  received     0       D1     NaN   \n",
       "2  e2127556f4f64592b11af22de27a7932  received     0       D4     NaN   \n",
       "3  8ec6ce2a7e7949b1bf142def7d0e0586  received     0       D3     NaN   \n",
       "4  68617ca6246f4fbc85e91a2a49552598  received     0       B2     NaN   \n",
       "\n",
       "   event_offer_completed  event_offer_received  event_offer_viewed  \\\n",
       "0                      0                     1                   0   \n",
       "1                      0                     1                   0   \n",
       "2                      0                     1                   0   \n",
       "3                      0                     1                   0   \n",
       "4                      0                     1                   0   \n",
       "\n",
       "   event_transaction gender  ...  difficulty duration  offer_type  \\\n",
       "0                  0      F  ...         5.0      7.0        bogo   \n",
       "1                  0   None  ...        20.0     10.0    discount   \n",
       "2                  0      M  ...        10.0      7.0    discount   \n",
       "3                  0   None  ...        10.0     10.0    discount   \n",
       "4                  0   None  ...        10.0      5.0        bogo   \n",
       "\n",
       "   channel_email  channel_mobile  channel_social  channel_web  bogo  discount  \\\n",
       "0            1.0             1.0             0.0          1.0   1.0       0.0   \n",
       "1            1.0             0.0             0.0          1.0   0.0       1.0   \n",
       "2            1.0             1.0             0.0          1.0   0.0       1.0   \n",
       "3            1.0             1.0             1.0          1.0   0.0       1.0   \n",
       "4            1.0             1.0             1.0          1.0   1.0       0.0   \n",
       "\n",
       "   informational  \n",
       "0            0.0  \n",
       "1            0.0  \n",
       "2            0.0  \n",
       "3            0.0  \n",
       "4            0.0  \n",
       "\n",
       "[5 rows x 28 columns]"
      ]
     },
     "execution_count": 353,
     "metadata": {},
     "output_type": "execute_result"
    }
   ],
   "source": [
    "df.head()"
   ]
  },
  {
   "cell_type": "code",
   "execution_count": 345,
   "id": "05f3f62b",
   "metadata": {},
   "outputs": [],
   "source": [
    "df.event.replace('offer received','received',inplace = True)\n",
    "df.event.replace('offer viewed','viewed',inplace = True)\n",
    "df.event.replace('offer completed','completed',inplace = True)"
   ]
  },
  {
   "cell_type": "code",
   "execution_count": 346,
   "id": "8f34b08a",
   "metadata": {},
   "outputs": [
    {
     "data": {
      "text/plain": [
       "array(['received', 'viewed', 'transaction', 'completed'], dtype=object)"
      ]
     },
     "execution_count": 346,
     "metadata": {},
     "output_type": "execute_result"
    }
   ],
   "source": [
    "df.event.unique()"
   ]
  },
  {
   "cell_type": "markdown",
   "id": "83735993",
   "metadata": {},
   "source": [
    "## Data Analysis"
   ]
  },
  {
   "cell_type": "markdown",
   "id": "9e1b0fc1",
   "metadata": {},
   "source": [
    "Check total time for analysis"
   ]
  },
  {
   "cell_type": "code",
   "execution_count": 276,
   "id": "db79a88e",
   "metadata": {},
   "outputs": [
    {
     "data": {
      "text/plain": [
       "29.75"
      ]
     },
     "execution_count": 276,
     "metadata": {},
     "output_type": "execute_result"
    }
   ],
   "source": [
    "df.time.max() / 24"
   ]
  },
  {
   "cell_type": "markdown",
   "id": "67d37f46",
   "metadata": {},
   "source": [
    "The experiment was run for almost 30 days, and a grand total of 306,534 events were collected."
   ]
  },
  {
   "cell_type": "markdown",
   "id": "4166fbc9",
   "metadata": {},
   "source": [
    "## Data Visualization"
   ]
  },
  {
   "cell_type": "code",
   "execution_count": 277,
   "id": "3b91b83a",
   "metadata": {},
   "outputs": [
    {
     "data": {
      "image/png": "[encoded data removed]",
      "text/plain": [
       "<Figure size 1152x576 with 2 Axes>"
      ]
     },
     "metadata": {
      "needs_background": "light"
     },
     "output_type": "display_data"
    }
   ],
   "source": [
    "plt.subplot(121)\n",
    "df[df.offer_received == 1].offer_type.value_counts().plot(kind = 'bar' , figsize = (16,8) , rot = 0)\n",
    "plt.xticks(fontsize= 15)\n",
    "plt.yticks(fontsize= 15)\n",
    "plt.title(\"Offer Type\",fontsize= 25)\n",
    "\n",
    "plt.subplot(122)\n",
    "df[df.offer_received == 1].offer_id.value_counts().plot(kind = 'bar' , figsize = (16,8) , rot = 0)\n",
    "plt.xticks(fontsize= 15)\n",
    "plt.yticks(fontsize= 15)\n",
    "plt.title(\"Offer ID\",fontsize= 25)\n",
    "plt.show()"
   ]
  },
  {
   "cell_type": "code",
   "execution_count": 278,
   "id": "719007b7",
   "metadata": {},
   "outputs": [
    {
     "data": {
      "text/plain": [
       "B3    7677\n",
       "D1    7668\n",
       "B1    7658\n",
       "D2    7646\n",
       "D4    7632\n",
       "I2    7618\n",
       "I1    7617\n",
       "D3    7597\n",
       "B2    7593\n",
       "B4    7571\n",
       "Name: offer_id, dtype: int64"
      ]
     },
     "execution_count": 278,
     "metadata": {},
     "output_type": "execute_result"
    }
   ],
   "source": [
    "df[df.offer_received == 1].offer_id.value_counts()"
   ]
  },
  {
   "cell_type": "markdown",
   "id": "5398210d",
   "metadata": {},
   "source": [
    "The simulator use uniform distribution for offers , all offers almost have the same value"
   ]
  },
  {
   "cell_type": "code",
   "execution_count": 296,
   "id": "fcc6e6c4",
   "metadata": {},
   "outputs": [],
   "source": [
    "def get_offer_cust(df, offer_type=None):\n",
    "    \"\"\"\n",
    "    Get offer data (received, viewed and completed) per customer and\n",
    "    offer type\n",
    "    Inputs:\n",
    "    - df: dataframe of merged transactions, portfolio and profile data\n",
    "    - offer_type: informational, bogo or discount\n",
    "    Output:\n",
    "    - aggregated data per customer and offer type\n",
    "    \"\"\"\n",
    "    data = dict()\n",
    "    for e in ['received', 'viewed', 'completed']:\n",
    "        # Informational offers don't have completed data\n",
    "        if offer_type == 'informational' and e == 'completed':\n",
    "            continue\n",
    "        flag = (df['event_offer_{}'.format(e)] == 1)\n",
    "        key = e\n",
    "        if offer_type:\n",
    "            flag = flag & (df.offer_type == offer_type)\n",
    "            key = '{}_'.format(offer_type) + key\n",
    "        data[key] = df[flag].groupby('customer_id').offer_id.count()\n",
    "    # Informational offers don't have reward data\n",
    "    flag = (df.event_offer_completed == 1)\n",
    "    if offer_type != 'informational':\n",
    "        key = 'reward'\n",
    "        if offer_type:\n",
    "            flag = flag & (df.offer_type == offer_type)\n",
    "            key = '{}_'.format(offer_type) + key\n",
    "        data[key] = df[flag].groupby('customer_id').reward.sum()\n",
    "\n",
    "    return data"
   ]
  },
  {
   "cell_type": "code",
   "execution_count": 297,
   "id": "757cd34d",
   "metadata": {},
   "outputs": [],
   "source": [
    "def get_offer_id_cust(df, offer_id):\n",
    "    \"\"\"\n",
    "    Get offer data (received, viewed and completed) per customer\n",
    "    and offer id\n",
    "    Inputs:\n",
    "    - df: dataframe of merged transactions, portfolio and profile data\n",
    "    - offer_id: B1, B2, ...\n",
    "    Output:\n",
    "    - aggregated data per customer and offer id\n",
    "    \"\"\"\n",
    "    data = dict()\n",
    "\n",
    "    for e in ['received', 'viewed', 'completed']:\n",
    "        # Informational offers don't have completed data\n",
    "        if offer_id in ['I1', 'I2'] and e == 'completed':\n",
    "            continue\n",
    "        event = 'event_offer_{}'.format(e)\n",
    "        flag = (df[event] == 1) & (df.offer_id == offer_id)\n",
    "        key = '{}_{}'.format(offer_id, e)\n",
    "        data[key] = df[flag].groupby('customer_id').offer_id.count()\n",
    "\n",
    "    # Informational offers don't have reward data\n",
    "    flag = (df.event_offer_completed == 1) & (df.offer_id == offer_id)\n",
    "    if offer_id not in ['I1', 'I2']:\n",
    "        key = '{}_reward'.format(offer_id)\n",
    "        data[key] = df[flag].groupby('customer_id').reward.sum()\n",
    "\n",
    "    return data"
   ]
  },
  {
   "cell_type": "code",
   "execution_count": 312,
   "id": "6e75985f",
   "metadata": {},
   "outputs": [],
   "source": [
    "def round_age(x):\n",
    "    \"\"\"\n",
    "    Round age to the 5th of each 10th (15, 25,..., 105)\n",
    "    Input:\n",
    "    - x: age\n",
    "    Output:\n",
    "    - rounded age. Returns 0 if the value is less than 15 or more than 105\n",
    "    \"\"\"\n",
    "    for y in range(15, 106, 10):\n",
    "        if x >= y and x < y+10:\n",
    "            return y\n",
    "    return 0\n"
   ]
  },
  {
   "cell_type": "code",
   "execution_count": 313,
   "id": "c8cd1dff",
   "metadata": {},
   "outputs": [],
   "source": [
    "def round_income(x):\n",
    "    \"\"\"\n",
    "    Round income to the lower 10000th\n",
    "    Intput:\n",
    "    - income\n",
    "    Output:\n",
    "    - lower 10000th of the income. Return 0 if the income\n",
    "    is less than 30,000 or more than 120,000\n",
    "    \"\"\"\n",
    "    for y in range(30, 130, 10):\n",
    "        if x >= y*1000 and x < (y+10)*1000:\n",
    "            return y*1000\n",
    "    return 0"
   ]
  },
  {
   "cell_type": "code",
   "execution_count": 298,
   "id": "fc8b9192",
   "metadata": {},
   "outputs": [],
   "source": [
    "def per_customer_data(df, profile):\n",
    "    \"\"\" Build a dataframe with aggregated purchase and offer data and demographics\n",
    "    Input:\n",
    "    - df: merged dataframe with transactions, customer and offer data\n",
    "    Output:\n",
    "    - customer: dataframe with aggregated data\n",
    "    \"\"\"\n",
    "    cust_dict = dict()\n",
    "    # Get total transaction data\n",
    "    transactions = df[df.event_transaction == 1].groupby('customer_id')\n",
    "    cust_dict['total_expense'] = transactions.amount.sum()\n",
    "    cust_dict['total_transactions'] = transactions.amount.count()\n",
    "    # Get  aggr offer data\n",
    "    cust_dict.update(get_offer_cust(df))\n",
    "    # Get offer type data\n",
    "    for ot in ['bogo', 'discount', 'informational']:\n",
    "        cust_dict.update(get_offer_cust(df, ot))\n",
    "    # Get offer id data\n",
    "    for oi in ['B1', 'B2', 'B3', 'B4', 'D1', 'D2', 'D3', 'D4', 'I1', 'I2']:\n",
    "        cust_dict.update(get_offer_id_cust(df, oi))\n",
    "\n",
    "    customers = pd.concat(cust_dict.values(), axis=1, sort=False);\n",
    "    customers.columns = cust_dict.keys()\n",
    "    customers.fillna(0, inplace=True)\n",
    "\n",
    "    # Add demographic data\n",
    "    customers = pd.merge(customers, profile.set_index('customer_id'),\n",
    "                         left_index=True, right_index=True)\n",
    "    customers['age_group'] = customers.age.apply(round_age)\n",
    "    customers['income_group'] = customers.income.apply(round_income)\n",
    "    customers['net_expense'] = customers['total_expense'] - customers['reward']\n",
    "\n",
    "    return customers\n"
   ]
  },
  {
   "cell_type": "markdown",
   "id": "3e9e33c7",
   "metadata": {},
   "source": [
    "This dataframe is intended to aggregate offer and transactional data on a per customer basis. This should facilitate the analysis of each customer's transactional behavior"
   ]
  },
  {
   "cell_type": "code",
   "execution_count": 370,
   "id": "876a9c56",
   "metadata": {},
   "outputs": [],
   "source": [
    "customers = per_customer_data(df, profile_final)"
   ]
  },
  {
   "cell_type": "code",
   "execution_count": 371,
   "id": "2b2e324e",
   "metadata": {},
   "outputs": [
    {
     "data": {
      "text/html": [
       "<div>\n",
       "<style scoped>\n",
       "    .dataframe tbody tr th:only-of-type {\n",
       "        vertical-align: middle;\n",
       "    }\n",
       "\n",
       "    .dataframe tbody tr th {\n",
       "        vertical-align: top;\n",
       "    }\n",
       "\n",
       "    .dataframe thead th {\n",
       "        text-align: right;\n",
       "    }\n",
       "</style>\n",
       "<table border=\"1\" class=\"dataframe\">\n",
       "  <thead>\n",
       "    <tr style=\"text-align: right;\">\n",
       "      <th></th>\n",
       "      <th>total_expense</th>\n",
       "      <th>total_transactions</th>\n",
       "      <th>received</th>\n",
       "      <th>viewed</th>\n",
       "      <th>completed</th>\n",
       "      <th>reward</th>\n",
       "      <th>bogo_received</th>\n",
       "      <th>bogo_viewed</th>\n",
       "      <th>bogo_completed</th>\n",
       "      <th>bogo_reward</th>\n",
       "      <th>...</th>\n",
       "      <th>age</th>\n",
       "      <th>became_member_on</th>\n",
       "      <th>income</th>\n",
       "      <th>valid</th>\n",
       "      <th>gender_F</th>\n",
       "      <th>gender_M</th>\n",
       "      <th>gender_O</th>\n",
       "      <th>age_group</th>\n",
       "      <th>income_group</th>\n",
       "      <th>net_expense</th>\n",
       "    </tr>\n",
       "  </thead>\n",
       "  <tbody>\n",
       "    <tr>\n",
       "      <th>0009655768c64bdeb2e877511632db8f</th>\n",
       "      <td>127.60</td>\n",
       "      <td>8.0</td>\n",
       "      <td>5.0</td>\n",
       "      <td>4.0</td>\n",
       "      <td>3.0</td>\n",
       "      <td>0.0</td>\n",
       "      <td>1.0</td>\n",
       "      <td>1.0</td>\n",
       "      <td>0.0</td>\n",
       "      <td>0.0</td>\n",
       "      <td>...</td>\n",
       "      <td>33</td>\n",
       "      <td>2017-04-21</td>\n",
       "      <td>72000.0</td>\n",
       "      <td>1</td>\n",
       "      <td>0</td>\n",
       "      <td>1</td>\n",
       "      <td>0</td>\n",
       "      <td>25</td>\n",
       "      <td>70000</td>\n",
       "      <td>127.60</td>\n",
       "    </tr>\n",
       "    <tr>\n",
       "      <th>00116118485d4dfda04fdbaba9a87b5c</th>\n",
       "      <td>4.09</td>\n",
       "      <td>3.0</td>\n",
       "      <td>2.0</td>\n",
       "      <td>2.0</td>\n",
       "      <td>0.0</td>\n",
       "      <td>0.0</td>\n",
       "      <td>2.0</td>\n",
       "      <td>2.0</td>\n",
       "      <td>0.0</td>\n",
       "      <td>0.0</td>\n",
       "      <td>...</td>\n",
       "      <td>118</td>\n",
       "      <td>2018-04-25</td>\n",
       "      <td>NaN</td>\n",
       "      <td>0</td>\n",
       "      <td>0</td>\n",
       "      <td>0</td>\n",
       "      <td>0</td>\n",
       "      <td>0</td>\n",
       "      <td>0</td>\n",
       "      <td>4.09</td>\n",
       "    </tr>\n",
       "    <tr>\n",
       "      <th>0011e0d4e6b944f998e987f904e8c1e5</th>\n",
       "      <td>79.46</td>\n",
       "      <td>5.0</td>\n",
       "      <td>5.0</td>\n",
       "      <td>5.0</td>\n",
       "      <td>3.0</td>\n",
       "      <td>0.0</td>\n",
       "      <td>1.0</td>\n",
       "      <td>1.0</td>\n",
       "      <td>0.0</td>\n",
       "      <td>0.0</td>\n",
       "      <td>...</td>\n",
       "      <td>40</td>\n",
       "      <td>2018-01-09</td>\n",
       "      <td>57000.0</td>\n",
       "      <td>1</td>\n",
       "      <td>0</td>\n",
       "      <td>0</td>\n",
       "      <td>1</td>\n",
       "      <td>35</td>\n",
       "      <td>50000</td>\n",
       "      <td>79.46</td>\n",
       "    </tr>\n",
       "  </tbody>\n",
       "</table>\n",
       "<p>3 rows × 63 columns</p>\n",
       "</div>"
      ],
      "text/plain": [
       "                                  total_expense  total_transactions  received  \\\n",
       "0009655768c64bdeb2e877511632db8f         127.60                 8.0       5.0   \n",
       "00116118485d4dfda04fdbaba9a87b5c           4.09                 3.0       2.0   \n",
       "0011e0d4e6b944f998e987f904e8c1e5          79.46                 5.0       5.0   \n",
       "\n",
       "                                  viewed  completed  reward  bogo_received  \\\n",
       "0009655768c64bdeb2e877511632db8f     4.0        3.0     0.0            1.0   \n",
       "00116118485d4dfda04fdbaba9a87b5c     2.0        0.0     0.0            2.0   \n",
       "0011e0d4e6b944f998e987f904e8c1e5     5.0        3.0     0.0            1.0   \n",
       "\n",
       "                                  bogo_viewed  bogo_completed  bogo_reward  \\\n",
       "0009655768c64bdeb2e877511632db8f          1.0             0.0          0.0   \n",
       "00116118485d4dfda04fdbaba9a87b5c          2.0             0.0          0.0   \n",
       "0011e0d4e6b944f998e987f904e8c1e5          1.0             0.0          0.0   \n",
       "\n",
       "                                  ...  age  became_member_on   income  valid  \\\n",
       "0009655768c64bdeb2e877511632db8f  ...   33        2017-04-21  72000.0      1   \n",
       "00116118485d4dfda04fdbaba9a87b5c  ...  118        2018-04-25      NaN      0   \n",
       "0011e0d4e6b944f998e987f904e8c1e5  ...   40        2018-01-09  57000.0      1   \n",
       "\n",
       "                                  gender_F  gender_M  gender_O  age_group  \\\n",
       "0009655768c64bdeb2e877511632db8f         0         1         0         25   \n",
       "00116118485d4dfda04fdbaba9a87b5c         0         0         0          0   \n",
       "0011e0d4e6b944f998e987f904e8c1e5         0         0         1         35   \n",
       "\n",
       "                                  income_group  net_expense  \n",
       "0009655768c64bdeb2e877511632db8f         70000       127.60  \n",
       "00116118485d4dfda04fdbaba9a87b5c             0         4.09  \n",
       "0011e0d4e6b944f998e987f904e8c1e5         50000        79.46  \n",
       "\n",
       "[3 rows x 63 columns]"
      ]
     },
     "execution_count": 371,
     "metadata": {},
     "output_type": "execute_result"
    }
   ],
   "source": [
    "customers.head(3)"
   ]
  },
  {
   "cell_type": "code",
   "execution_count": 372,
   "id": "bf9e25ba",
   "metadata": {},
   "outputs": [
    {
     "data": {
      "image/png": "[encoded data removed]",
      "text/plain": [
       "<Figure size 1152x432 with 2 Axes>"
      ]
     },
     "metadata": {
      "needs_background": "light"
     },
     "output_type": "display_data"
    }
   ],
   "source": [
    "plt.figure(figsize=(16,6))\n",
    "\n",
    "bins = 600\n",
    "\n",
    "avg_transaction = customers[customers.valid == 1].total_expense / customers[customers.valid == 1].total_transactions\n",
    "avg_transaction.fillna(0 , inplace = True)\n",
    "\n",
    "plt.subplot(121)\n",
    "plt.hist(avg_transaction , bins)\n",
    "plt.xlabel(\"Average Transaction ($)\")\n",
    "ax = plt.gca();\n",
    "ax.set_xlim(0,80);\n",
    "\n",
    "\n",
    "bins = 100\n",
    "plt.subplot(122)\n",
    "plt.hist(customers[customers.valid == 1].total_expense, bins)\n",
    "plt.xlabel(\"Total Expense\")\n",
    "ax = plt.gca();\n",
    "ax.set_xlim(0,600);\n",
    "\n",
    "plt.show()"
   ]
  },
  {
   "cell_type": "markdown",
   "id": "61194355",
   "metadata": {},
   "source": [
    "The average transaction value seems to follow a bi-modal distribution, while the total expense an exponential distribution with negative parameter."
   ]
  },
  {
   "cell_type": "code",
   "execution_count": 374,
   "id": "6d4ab4ca",
   "metadata": {},
   "outputs": [
    {
     "data": {
      "image/png": "[encoded data removed]",
      "text/plain": [
       "<Figure size 1152x360 with 3 Axes>"
      ]
     },
     "metadata": {
      "needs_background": "light"
     },
     "output_type": "display_data"
    }
   ],
   "source": [
    "plt.figure(figsize = (16,5))\n",
    "\n",
    "plt.subplot(131)\n",
    "profile.gender.value_counts().plot(kind = 'bar' , rot = 0 , figsize = (16,5) , color = 'tab:blue')\n",
    "plt.ylabel('Number of people')\n",
    "plt.xlabel('Gender')\n",
    "plt.grid()\n",
    "\n",
    "plt.subplot(132)\n",
    "cust_income = customers[customers.income_group > 0].income\n",
    "plt.xlabel('Customer Income');\n",
    "plt.hist(cust_income, 20)\n",
    "plt.grid()\n",
    "\n",
    "plt.subplot(133)\n",
    "cust_age = customers[customers.valid == 1].age\n",
    "plt.xlabel('Customer Age');\n",
    "plt.hist(cust_age, 20)\n",
    "plt.grid()"
   ]
  },
  {
   "cell_type": "markdown",
   "id": "0d4526cc",
   "metadata": {},
   "source": [
    "population distribution by age , income and age the most customer are males . income and age distribution seem to approach normal distribution "
   ]
  },
  {
   "cell_type": "code",
   "execution_count": 375,
   "id": "6b5f3370",
   "metadata": {},
   "outputs": [
    {
     "data": {
      "image/png": "[encoded data removed]",
      "text/plain": [
       "<Figure size 1152x360 with 2 Axes>"
      ]
     },
     "metadata": {
      "needs_background": "light"
     },
     "output_type": "display_data"
    }
   ],
   "source": [
    "plt.figure(figsize = (16,5))\n",
    "\n",
    "\n",
    "plt.subplot(121)\n",
    "gender_group = customers[customers['valid'] == 1].groupby('gender')\n",
    "gender_transacts = gender_group.total_transactions.sum()\n",
    "gender_expense = gender_group.total_expense.sum()\n",
    "(gender_expense / gender_transacts).reindex(['M','F','O']).plot(kind = 'bar',rot = 0)\n",
    "plt.title('Average Transaction Value Per Gender')\n",
    "plt.xlabel('Gender')\n",
    "plt.ylabel('Average Transaction')\n",
    "plt.grid()\n",
    "\n",
    "plt.subplot(122)\n",
    "gender_group.total_expense.mean().reindex(['M','F','O']).plot(kind = 'bar',rot = 0)\n",
    "plt.title('Total Expense Per Gender')\n",
    "plt.xlabel('Gender')\n",
    "plt.ylabel('Total Expense')\n",
    "plt.grid()"
   ]
  },
  {
   "cell_type": "markdown",
   "id": "fd42c52b",
   "metadata": {},
   "source": [
    "As we see Femals sepnt more money on starbucks products in general and Men spent the least in both metrics."
   ]
  },
  {
   "cell_type": "code",
   "execution_count": 382,
   "id": "32977543",
   "metadata": {},
   "outputs": [
    {
     "data": {
      "image/png": "[encoded data removed]",
      "text/plain": [
       "<Figure size 1152x360 with 2 Axes>"
      ]
     },
     "metadata": {
      "needs_background": "light"
     },
     "output_type": "display_data"
    }
   ],
   "source": [
    "plt.figure(figsize = (16,5))\n",
    "\n",
    "\n",
    "plt.subplot(121)\n",
    "income_group = customers[(customers.valid == 1) & (customers.income > 0)].groupby('income')\n",
    "income_transact = income_group.total_transactions.sum()\n",
    "income_expense = income_group.total_expense.sum()\n",
    "ax = (income_expense / income_transact).reindex(range(30000,111000,10000)).plot(kind = 'line',rot = 45)\n",
    "plt.title('Average Transaction Value')\n",
    "plt.xlabel('Income')\n",
    "plt.ylabel('$')\n",
    "plt.grid()\n",
    "ax.set_ylim(0, 35)\n",
    "\n",
    "\n",
    "plt.subplot(122)\n",
    "ax = income_group.total_expense.mean().reindex(range(30000,111000,10000)).plot(kind = 'line',rot = 45)\n",
    "plt.title('Total Expense')\n",
    "plt.xlabel('Income')\n",
    "plt.ylabel('$')\n",
    "plt.grid()\n",
    "ax.set_ylim(0, 200)\n",
    "plt.show()"
   ]
  },
  {
   "cell_type": "markdown",
   "id": "aba3e8b9",
   "metadata": {},
   "source": [
    "Expenses and average transaction value grow as the income grows."
   ]
  },
  {
   "cell_type": "code",
   "execution_count": 385,
   "id": "e83283db",
   "metadata": {},
   "outputs": [
    {
     "data": {
      "text/plain": [
       "Text(0, 0.5, '$')"
      ]
     },
     "execution_count": 385,
     "metadata": {},
     "output_type": "execute_result"
    },
    {
     "data": {
      "image/png": "[encoded data removed]",
      "text/plain": [
       "<Figure size 1152x360 with 2 Axes>"
      ]
     },
     "metadata": {
      "needs_background": "light"
     },
     "output_type": "display_data"
    }
   ],
   "source": [
    "plt.figure(figsize = (16,5))\n",
    "\n",
    "plt.subplot(121)\n",
    "age_group = customers[(customers.valid == 1) & (customers.income_group > 0)].groupby('age_group')\n",
    "transact_group = age_group.total_transactions.sum()\n",
    "expense_group = age_group.total_expense.sum()\n",
    "ax = (expense_group / transact_group).reindex(range(15,96,10)).plot(kind = 'line',rot = 45)\n",
    "plt.title('Average Transaction per Age')\n",
    "ax.set_ylim(0,20)\n",
    "plt.grid(True)\n",
    "plt.xlabel(\"Age\")\n",
    "plt.ylabel('$')\n",
    "\n",
    "\n",
    "plt.subplot(122)\n",
    "ax = age_group.total_expense.mean().reindex(range(15,96,10)).plot(kind = 'line',rot = 45)\n",
    "plt.title('Total Expense per Age')\n",
    "ax.set_ylim(0,140)\n",
    "plt.grid(True)\n",
    "plt.xlabel(\"Age\")\n",
    "plt.ylabel('$')"
   ]
  },
  {
   "cell_type": "markdown",
   "id": "86802628",
   "metadata": {},
   "source": [
    "As we see like the plot above as people get older the values of thier transaction and total expense increases.This might be to the fact that there is a direct correlation between age and income."
   ]
  },
  {
   "cell_type": "code",
   "execution_count": 426,
   "id": "3e99c59c",
   "metadata": {},
   "outputs": [],
   "source": [
    "def plot_distplot(df,col):\n",
    "    mean = scipy.mean(df[col])\n",
    "    median = scipy.median(df[col])\n",
    "    plt.figure(figsize = (8,8))\n",
    "    sns.distplot(df[col])\n",
    "    plt.axvline(mean,color = 'r' , label = 'mean')\n",
    "    plt.axvline(median,color = 'b' , label = 'median')\n",
    "    plt.legend()"
   ]
  },
  {
   "cell_type": "code",
   "execution_count": null,
   "id": "1aa8bbcc",
   "metadata": {},
   "outputs": [],
   "source": []
  },
  {
   "cell_type": "code",
   "execution_count": 427,
   "id": "9dc3f72a",
   "metadata": {},
   "outputs": [
    {
     "name": "stderr",
     "output_type": "stream",
     "text": [
      "C:\\Users\\Ahmad Abd Elhameed\\Anaconda3\\envs\\nlp\\lib\\site-packages\\seaborn\\distributions.py:2619: FutureWarning: `distplot` is a deprecated function and will be removed in a future version. Please adapt your code to use either `displot` (a figure-level function with similar flexibility) or `histplot` (an axes-level function for histograms).\n",
      "  warnings.warn(msg, FutureWarning)\n"
     ]
    },
    {
     "data": {
      "image/png": "[encoded data removed]",
      "text/plain": [
       "<Figure size 576x576 with 1 Axes>"
      ]
     },
     "metadata": {
      "needs_background": "light"
     },
     "output_type": "display_data"
    }
   ],
   "source": [
    "plot_distplot(df, 'age')"
   ]
  },
  {
   "cell_type": "markdown",
   "id": "12353d41",
   "metadata": {},
   "source": [
    "There are total 84 different ages, so binning them."
   ]
  },
  {
   "cell_type": "code",
   "execution_count": 429,
   "id": "a70951ed",
   "metadata": {},
   "outputs": [],
   "source": [
    "age_bins = [0,10,20,30,40,50,60,70,80,90,100,110]\n",
    "age_labels = [1,2,3,4,5,6,7,8,9,10,11]\n",
    "df['binned_age'] = pd.cut(df['age'], bins=age_bins, labels=age_labels)"
   ]
  },
  {
   "cell_type": "code",
   "execution_count": 428,
   "id": "56e1bbfa",
   "metadata": {
    "scrolled": false
   },
   "outputs": [
    {
     "name": "stderr",
     "output_type": "stream",
     "text": [
      "C:\\Users\\Ahmad Abd Elhameed\\Anaconda3\\envs\\nlp\\lib\\site-packages\\seaborn\\distributions.py:2619: FutureWarning: `distplot` is a deprecated function and will be removed in a future version. Please adapt your code to use either `displot` (a figure-level function with similar flexibility) or `histplot` (an axes-level function for histograms).\n",
      "  warnings.warn(msg, FutureWarning)\n"
     ]
    },
    {
     "data": {
      "image/png": "[encoded data removed]",
      "text/plain": [
       "<Figure size 576x576 with 1 Axes>"
      ]
     },
     "metadata": {
      "needs_background": "light"
     },
     "output_type": "display_data"
    }
   ],
   "source": [
    "plot_distplot(df, 'income')"
   ]
  },
  {
   "cell_type": "code",
   "execution_count": 430,
   "id": "60ebbcea",
   "metadata": {},
   "outputs": [],
   "source": [
    "income_bins = [10000,20000,30000,40000,50000,60000,70000,80000,90000,100000,110000,120000,130000]\n",
    "income_labels = [2,3,4,5,6,7,8,9,10,11,12,13]\n",
    "df['binned_income'] = pd.cut(df['income'], bins=income_bins, labels=income_labels)"
   ]
  },
  {
   "cell_type": "code",
   "execution_count": 431,
   "id": "5305447a",
   "metadata": {},
   "outputs": [
    {
     "name": "stderr",
     "output_type": "stream",
     "text": [
      "C:\\Users\\Ahmad Abd Elhameed\\Anaconda3\\envs\\nlp\\lib\\site-packages\\seaborn\\distributions.py:2619: FutureWarning: `distplot` is a deprecated function and will be removed in a future version. Please adapt your code to use either `displot` (a figure-level function with similar flexibility) or `histplot` (an axes-level function for histograms).\n",
      "  warnings.warn(msg, FutureWarning)\n"
     ]
    },
    {
     "data": {
      "image/png": "[encoded data removed]",
      "text/plain": [
       "<Figure size 576x576 with 1 Axes>"
      ]
     },
     "metadata": {
      "needs_background": "light"
     },
     "output_type": "display_data"
    }
   ],
   "source": [
    "plot_distplot(df, 'time')"
   ]
  },
  {
   "cell_type": "code",
   "execution_count": 432,
   "id": "103537a6",
   "metadata": {},
   "outputs": [
    {
     "name": "stderr",
     "output_type": "stream",
     "text": [
      "C:\\Users\\Ahmad Abd Elhameed\\Anaconda3\\envs\\nlp\\lib\\site-packages\\seaborn\\distributions.py:2619: FutureWarning: `distplot` is a deprecated function and will be removed in a future version. Please adapt your code to use either `displot` (a figure-level function with similar flexibility) or `histplot` (an axes-level function for histograms).\n",
      "  warnings.warn(msg, FutureWarning)\n"
     ]
    },
    {
     "data": {
      "image/png": "[encoded data removed]",
      "text/plain": [
       "<Figure size 576x576 with 1 Axes>"
      ]
     },
     "metadata": {
      "needs_background": "light"
     },
     "output_type": "display_data"
    }
   ],
   "source": [
    "plot_distplot(df,'amount')"
   ]
  },
  {
   "cell_type": "code",
   "execution_count": 433,
   "id": "a9e6cdf5",
   "metadata": {},
   "outputs": [
    {
     "name": "stderr",
     "output_type": "stream",
     "text": [
      "C:\\Users\\Ahmad Abd Elhameed\\Anaconda3\\envs\\nlp\\lib\\site-packages\\seaborn\\distributions.py:2619: FutureWarning: `distplot` is a deprecated function and will be removed in a future version. Please adapt your code to use either `displot` (a figure-level function with similar flexibility) or `histplot` (an axes-level function for histograms).\n",
      "  warnings.warn(msg, FutureWarning)\n"
     ]
    },
    {
     "data": {
      "image/png": "[encoded data removed]",
      "text/plain": [
       "<Figure size 576x576 with 1 Axes>"
      ]
     },
     "metadata": {
      "needs_background": "light"
     },
     "output_type": "display_data"
    }
   ],
   "source": [
    "plot_distplot(df, 'amount')"
   ]
  },
  {
   "cell_type": "code",
   "execution_count": 435,
   "id": "9ea8c15a",
   "metadata": {},
   "outputs": [],
   "source": [
    "df['year'] = pd.DatetimeIndex(df['became_member_on']).year\n",
    "df['month'] = pd.DatetimeIndex(df['became_member_on']).month"
   ]
  },
  {
   "cell_type": "markdown",
   "id": "040e06d3",
   "metadata": {},
   "source": [
    "**To classify new customer wheter he/she will respond to offer or not,\n",
    "we will not have event, time and amount for new customer. So dropping these for training the model**"
   ]
  },
  {
   "cell_type": "markdown",
   "id": "8753a6f7",
   "metadata": {},
   "source": [
    "## Univariate Analysis\n",
    "#### a. Distplot\n",
    "##### To get frequency distributions"
   ]
  },
  {
   "cell_type": "code",
   "execution_count": 437,
   "id": "3ef44e46",
   "metadata": {},
   "outputs": [
    {
     "data": {
      "text/plain": [
       "Index(['customer_id', 'event', 'time', 'offer_id', 'amount',\n",
       "       'event_offer_completed', 'event_offer_received', 'event_offer_viewed',\n",
       "       'event_transaction', 'gender', 'age', 'became_member_on', 'income',\n",
       "       'valid', 'gender_F', 'gender_M', 'gender_O', 'reward', 'difficulty',\n",
       "       'duration', 'offer_type', 'channel_email', 'channel_mobile',\n",
       "       'channel_social', 'channel_web', 'bogo', 'discount', 'informational',\n",
       "       'binned_age', 'binned_income', 'year', 'month'],\n",
       "      dtype='object')"
      ]
     },
     "execution_count": 437,
     "metadata": {},
     "output_type": "execute_result"
    }
   ],
   "source": [
    "df.columns"
   ]
  },
  {
   "cell_type": "code",
   "execution_count": 436,
   "id": "b06f7d0a",
   "metadata": {},
   "outputs": [],
   "source": [
    "quant_columns = ['time', 'amount']\n",
    "mapped_columns = ['gender', 'event', 'offer_id', 'offer_type']"
   ]
  },
  {
   "cell_type": "code",
   "execution_count": 447,
   "id": "71566d36",
   "metadata": {},
   "outputs": [],
   "source": [
    "non_mapped_columns = ['duration', 'difficulty', 'reward', 'channel_email', 'channel_mobile', 'channel_social', 'channel_web',\n",
    "                      'binned_age', 'binned_income', 'year', 'month']"
   ]
  },
  {
   "cell_type": "code",
   "execution_count": 439,
   "id": "31e70910",
   "metadata": {},
   "outputs": [
    {
     "name": "stderr",
     "output_type": "stream",
     "text": [
      "C:\\Users\\Ahmad Abd Elhameed\\Anaconda3\\envs\\nlp\\lib\\site-packages\\seaborn\\distributions.py:2619: FutureWarning: `distplot` is a deprecated function and will be removed in a future version. Please adapt your code to use either `displot` (a figure-level function with similar flexibility) or `histplot` (an axes-level function for histograms).\n",
      "  warnings.warn(msg, FutureWarning)\n",
      "C:\\Users\\Ahmad Abd Elhameed\\Anaconda3\\envs\\nlp\\lib\\site-packages\\seaborn\\distributions.py:2619: FutureWarning: `distplot` is a deprecated function and will be removed in a future version. Please adapt your code to use either `displot` (a figure-level function with similar flexibility) or `histplot` (an axes-level function for histograms).\n",
      "  warnings.warn(msg, FutureWarning)\n"
     ]
    },
    {
     "data": {
      "image/png": "[encoded data removed]",
      "text/plain": [
       "<Figure size 576x576 with 1 Axes>"
      ]
     },
     "metadata": {
      "needs_background": "light"
     },
     "output_type": "display_data"
    },
    {
     "data": {
      "image/png": "[encoded data removed]",
      "text/plain": [
       "<Figure size 576x576 with 1 Axes>"
      ]
     },
     "metadata": {
      "needs_background": "light"
     },
     "output_type": "display_data"
    }
   ],
   "source": [
    "for col in quant_columns:\n",
    "    plot_distplot(df, col)"
   ]
  },
  {
   "cell_type": "markdown",
   "id": "3cd1308b",
   "metadata": {},
   "source": [
    "Insights: amount has some outlier."
   ]
  },
  {
   "cell_type": "code",
   "execution_count": 445,
   "id": "19179966",
   "metadata": {},
   "outputs": [
    {
     "data": {
      "image/png": "[encoded data removed]",
      "text/plain": [
       "<Figure size 432x288 with 1 Axes>"
      ]
     },
     "metadata": {
      "needs_background": "light"
     },
     "output_type": "display_data"
    },
    {
     "data": {
      "image/png": "[encoded data removed]",
      "text/plain": [
       "<Figure size 432x288 with 1 Axes>"
      ]
     },
     "metadata": {
      "needs_background": "light"
     },
     "output_type": "display_data"
    },
    {
     "data": {
      "image/png": "[encoded data removed]",
      "text/plain": [
       "<Figure size 432x288 with 1 Axes>"
      ]
     },
     "metadata": {
      "needs_background": "light"
     },
     "output_type": "display_data"
    },
    {
     "data": {
      "image/png": "[encoded data removed]",
      "text/plain": [
       "<Figure size 432x288 with 1 Axes>"
      ]
     },
     "metadata": {
      "needs_background": "light"
     },
     "output_type": "display_data"
    }
   ],
   "source": [
    "for col in mapped_columns:\n",
    "    base_color = sns.color_palette()[0]\n",
    "    ax = sns.countplot(x = df[col], color= base_color)\n",
    "    plt.show()"
   ]
  },
  {
   "cell_type": "markdown",
   "id": "efb1d754",
   "metadata": {},
   "source": [
    "Insights: There are more male who use the app than female.\n",
    "Very few complete the offer and most of the app user does not recieve offers"
   ]
  },
  {
   "cell_type": "code",
   "execution_count": 448,
   "id": "1a3498ca",
   "metadata": {
    "scrolled": false
   },
   "outputs": [
    {
     "data": {
      "image/png": "[encoded data removed]",
      "text/plain": [
       "<Figure size 360x360 with 1 Axes>"
      ]
     },
     "metadata": {
      "needs_background": "light"
     },
     "output_type": "display_data"
    },
    {
     "data": {
      "image/png": "[encoded data removed]",
      "text/plain": [
       "<Figure size 360x360 with 1 Axes>"
      ]
     },
     "metadata": {
      "needs_background": "light"
     },
     "output_type": "display_data"
    },
    {
     "data": {
      "image/png": "[encoded data removed]",
      "text/plain": [
       "<Figure size 360x360 with 1 Axes>"
      ]
     },
     "metadata": {
      "needs_background": "light"
     },
     "output_type": "display_data"
    },
    {
     "data": {
      "image/png": "[encoded data removed]",
      "text/plain": [
       "<Figure size 360x360 with 1 Axes>"
      ]
     },
     "metadata": {
      "needs_background": "light"
     },
     "output_type": "display_data"
    },
    {
     "data": {
      "image/png": "[encoded data removed]",
      "text/plain": [
       "<Figure size 360x360 with 1 Axes>"
      ]
     },
     "metadata": {
      "needs_background": "light"
     },
     "output_type": "display_data"
    },
    {
     "data": {
      "image/png": "[encoded data removed]",
      "text/plain": [
       "<Figure size 360x360 with 1 Axes>"
      ]
     },
     "metadata": {
      "needs_background": "light"
     },
     "output_type": "display_data"
    },
    {
     "data": {
      "image/png": "[encoded data removed]",
      "text/plain": [
       "<Figure size 360x360 with 1 Axes>"
      ]
     },
     "metadata": {
      "needs_background": "light"
     },
     "output_type": "display_data"
    },
    {
     "data": {
      "image/png": "[encoded data removed]",
      "text/plain": [
       "<Figure size 360x360 with 1 Axes>"
      ]
     },
     "metadata": {
      "needs_background": "light"
     },
     "output_type": "display_data"
    },
    {
     "data": {
      "image/png": "[encoded data removed]",
      "text/plain": [
       "<Figure size 360x360 with 1 Axes>"
      ]
     },
     "metadata": {
      "needs_background": "light"
     },
     "output_type": "display_data"
    },
    {
     "data": {
      "image/png": "[encoded data removed]",
      "text/plain": [
       "<Figure size 360x360 with 1 Axes>"
      ]
     },
     "metadata": {
      "needs_background": "light"
     },
     "output_type": "display_data"
    },
    {
     "data": {
      "image/png": "[encoded data removed]",
      "text/plain": [
       "<Figure size 360x360 with 1 Axes>"
      ]
     },
     "metadata": {
      "needs_background": "light"
     },
     "output_type": "display_data"
    }
   ],
   "source": [
    "for col in non_mapped_columns:\n",
    "    base_color = sns.color_palette()[0]\n",
    "    sns.catplot(x=col, kind=\"count\", color= base_color, data=df)"
   ]
  },
  {
   "cell_type": "markdown",
   "id": "4ab91b3d",
   "metadata": {},
   "source": [
    "Insight: Very few people respond to offer, that is, completes the offer."
   ]
  },
  {
   "cell_type": "code",
   "execution_count": null,
   "id": "680727cc",
   "metadata": {},
   "outputs": [],
   "source": []
  }
 ],
 "metadata": {
  "kernelspec": {
   "display_name": "Python 3",
   "language": "python",
   "name": "python3"
  },
  "language_info": {
   "codemirror_mode": {
    "name": "ipython",
    "version": 3
   },
   "file_extension": ".py",
   "mimetype": "text/x-python",
   "name": "python",
   "nbconvert_exporter": "python",
   "pygments_lexer": "ipython3",
   "version": "3.6.9"
  }
 },
 "nbformat": 4,
 "nbformat_minor": 5
}
